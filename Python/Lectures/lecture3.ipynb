{
 "cells": [
  {
   "cell_type": "markdown",
   "id": "2cba0e12",
   "metadata": {},
   "source": [
    "# Lesson 3\n",
    "\n",
    "## Overview\n",
    "\n",
    "- Tricks for functions\n",
    "- - Lambda functions\n",
    "- - Composing functions\n",
    "\n",
    "- Tricks for lists\n",
    "- - Syntactic sugar\n",
    "- - `sorted()`\n",
    "- - `zip()`\n",
    "- - `any()` and `all()`\n",
    "\n",
    "- Tricks for strings\n",
    "- - `lower()`\n",
    "- - `split()`\n",
    "- - `strip()`\n",
    "- - `startswith()`\n",
    "\n",
    "- Type casting\n",
    "\n",
    "- PA2 Review"
   ]
  },
  {
   "cell_type": "markdown",
   "id": "1285271f",
   "metadata": {},
   "source": [
    "## Tricks for functions\n",
    "\n",
    "### Lambda functions\n",
    "\n",
    "Shorthand functions for simple tasks. Especially useful for sorting (will discuss soon)."
   ]
  },
  {
   "cell_type": "code",
   "execution_count": 1,
   "id": "03384025",
   "metadata": {},
   "outputs": [
    {
     "name": "stdout",
     "output_type": "stream",
     "text": [
      "18\n"
     ]
    }
   ],
   "source": [
    "sum_a_b_sq = lambda a, b: a + b ** 2\n",
    "print(sum_a_b_sq(2, 4))"
   ]
  },
  {
   "cell_type": "markdown",
   "id": "8f860603",
   "metadata": {},
   "source": [
    "### Composing functions\n",
    "\n",
    "Apply multiple functions in one line. Notice *, which unpacks the list (** unpacks a dictionary)."
   ]
  },
  {
   "cell_type": "code",
   "execution_count": 2,
   "id": "4ef85f06",
   "metadata": {},
   "outputs": [
    {
     "name": "stdout",
     "output_type": "stream",
     "text": [
      "2986000\n"
     ]
    }
   ],
   "source": [
    "a_sq_b_cubed = lambda a, b: (a ** 2, b ** 3)\n",
    "print(sum_a_b_sq(*a_sq_b_cubed(4, 12)))"
   ]
  },
  {
   "cell_type": "code",
   "execution_count": 4,
   "id": "5dc7f00b",
   "metadata": {},
   "outputs": [
    {
     "data": {
      "text/plain": [
       "(16, 1728)"
      ]
     },
     "execution_count": 4,
     "metadata": {},
     "output_type": "execute_result"
    }
   ],
   "source": [
    "a_sq_b_cubed(4, 12)"
   ]
  },
  {
   "cell_type": "code",
   "execution_count": 3,
   "id": "a92c1001",
   "metadata": {},
   "outputs": [
    {
     "ename": "SyntaxError",
     "evalue": "can't use starred expression here (2410165554.py, line 1)",
     "output_type": "error",
     "traceback": [
      "\u001b[0;36m  Input \u001b[0;32mIn [3]\u001b[0;36m\u001b[0m\n\u001b[0;31m    *a_sq_b_cubed(4, 12)\u001b[0m\n\u001b[0m    ^\u001b[0m\n\u001b[0;31mSyntaxError\u001b[0m\u001b[0;31m:\u001b[0m can't use starred expression here\n"
     ]
    }
   ],
   "source": [
    "*a_sq_b_cubed(4, 12)"
   ]
  },
  {
   "cell_type": "code",
   "execution_count": 14,
   "id": "ff6ea642",
   "metadata": {},
   "outputs": [
    {
     "ename": "SyntaxError",
     "evalue": "non-default argument follows default argument (1961358567.py, line 1)",
     "output_type": "error",
     "traceback": [
      "\u001b[0;36m  Input \u001b[0;32mIn [14]\u001b[0;36m\u001b[0m\n\u001b[0;31m    def print_name(first_name, middle_name='', last_name):\u001b[0m\n\u001b[0m                                               ^\u001b[0m\n\u001b[0;31mSyntaxError\u001b[0m\u001b[0;31m:\u001b[0m non-default argument follows default argument\n"
     ]
    }
   ],
   "source": [
    "def print_name(first_name, last_name, middle_name=''):\n",
    "    print(first_name, middle_name, last_name)\n",
    "\n",
    "print_name(first_name='Adam', middle_name='Alexander', last_name='Oppenheimer')\n",
    "print_name(**{'first_name': 'Adam', 'middle_name': 'Alexander', 'last_name': 'Oppenheimer'})"
   ]
  },
  {
   "cell_type": "code",
   "execution_count": 15,
   "id": "75ee145e",
   "metadata": {},
   "outputs": [
    {
     "ename": "SyntaxError",
     "evalue": "non-default argument follows default argument (4160617308.py, line 1)",
     "output_type": "error",
     "traceback": [
      "\u001b[0;36m  Input \u001b[0;32mIn [15]\u001b[0;36m\u001b[0m\n\u001b[0;31m    def print_name(first_name, middle_name='', last_name):\u001b[0m\n\u001b[0m                                               ^\u001b[0m\n\u001b[0;31mSyntaxError\u001b[0m\u001b[0;31m:\u001b[0m non-default argument follows default argument\n"
     ]
    }
   ],
   "source": [
    "def print_name(first_name, middle_name='', last_name):\n",
    "    print(first_name, middle_name, last_name)"
   ]
  },
  {
   "cell_type": "markdown",
   "id": "b4e2fcf7",
   "metadata": {},
   "source": [
    "## Tricks for lists\n",
    "\n",
    "### Syntactic sugar\n",
    "\n",
    "Super convenient way to create lists (also works for dictionaries and tuples)."
   ]
  },
  {
   "cell_type": "code",
   "execution_count": 17,
   "id": "5a223636",
   "metadata": {},
   "outputs": [
    {
     "name": "stdout",
     "output_type": "stream",
     "text": [
      "[0, 1, 2, 3, 4]\n"
     ]
    }
   ],
   "source": [
    "lst = []\n",
    "for a in range(5):\n",
    "    lst.append(a)\n",
    "print(lst)"
   ]
  },
  {
   "cell_type": "code",
   "execution_count": 16,
   "id": "33bc603a",
   "metadata": {},
   "outputs": [
    {
     "data": {
      "text/plain": [
       "[0, 1, 2, 3, 4]"
      ]
     },
     "execution_count": 16,
     "metadata": {},
     "output_type": "execute_result"
    }
   ],
   "source": [
    "[a for a in range(5)]"
   ]
  },
  {
   "cell_type": "code",
   "execution_count": 18,
   "id": "46987b51",
   "metadata": {},
   "outputs": [
    {
     "data": {
      "text/plain": [
       "[0, 1.0, 2, 0.3333333333333333, 4]"
      ]
     },
     "execution_count": 18,
     "metadata": {},
     "output_type": "execute_result"
    }
   ],
   "source": [
    "[a if (a % 2 == 0) else 1 / a for a in range(5)]"
   ]
  },
  {
   "cell_type": "code",
   "execution_count": 19,
   "id": "50016e9d",
   "metadata": {},
   "outputs": [
    {
     "data": {
      "text/plain": [
       "[0, 1, 2, 4]"
      ]
     },
     "execution_count": 19,
     "metadata": {},
     "output_type": "execute_result"
    }
   ],
   "source": [
    "[a for a in range(5) if a != 3]"
   ]
  },
  {
   "cell_type": "code",
   "execution_count": 21,
   "id": "2847e67b",
   "metadata": {},
   "outputs": [
    {
     "data": {
      "text/plain": [
       "[0, 1.0, 0.3333333333333333, 4]"
      ]
     },
     "execution_count": 21,
     "metadata": {},
     "output_type": "execute_result"
    }
   ],
   "source": [
    "[a if (a % 2 == 0) else 1 / a for a in range(5) if a != 2]"
   ]
  },
  {
   "cell_type": "markdown",
   "id": "386a1985",
   "metadata": {},
   "source": [
    "Can even nest syntactic sugar. Notice you order the for loops in the same order as if you were writing out the full loops."
   ]
  },
  {
   "cell_type": "code",
   "execution_count": 22,
   "id": "368d1384",
   "metadata": {},
   "outputs": [
    {
     "data": {
      "text/plain": [
       "[(0, 0), (0, 1), (1, 0), (1, 1), (2, 0), (2, 1)]"
      ]
     },
     "execution_count": 22,
     "metadata": {},
     "output_type": "execute_result"
    }
   ],
   "source": [
    "[(i, j) for i in range(3) for j in range(2)]"
   ]
  },
  {
   "cell_type": "code",
   "execution_count": 23,
   "id": "0d471fd8",
   "metadata": {},
   "outputs": [
    {
     "data": {
      "text/plain": [
       "[(1, 0), (2, 0), (2, 1)]"
      ]
     },
     "execution_count": 23,
     "metadata": {},
     "output_type": "execute_result"
    }
   ],
   "source": [
    "[(i, j) for i in range(3) for j in range(i)]"
   ]
  },
  {
   "cell_type": "markdown",
   "id": "a76b4b03",
   "metadata": {},
   "source": [
    "Be careful about some weird behavior with syntactic sugar (this can also happen with regular loops) (see https://stackoverflow.com/questions/3431676/creating-functions-or-lambdas-in-a-loop-or-comprehension)."
   ]
  },
  {
   "cell_type": "markdown",
   "id": "654bc30d",
   "metadata": {},
   "source": [
    "### `sorted()`\n",
    "\n",
    "Sort a list and specify the key. Notice the lambda functions to set the key for sorting."
   ]
  },
  {
   "cell_type": "code",
   "execution_count": 24,
   "id": "f5eef7d0",
   "metadata": {},
   "outputs": [
    {
     "data": {
      "text/plain": [
       "[('a', 1), ('d', 4), ('r', 2)]"
      ]
     },
     "execution_count": 24,
     "metadata": {},
     "output_type": "execute_result"
    }
   ],
   "source": [
    "sorted([('d', 4), ('a', 1), ('r', 2)], key=lambda a: a[0])"
   ]
  },
  {
   "cell_type": "code",
   "execution_count": 25,
   "id": "89d9d00d",
   "metadata": {},
   "outputs": [
    {
     "data": {
      "text/plain": [
       "[('a', 1), ('r', 2), ('d', 4)]"
      ]
     },
     "execution_count": 25,
     "metadata": {},
     "output_type": "execute_result"
    }
   ],
   "source": [
    "sorted([('d', 4), ('a', 1), ('r', 2)], key=lambda a: a[1])"
   ]
  },
  {
   "cell_type": "markdown",
   "id": "1351b386",
   "metadata": {},
   "source": [
    "### `zip()`\n",
    "\n",
    "Combine two lists element by element. Make sure to convert to a list for PA3."
   ]
  },
  {
   "cell_type": "code",
   "execution_count": 26,
   "id": "96ec7294",
   "metadata": {},
   "outputs": [
    {
     "data": {
      "text/plain": [
       "[(0, 5), (1, 4), (2, 3), (3, 2), (4, 1)]"
      ]
     },
     "execution_count": 26,
     "metadata": {},
     "output_type": "execute_result"
    }
   ],
   "source": [
    "list(zip(range(0, 5), range(5, 0, -1)))"
   ]
  },
  {
   "cell_type": "markdown",
   "id": "5a96063e",
   "metadata": {},
   "source": [
    "Make sure the lists are the same length! They'll zip even if they aren't!"
   ]
  },
  {
   "cell_type": "code",
   "execution_count": 36,
   "id": "513d2107",
   "metadata": {},
   "outputs": [
    {
     "data": {
      "text/plain": [
       "[(0, 5), (1, 4), (2, 3), (3, 2), (4, 1)]"
      ]
     },
     "execution_count": 36,
     "metadata": {},
     "output_type": "execute_result"
    }
   ],
   "source": [
    "list(zip(range(0, 7), range(5, 0, -1)))"
   ]
  },
  {
   "cell_type": "code",
   "execution_count": 28,
   "id": "fb5ec749",
   "metadata": {},
   "outputs": [
    {
     "name": "stdout",
     "output_type": "stream",
     "text": [
      "(0, 5)\n",
      "(1, 4)\n",
      "(2, 3)\n",
      "(3, 2)\n",
      "(4, 1)\n"
     ]
    }
   ],
   "source": [
    "for i in zip(range(0, 5), range(5, 0, -1)):\n",
    "    print(i)"
   ]
  },
  {
   "cell_type": "code",
   "execution_count": 34,
   "id": "9cf62306",
   "metadata": {},
   "outputs": [
    {
     "name": "stdout",
     "output_type": "stream",
     "text": [
      "(0, 5)\n",
      "(1, 4)\n"
     ]
    },
    {
     "ename": "TypeError",
     "evalue": "'zip' object is not subscriptable",
     "output_type": "error",
     "traceback": [
      "\u001b[0;31m---------------------------------------------------------------------------\u001b[0m",
      "\u001b[0;31mTypeError\u001b[0m                                 Traceback (most recent call last)",
      "Input \u001b[0;32mIn [34]\u001b[0m, in \u001b[0;36m<cell line: 8>\u001b[0;34m()\u001b[0m\n\u001b[1;32m      6\u001b[0m     \u001b[38;5;28mprint\u001b[39m(elmt)\n\u001b[1;32m      7\u001b[0m     \u001b[38;5;28;01mbreak\u001b[39;00m\n\u001b[0;32m----> 8\u001b[0m \u001b[38;5;28mprint\u001b[39m(\u001b[43mzipped_lst\u001b[49m\u001b[43m[\u001b[49m\u001b[38;5;241;43m0\u001b[39;49m\u001b[43m]\u001b[49m)\n",
      "\u001b[0;31mTypeError\u001b[0m: 'zip' object is not subscriptable"
     ]
    }
   ],
   "source": [
    "zipped_lst = zip(range(0, 5), range(5, 0, -1))\n",
    "for elmt in zipped_lst:\n",
    "    print(elmt)\n",
    "    break\n",
    "for elmt in zipped_lst:\n",
    "    print(elmt)\n",
    "    break\n",
    "print(zipped_lst[0])"
   ]
  },
  {
   "cell_type": "markdown",
   "id": "b1801b98",
   "metadata": {},
   "source": [
    "### `any()` and `all()`\n",
    "\n",
    "`any()`: check whether any element of a list is True.\n",
    "\n",
    "`all()`: check whether all elements of a list are True."
   ]
  },
  {
   "cell_type": "code",
   "execution_count": 37,
   "id": "4f579f70",
   "metadata": {},
   "outputs": [
    {
     "data": {
      "text/plain": [
       "True"
      ]
     },
     "execution_count": 37,
     "metadata": {},
     "output_type": "execute_result"
    }
   ],
   "source": [
    "any([True, True, False])"
   ]
  },
  {
   "cell_type": "code",
   "execution_count": 38,
   "id": "32b90f47",
   "metadata": {},
   "outputs": [
    {
     "data": {
      "text/plain": [
       "False"
      ]
     },
     "execution_count": 38,
     "metadata": {},
     "output_type": "execute_result"
    }
   ],
   "source": [
    "any([False, False, False])"
   ]
  },
  {
   "cell_type": "code",
   "execution_count": 39,
   "id": "30491595",
   "metadata": {},
   "outputs": [
    {
     "data": {
      "text/plain": [
       "False"
      ]
     },
     "execution_count": 39,
     "metadata": {},
     "output_type": "execute_result"
    }
   ],
   "source": [
    "all([True, True, False])"
   ]
  },
  {
   "cell_type": "code",
   "execution_count": 40,
   "id": "dcd762ba",
   "metadata": {},
   "outputs": [
    {
     "data": {
      "text/plain": [
       "True"
      ]
     },
     "execution_count": 40,
     "metadata": {},
     "output_type": "execute_result"
    }
   ],
   "source": [
    "all([True, True, True])"
   ]
  },
  {
   "cell_type": "markdown",
   "id": "ea73f29f",
   "metadata": {},
   "source": [
    "## Tricks for strings\n",
    "\n",
    "### `lower()`\n",
    "\n",
    "Convert text to lowercase."
   ]
  },
  {
   "cell_type": "code",
   "execution_count": 41,
   "id": "71396a76",
   "metadata": {},
   "outputs": [
    {
     "data": {
      "text/plain": [
       "'hello'"
      ]
     },
     "execution_count": 41,
     "metadata": {},
     "output_type": "execute_result"
    }
   ],
   "source": [
    "'HELLO'.lower()"
   ]
  },
  {
   "cell_type": "markdown",
   "id": "444a709b",
   "metadata": {},
   "source": [
    "### `split()`\n",
    "\n",
    "Split string into a list, dividing words by the specified character."
   ]
  },
  {
   "cell_type": "code",
   "execution_count": 42,
   "id": "5f87ce43",
   "metadata": {},
   "outputs": [
    {
     "data": {
      "text/plain": [
       "['Hello,', 'I', 'am', 'Adam.']"
      ]
     },
     "execution_count": 42,
     "metadata": {},
     "output_type": "execute_result"
    }
   ],
   "source": [
    "'Hello, I am Adam.'.split(' ')"
   ]
  },
  {
   "cell_type": "code",
   "execution_count": 43,
   "id": "bec371f3",
   "metadata": {},
   "outputs": [
    {
     "data": {
      "text/plain": [
       "['Hello, I a', ' Ada', '.']"
      ]
     },
     "execution_count": 43,
     "metadata": {},
     "output_type": "execute_result"
    }
   ],
   "source": [
    "'Hello, I am Adam.'.split('m')"
   ]
  },
  {
   "cell_type": "markdown",
   "id": "acc1c326",
   "metadata": {},
   "source": [
    "### `strip()`\n",
    "\n",
    "Remove the specified characters from the start and end of a string."
   ]
  },
  {
   "cell_type": "code",
   "execution_count": 45,
   "id": "d4778605",
   "metadata": {},
   "outputs": [
    {
     "data": {
      "text/plain": [
       "'efgabcdef'"
      ]
     },
     "execution_count": 45,
     "metadata": {},
     "output_type": "execute_result"
    }
   ],
   "source": [
    "'abcdefgabcdefg'.strip('bacdg')"
   ]
  },
  {
   "cell_type": "markdown",
   "id": "561a907b",
   "metadata": {},
   "source": [
    "### `startswith()`\n",
    "\n",
    "Check whether the string starts with the specified string."
   ]
  },
  {
   "cell_type": "code",
   "execution_count": 46,
   "id": "510866f4",
   "metadata": {},
   "outputs": [
    {
     "data": {
      "text/plain": [
       "True"
      ]
     },
     "execution_count": 46,
     "metadata": {},
     "output_type": "execute_result"
    }
   ],
   "source": [
    "'hello'.startswith('he')"
   ]
  },
  {
   "cell_type": "code",
   "execution_count": 47,
   "id": "9603c361",
   "metadata": {},
   "outputs": [
    {
     "data": {
      "text/plain": [
       "False"
      ]
     },
     "execution_count": 47,
     "metadata": {},
     "output_type": "execute_result"
    }
   ],
   "source": [
    "'hello'.startswith('hen')"
   ]
  },
  {
   "cell_type": "markdown",
   "id": "b4173948",
   "metadata": {},
   "source": [
    "### Type casting\n",
    "\n",
    "Convert between types by writing the name of the type you want to convert to and using the name as if it is a function."
   ]
  },
  {
   "cell_type": "code",
   "execution_count": 48,
   "id": "3e89a3af",
   "metadata": {},
   "outputs": [
    {
     "name": "stdout",
     "output_type": "stream",
     "text": [
      "1.0\n",
      "1\n"
     ]
    }
   ],
   "source": [
    "val = 1.0\n",
    "print(val)\n",
    "print(int(val))"
   ]
  },
  {
   "cell_type": "code",
   "execution_count": 49,
   "id": "024b9b8e",
   "metadata": {},
   "outputs": [
    {
     "name": "stdout",
     "output_type": "stream",
     "text": [
      "[1, 2, 3]\n",
      "(1, 2, 3)\n"
     ]
    }
   ],
   "source": [
    "lst = [1, 2, 3]\n",
    "print(lst)\n",
    "print(tuple(lst))"
   ]
  },
  {
   "cell_type": "code",
   "execution_count": 50,
   "id": "3861aad9",
   "metadata": {},
   "outputs": [
    {
     "name": "stdout",
     "output_type": "stream",
     "text": [
      "<zip object at 0x7fd818792d80>\n",
      "[(0, 5), (1, 4), (2, 3), (3, 2), (4, 1)]\n"
     ]
    }
   ],
   "source": [
    "print(zip(range(0, 5), range(5, 0, -1)))\n",
    "print(list(zip(range(0, 5), range(5, 0, -1))))"
   ]
  },
  {
   "cell_type": "markdown",
   "id": "7d581d9f",
   "metadata": {},
   "source": [
    "## PA2 review\n",
    "\n",
    "Quickly review my solution"
   ]
  }
 ],
 "metadata": {
  "kernelspec": {
   "display_name": "Python 3 (ipykernel)",
   "language": "python",
   "name": "python3"
  },
  "language_info": {
   "codemirror_mode": {
    "name": "ipython",
    "version": 3
   },
   "file_extension": ".py",
   "mimetype": "text/x-python",
   "name": "python",
   "nbconvert_exporter": "python",
   "pygments_lexer": "ipython3",
   "version": "3.10.4"
  }
 },
 "nbformat": 4,
 "nbformat_minor": 5
}
