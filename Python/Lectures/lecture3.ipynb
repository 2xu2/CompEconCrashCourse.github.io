{
 "cells": [
  {
   "cell_type": "markdown",
   "id": "2cba0e12",
   "metadata": {},
   "source": [
    "# Lesson 3\n",
    "\n",
    "## Overview\n",
    "\n",
    "1. Tricks for functions\n",
    "- Lambda functions\n",
    "- `*` and `**`\n",
    "- Composing functions\n",
    "- Default argument values\n",
    "\n",
    "2. Tricks for lists\n",
    "- List comprehension\n",
    "- `sorted()`\n",
    "- `zip()`\n",
    "- `any()` and `all()`\n",
    "\n",
    "3. Tricks for strings\n",
    "- `lower()`\n",
    "- `split()`\n",
    "- `strip()`\n",
    "- `startswith()`\n",
    "\n",
    "4. Type casting\n",
    "\n",
    "5. PA2 Review"
   ]
  },
  {
   "cell_type": "markdown",
   "id": "1285271f",
   "metadata": {},
   "source": [
    "## 1. Tricks for functions\n",
    "\n",
    "### 1.1 Lambda functions\n",
    "\n",
    "Shorthand functions for simple tasks. Especially useful for sorting (will discuss soon)."
   ]
  },
  {
   "cell_type": "code",
   "execution_count": 1,
   "id": "7a1ab6bc",
   "metadata": {},
   "outputs": [],
   "source": [
    "def sum_a_b_sq(a, b):\n",
    "    return a + b ** 2"
   ]
  },
  {
   "cell_type": "code",
   "execution_count": 2,
   "id": "03384025",
   "metadata": {},
   "outputs": [
    {
     "name": "stdout",
     "output_type": "stream",
     "text": [
      "18\n"
     ]
    }
   ],
   "source": [
    "sum_a_b_sq = lambda a, b: a + b ** 2\n",
    "print(sum_a_b_sq(2, 4))"
   ]
  },
  {
   "cell_type": "markdown",
   "id": "87b9f702",
   "metadata": {},
   "source": [
    "### 1.2 `*` and `**`\n",
    "\n",
    "`*` unpacks a list - especially useful for function arguments\n",
    "\n",
    "`**` unpacks a dictionary - especially useful for function arguments\n",
    "\n",
    "Unpacking a list inside another list seems impossible at first"
   ]
  },
  {
   "cell_type": "code",
   "execution_count": 3,
   "id": "7cb1afee",
   "metadata": {},
   "outputs": [
    {
     "data": {
      "text/plain": [
       "[1, 2, [3, 4], 5]"
      ]
     },
     "execution_count": 3,
     "metadata": {},
     "output_type": "execute_result"
    }
   ],
   "source": [
    "[1, 2, [3, 4], 5]"
   ]
  },
  {
   "cell_type": "markdown",
   "id": "b9341826",
   "metadata": {},
   "source": [
    "It is possible with `*`"
   ]
  },
  {
   "cell_type": "code",
   "execution_count": 4,
   "id": "ed268d19",
   "metadata": {},
   "outputs": [
    {
     "data": {
      "text/plain": [
       "[1, 2, 3, 4, 5]"
      ]
     },
     "execution_count": 4,
     "metadata": {},
     "output_type": "execute_result"
    }
   ],
   "source": [
    "[1, 2, *[3, 4], 5]"
   ]
  },
  {
   "cell_type": "markdown",
   "id": "e939dbf9",
   "metadata": {},
   "source": [
    "Unpacking a dictionary inside another dictionary seems impossible at first"
   ]
  },
  {
   "cell_type": "code",
   "execution_count": 5,
   "id": "90868505",
   "metadata": {},
   "outputs": [
    {
     "ename": "SyntaxError",
     "evalue": "':' expected after dictionary key (192525557.py, line 1)",
     "output_type": "error",
     "traceback": [
      "\u001b[0;36m  Cell \u001b[0;32mIn[5], line 1\u001b[0;36m\u001b[0m\n\u001b[0;31m    {'a': 1, 'b': 2, {'c': 3, 'd': 4}}\u001b[0m\n\u001b[0m                                    ^\u001b[0m\n\u001b[0;31mSyntaxError\u001b[0m\u001b[0;31m:\u001b[0m ':' expected after dictionary key\n"
     ]
    }
   ],
   "source": [
    "{'a': 1, 'b': 2, {'c': 3, 'd': 4}}"
   ]
  },
  {
   "cell_type": "markdown",
   "id": "ed9449f9",
   "metadata": {},
   "source": [
    "It is possible with `**`"
   ]
  },
  {
   "cell_type": "code",
   "execution_count": 6,
   "id": "706b04a9",
   "metadata": {},
   "outputs": [
    {
     "data": {
      "text/plain": [
       "{'a': 1, 'b': 2, 'c': 3, 'd': 4}"
      ]
     },
     "execution_count": 6,
     "metadata": {},
     "output_type": "execute_result"
    }
   ],
   "source": [
    "{'a': 1, 'b': 2, **{'c': 3, 'd': 4}}"
   ]
  },
  {
   "cell_type": "markdown",
   "id": "8f860603",
   "metadata": {},
   "source": [
    "### 1.3 Composing functions\n",
    "\n",
    "Apply multiple functions in one line"
   ]
  },
  {
   "cell_type": "code",
   "execution_count": 7,
   "id": "4ef85f06",
   "metadata": {},
   "outputs": [
    {
     "name": "stdout",
     "output_type": "stream",
     "text": [
      "2986000\n"
     ]
    }
   ],
   "source": [
    "a_sq_b_cubed = lambda a, b: (a ** 2, b ** 3)\n",
    "print(sum_a_b_sq(*a_sq_b_cubed(4, 12)))"
   ]
  },
  {
   "cell_type": "markdown",
   "id": "d248ade9",
   "metadata": {},
   "source": [
    "Without the `*`, the two function outputs are treated as one argument (since they are combined into a tuple)"
   ]
  },
  {
   "cell_type": "code",
   "execution_count": 8,
   "id": "4ebdecd8",
   "metadata": {},
   "outputs": [
    {
     "ename": "TypeError",
     "evalue": "<lambda>() missing 1 required positional argument: 'b'",
     "output_type": "error",
     "traceback": [
      "\u001b[0;31m---------------------------------------------------------------------------\u001b[0m",
      "\u001b[0;31mTypeError\u001b[0m                                 Traceback (most recent call last)",
      "Cell \u001b[0;32mIn[8], line 1\u001b[0m\n\u001b[0;32m----> 1\u001b[0m \u001b[38;5;28mprint\u001b[39m(\u001b[43msum_a_b_sq\u001b[49m\u001b[43m(\u001b[49m\u001b[43ma_sq_b_cubed\u001b[49m\u001b[43m(\u001b[49m\u001b[38;5;241;43m4\u001b[39;49m\u001b[43m,\u001b[49m\u001b[43m \u001b[49m\u001b[38;5;241;43m12\u001b[39;49m\u001b[43m)\u001b[49m\u001b[43m)\u001b[49m)\n",
      "\u001b[0;31mTypeError\u001b[0m: <lambda>() missing 1 required positional argument: 'b'"
     ]
    }
   ],
   "source": [
    "print(sum_a_b_sq(a_sq_b_cubed(4, 12)))"
   ]
  },
  {
   "cell_type": "code",
   "execution_count": 9,
   "id": "5dc7f00b",
   "metadata": {},
   "outputs": [
    {
     "data": {
      "text/plain": [
       "(16, 1728)"
      ]
     },
     "execution_count": 9,
     "metadata": {},
     "output_type": "execute_result"
    }
   ],
   "source": [
    "a_sq_b_cubed(4, 12)"
   ]
  },
  {
   "cell_type": "markdown",
   "id": "f7895ba2",
   "metadata": {},
   "source": [
    "The `*` notation works only inside function calls"
   ]
  },
  {
   "cell_type": "code",
   "execution_count": 10,
   "id": "a92c1001",
   "metadata": {},
   "outputs": [
    {
     "ename": "SyntaxError",
     "evalue": "can't use starred expression here (2410165554.py, line 1)",
     "output_type": "error",
     "traceback": [
      "\u001b[0;36m  Cell \u001b[0;32mIn[10], line 1\u001b[0;36m\u001b[0m\n\u001b[0;31m    *a_sq_b_cubed(4, 12)\u001b[0m\n\u001b[0m    ^\u001b[0m\n\u001b[0;31mSyntaxError\u001b[0m\u001b[0;31m:\u001b[0m can't use starred expression here\n"
     ]
    }
   ],
   "source": [
    "*a_sq_b_cubed(4, 12)"
   ]
  },
  {
   "cell_type": "markdown",
   "id": "97dab5fc",
   "metadata": {},
   "source": [
    "### 1.4 Default argument values"
   ]
  },
  {
   "cell_type": "code",
   "execution_count": 11,
   "id": "ff6ea642",
   "metadata": {},
   "outputs": [
    {
     "name": "stdout",
     "output_type": "stream",
     "text": [
      "Adam Alexander Oppenheimer\n",
      "Adam Oppenheimer Alexander\n"
     ]
    }
   ],
   "source": [
    "def print_name(first_name, last_name, middle_name=''):\n",
    "    print(first_name, middle_name, last_name)\n",
    "\n",
    "print_name('Adam', 'Oppenheimer', 'Alexander')\n",
    "print_name('Adam', 'Alexander', 'Oppenheimer')"
   ]
  },
  {
   "cell_type": "code",
   "execution_count": 12,
   "id": "e9b4ae15",
   "metadata": {},
   "outputs": [
    {
     "name": "stdout",
     "output_type": "stream",
     "text": [
      "Adam Alexander Oppenheimer\n"
     ]
    }
   ],
   "source": [
    "print_name(first_name='Adam', middle_name='Alexander', last_name='Oppenheimer')"
   ]
  },
  {
   "cell_type": "markdown",
   "id": "556f4f65",
   "metadata": {},
   "source": [
    "We can use `**` notation in functions"
   ]
  },
  {
   "cell_type": "code",
   "execution_count": 13,
   "id": "48c4d0b7",
   "metadata": {},
   "outputs": [
    {
     "name": "stdout",
     "output_type": "stream",
     "text": [
      "Adam Alexander Oppenheimer\n"
     ]
    }
   ],
   "source": [
    "print_name(**{'first_name': 'Adam', 'middle_name': 'Alexander', 'last_name': 'Oppenheimer'})"
   ]
  },
  {
   "cell_type": "code",
   "execution_count": 14,
   "id": "13a00e94",
   "metadata": {},
   "outputs": [
    {
     "name": "stdout",
     "output_type": "stream",
     "text": [
      "Adam  Oppenheimer\n"
     ]
    }
   ],
   "source": [
    "name_dict = {'first_name': 'Adam', 'middle_name': 'Alexander', 'last_name': 'Oppenheimer'}\n",
    "def remove_middle_name(name_dict):\n",
    "    name_dict['middle_name'] = ''\n",
    "remove_middle_name(name_dict)\n",
    "print_name(**name_dict)"
   ]
  },
  {
   "cell_type": "markdown",
   "id": "c247a7f6",
   "metadata": {},
   "source": [
    "Once an argument has a default value, all following arguments must also have default values"
   ]
  },
  {
   "cell_type": "code",
   "execution_count": 15,
   "id": "75ee145e",
   "metadata": {},
   "outputs": [
    {
     "ename": "SyntaxError",
     "evalue": "parameter without a default follows parameter with a default (4160617308.py, line 1)",
     "output_type": "error",
     "traceback": [
      "\u001b[0;36m  Cell \u001b[0;32mIn[15], line 1\u001b[0;36m\u001b[0m\n\u001b[0;31m    def print_name(first_name, middle_name='', last_name):\u001b[0m\n\u001b[0m                                               ^\u001b[0m\n\u001b[0;31mSyntaxError\u001b[0m\u001b[0;31m:\u001b[0m parameter without a default follows parameter with a default\n"
     ]
    }
   ],
   "source": [
    "def print_name(first_name, middle_name='', last_name):\n",
    "    print(first_name, middle_name, last_name)"
   ]
  },
  {
   "cell_type": "markdown",
   "id": "c7404fa4",
   "metadata": {},
   "source": [
    "In-place updates to default values are maintained between function calls - this can lead to big headaches!"
   ]
  },
  {
   "cell_type": "code",
   "execution_count": 16,
   "id": "c5702747",
   "metadata": {},
   "outputs": [
    {
     "name": "stdout",
     "output_type": "stream",
     "text": [
      "a: [0]\n",
      "a: [0, 0]\n"
     ]
    }
   ],
   "source": [
    "def append_0(a=[]):\n",
    "    a.append(0)\n",
    "    print('a:', a)\n",
    "\n",
    "append_0()\n",
    "append_0()"
   ]
  },
  {
   "cell_type": "markdown",
   "id": "80dfaba6",
   "metadata": {},
   "source": [
    "Avoid this issue by setting the default value to `None` if you know the argument can have in-place updates (unless this is the behavior you want, although it is extremely unlikely that you want this to happen)"
   ]
  },
  {
   "cell_type": "code",
   "execution_count": 17,
   "id": "91c6ae06",
   "metadata": {},
   "outputs": [
    {
     "name": "stdout",
     "output_type": "stream",
     "text": [
      "a: [0]\n",
      "a: [0]\n"
     ]
    }
   ],
   "source": [
    "def append_0(a=None):\n",
    "    if a is None:\n",
    "        a = []\n",
    "    a.append(0)\n",
    "    print('a:', a)\n",
    "\n",
    "append_0()\n",
    "append_0()"
   ]
  },
  {
   "cell_type": "markdown",
   "id": "b4e2fcf7",
   "metadata": {},
   "source": [
    "## 2. Tricks for lists\n",
    "\n",
    "### 2.1 List comprehension\n",
    "\n",
    "Super convenient way to create lists (also works for dictionaries)"
   ]
  },
  {
   "cell_type": "code",
   "execution_count": 18,
   "id": "5a223636",
   "metadata": {},
   "outputs": [
    {
     "name": "stdout",
     "output_type": "stream",
     "text": [
      "[0, 1, 2, 3, 4]\n"
     ]
    }
   ],
   "source": [
    "lst = []\n",
    "for a in range(5):\n",
    "    lst.append(a)\n",
    "print(lst)"
   ]
  },
  {
   "cell_type": "code",
   "execution_count": 19,
   "id": "33bc603a",
   "metadata": {},
   "outputs": [
    {
     "data": {
      "text/plain": [
       "[0, 1, 2, 3, 4]"
      ]
     },
     "execution_count": 19,
     "metadata": {},
     "output_type": "execute_result"
    }
   ],
   "source": [
    "[a for a in range(5)]"
   ]
  },
  {
   "cell_type": "code",
   "execution_count": 20,
   "id": "46987b51",
   "metadata": {},
   "outputs": [
    {
     "data": {
      "text/plain": [
       "[0, 1.0, 2, 0.3333333333333333, 4]"
      ]
     },
     "execution_count": 20,
     "metadata": {},
     "output_type": "execute_result"
    }
   ],
   "source": [
    "[a if (a % 2 == 0) else 1 / a for a in range(5)]"
   ]
  },
  {
   "cell_type": "code",
   "execution_count": 21,
   "id": "50016e9d",
   "metadata": {},
   "outputs": [
    {
     "data": {
      "text/plain": [
       "[0, 1, 2, 4]"
      ]
     },
     "execution_count": 21,
     "metadata": {},
     "output_type": "execute_result"
    }
   ],
   "source": [
    "[a for a in range(5) if a != 3]"
   ]
  },
  {
   "cell_type": "code",
   "execution_count": 22,
   "id": "2847e67b",
   "metadata": {},
   "outputs": [
    {
     "data": {
      "text/plain": [
       "[0, 1.0, 0.3333333333333333, 4]"
      ]
     },
     "execution_count": 22,
     "metadata": {},
     "output_type": "execute_result"
    }
   ],
   "source": [
    "[a if (a % 2 == 0) else 1 / a for a in range(5) if a != 2]"
   ]
  },
  {
   "cell_type": "markdown",
   "id": "0a4d2769",
   "metadata": {},
   "source": [
    "This is much more concise than the for-loop version"
   ]
  },
  {
   "cell_type": "code",
   "execution_count": 23,
   "id": "39019676",
   "metadata": {},
   "outputs": [
    {
     "name": "stdout",
     "output_type": "stream",
     "text": [
      "[0, 1.0, 0.3333333333333333, 4]\n"
     ]
    }
   ],
   "source": [
    "lst = []\n",
    "for a in range(5):\n",
    "    if a != 2:\n",
    "        if a % 2 == 0:\n",
    "            lst.append(a)\n",
    "        else:\n",
    "            lst.append(1 / a)\n",
    "print(lst)"
   ]
  },
  {
   "cell_type": "markdown",
   "id": "386a1985",
   "metadata": {},
   "source": [
    "Can even nest list comprehensions. Notice that you order the for loops in the same order as if you were writing out the full loops."
   ]
  },
  {
   "cell_type": "code",
   "execution_count": 24,
   "id": "368d1384",
   "metadata": {},
   "outputs": [
    {
     "data": {
      "text/plain": [
       "[(0, 0), (0, 1), (1, 0), (1, 1), (2, 0), (2, 1)]"
      ]
     },
     "execution_count": 24,
     "metadata": {},
     "output_type": "execute_result"
    }
   ],
   "source": [
    "[(i, j) for i in range(3) for j in range(2)]"
   ]
  },
  {
   "cell_type": "code",
   "execution_count": 25,
   "id": "3398e7c5",
   "metadata": {},
   "outputs": [
    {
     "name": "stdout",
     "output_type": "stream",
     "text": [
      "0 0\n",
      "0 1\n",
      "1 0\n",
      "1 1\n",
      "2 0\n",
      "2 1\n"
     ]
    }
   ],
   "source": [
    "for i in range(3):\n",
    "    for j in range(2):\n",
    "        print(i, j)"
   ]
  },
  {
   "cell_type": "code",
   "execution_count": 26,
   "id": "0d471fd8",
   "metadata": {},
   "outputs": [
    {
     "data": {
      "text/plain": [
       "[(1, 0), (2, 0), (2, 1)]"
      ]
     },
     "execution_count": 26,
     "metadata": {},
     "output_type": "execute_result"
    }
   ],
   "source": [
    "[(i, j) for i in range(3) for j in range(i)]"
   ]
  },
  {
   "cell_type": "markdown",
   "id": "a76b4b03",
   "metadata": {},
   "source": [
    "Be careful about some weird behavior with list comprehensions (this can also happen with regular loops) (see https://stackoverflow.com/questions/3431676/creating-functions-or-lambdas-in-a-loop-or-comprehension)."
   ]
  },
  {
   "cell_type": "markdown",
   "id": "654bc30d",
   "metadata": {},
   "source": [
    "### 2.2 `sorted()`\n",
    "\n",
    "Sort a list and specify the key. Notice the lambda functions to set the key for sorting."
   ]
  },
  {
   "cell_type": "code",
   "execution_count": 27,
   "id": "4fd930f7",
   "metadata": {},
   "outputs": [
    {
     "data": {
      "text/plain": [
       "[1, 4, 8]"
      ]
     },
     "execution_count": 27,
     "metadata": {},
     "output_type": "execute_result"
    }
   ],
   "source": [
    "sorted([4, 1, 8])"
   ]
  },
  {
   "cell_type": "code",
   "execution_count": 28,
   "id": "46baf8ac",
   "metadata": {},
   "outputs": [
    {
     "data": {
      "text/plain": [
       "[('a', 1), ('d', 4), ('r', 2)]"
      ]
     },
     "execution_count": 28,
     "metadata": {},
     "output_type": "execute_result"
    }
   ],
   "source": [
    "def get_first(a):\n",
    "    return a[0]\n",
    "def get_second(a):\n",
    "    return a[1]\n",
    "sorted([('d', 4), ('a', 1), ('r', 2)], key=get_first)"
   ]
  },
  {
   "cell_type": "code",
   "execution_count": 29,
   "id": "f5eef7d0",
   "metadata": {},
   "outputs": [
    {
     "data": {
      "text/plain": [
       "[('a', 1), ('d', 4), ('r', 2)]"
      ]
     },
     "execution_count": 29,
     "metadata": {},
     "output_type": "execute_result"
    }
   ],
   "source": [
    "sorted([('d', 4), ('a', 1), ('r', 2)], key=lambda a: a[0])"
   ]
  },
  {
   "cell_type": "code",
   "execution_count": 30,
   "id": "89d9d00d",
   "metadata": {},
   "outputs": [
    {
     "data": {
      "text/plain": [
       "[('a', 1), ('r', 2), ('d', 4)]"
      ]
     },
     "execution_count": 30,
     "metadata": {},
     "output_type": "execute_result"
    }
   ],
   "source": [
    "sorted([('d', 4), ('a', 1), ('r', 2)], key=lambda a: a[1])"
   ]
  },
  {
   "cell_type": "markdown",
   "id": "1351b386",
   "metadata": {},
   "source": [
    "### 2.3 `zip()`\n",
    "\n",
    "Combine two lists element by element. Make sure to convert to a list for PA3."
   ]
  },
  {
   "cell_type": "code",
   "execution_count": 31,
   "id": "96ec7294",
   "metadata": {},
   "outputs": [
    {
     "data": {
      "text/plain": [
       "[(0, 5), (1, 4), (2, 3), (3, 2), (4, 1)]"
      ]
     },
     "execution_count": 31,
     "metadata": {},
     "output_type": "execute_result"
    }
   ],
   "source": [
    "list(zip(range(0, 5), range(5, 0, -1)))"
   ]
  },
  {
   "cell_type": "markdown",
   "id": "5a96063e",
   "metadata": {},
   "source": [
    "Make sure the lists are the same length! They'll zip even if they aren't!"
   ]
  },
  {
   "cell_type": "code",
   "execution_count": 32,
   "id": "513d2107",
   "metadata": {},
   "outputs": [
    {
     "data": {
      "text/plain": [
       "[(0, 5), (1, 4), (2, 3), (3, 2), (4, 1)]"
      ]
     },
     "execution_count": 32,
     "metadata": {},
     "output_type": "execute_result"
    }
   ],
   "source": [
    "list(zip(range(0, 7), range(5, 0, -1)))"
   ]
  },
  {
   "cell_type": "markdown",
   "id": "0868f00b",
   "metadata": {},
   "source": [
    "Note: `zip` creates a generator, which is why we need to convert it to a `list`"
   ]
  },
  {
   "cell_type": "code",
   "execution_count": 33,
   "id": "9cf62306",
   "metadata": {},
   "outputs": [
    {
     "name": "stdout",
     "output_type": "stream",
     "text": [
      "(0, 5)\n",
      "(1, 4)\n"
     ]
    },
    {
     "ename": "TypeError",
     "evalue": "'zip' object is not subscriptable",
     "output_type": "error",
     "traceback": [
      "\u001b[0;31m---------------------------------------------------------------------------\u001b[0m",
      "\u001b[0;31mTypeError\u001b[0m                                 Traceback (most recent call last)",
      "Cell \u001b[0;32mIn[33], line 8\u001b[0m\n\u001b[1;32m      6\u001b[0m     \u001b[38;5;28mprint\u001b[39m(elmt)\n\u001b[1;32m      7\u001b[0m     \u001b[38;5;28;01mbreak\u001b[39;00m\n\u001b[0;32m----> 8\u001b[0m \u001b[38;5;28mprint\u001b[39m(\u001b[43mzipped_lst\u001b[49m\u001b[43m[\u001b[49m\u001b[38;5;241;43m0\u001b[39;49m\u001b[43m]\u001b[49m)\n",
      "\u001b[0;31mTypeError\u001b[0m: 'zip' object is not subscriptable"
     ]
    }
   ],
   "source": [
    "zipped_lst = zip(range(0, 5), range(5, 0, -1))\n",
    "for elmt in zipped_lst:\n",
    "    print(elmt)\n",
    "    break\n",
    "for elmt in zipped_lst:\n",
    "    print(elmt)\n",
    "    break\n",
    "print(zipped_lst[0])"
   ]
  },
  {
   "cell_type": "markdown",
   "id": "b1801b98",
   "metadata": {},
   "source": [
    "### 2.4 `any()` and `all()`\n",
    "\n",
    "`any()`: check whether any element of a list is True.\n",
    "\n",
    "`all()`: check whether all elements of a list are True."
   ]
  },
  {
   "cell_type": "code",
   "execution_count": 34,
   "id": "4f579f70",
   "metadata": {},
   "outputs": [
    {
     "data": {
      "text/plain": [
       "True"
      ]
     },
     "execution_count": 34,
     "metadata": {},
     "output_type": "execute_result"
    }
   ],
   "source": [
    "any([True, True, False])"
   ]
  },
  {
   "cell_type": "code",
   "execution_count": 35,
   "id": "32b90f47",
   "metadata": {},
   "outputs": [
    {
     "data": {
      "text/plain": [
       "False"
      ]
     },
     "execution_count": 35,
     "metadata": {},
     "output_type": "execute_result"
    }
   ],
   "source": [
    "any([False, False, False])"
   ]
  },
  {
   "cell_type": "code",
   "execution_count": 36,
   "id": "30491595",
   "metadata": {},
   "outputs": [
    {
     "data": {
      "text/plain": [
       "False"
      ]
     },
     "execution_count": 36,
     "metadata": {},
     "output_type": "execute_result"
    }
   ],
   "source": [
    "all([True, True, False])"
   ]
  },
  {
   "cell_type": "code",
   "execution_count": 37,
   "id": "dcd762ba",
   "metadata": {},
   "outputs": [
    {
     "data": {
      "text/plain": [
       "True"
      ]
     },
     "execution_count": 37,
     "metadata": {},
     "output_type": "execute_result"
    }
   ],
   "source": [
    "all([True, True, True])"
   ]
  },
  {
   "cell_type": "markdown",
   "id": "ea73f29f",
   "metadata": {},
   "source": [
    "## 3. Tricks for strings\n",
    "\n",
    "### 3.1 `lower()`\n",
    "\n",
    "Convert text to lowercase"
   ]
  },
  {
   "cell_type": "code",
   "execution_count": 38,
   "id": "71396a76",
   "metadata": {},
   "outputs": [
    {
     "data": {
      "text/plain": [
       "'hello'"
      ]
     },
     "execution_count": 38,
     "metadata": {},
     "output_type": "execute_result"
    }
   ],
   "source": [
    "'HELLO'.lower()"
   ]
  },
  {
   "cell_type": "markdown",
   "id": "444a709b",
   "metadata": {},
   "source": [
    "### 3.2 `split()`\n",
    "\n",
    "Split string into a list, dividing words by the specified character"
   ]
  },
  {
   "cell_type": "code",
   "execution_count": 39,
   "id": "5f87ce43",
   "metadata": {},
   "outputs": [
    {
     "data": {
      "text/plain": [
       "['Hello,', 'I', 'am', 'Adam.']"
      ]
     },
     "execution_count": 39,
     "metadata": {},
     "output_type": "execute_result"
    }
   ],
   "source": [
    "'Hello, I am Adam.'.split(' ')"
   ]
  },
  {
   "cell_type": "code",
   "execution_count": 40,
   "id": "bec371f3",
   "metadata": {},
   "outputs": [
    {
     "data": {
      "text/plain": [
       "['Hello, I a', ' Ada', '.']"
      ]
     },
     "execution_count": 40,
     "metadata": {},
     "output_type": "execute_result"
    }
   ],
   "source": [
    "'Hello, I am Adam.'.split('m')"
   ]
  },
  {
   "cell_type": "markdown",
   "id": "acc1c326",
   "metadata": {},
   "source": [
    "### 3.3 `strip()`\n",
    "\n",
    "Remove the specified characters from the start and end of a string"
   ]
  },
  {
   "cell_type": "code",
   "execution_count": 41,
   "id": "d4778605",
   "metadata": {},
   "outputs": [
    {
     "data": {
      "text/plain": [
       "'efgabcdef'"
      ]
     },
     "execution_count": 41,
     "metadata": {},
     "output_type": "execute_result"
    }
   ],
   "source": [
    "'abcdefgabcdefg'.strip('bacdg')"
   ]
  },
  {
   "cell_type": "markdown",
   "id": "561a907b",
   "metadata": {},
   "source": [
    "### 3.4 `startswith()`\n",
    "\n",
    "Check whether the string starts with the specified string"
   ]
  },
  {
   "cell_type": "code",
   "execution_count": 42,
   "id": "510866f4",
   "metadata": {},
   "outputs": [
    {
     "data": {
      "text/plain": [
       "True"
      ]
     },
     "execution_count": 42,
     "metadata": {},
     "output_type": "execute_result"
    }
   ],
   "source": [
    "'hello'.startswith('he')"
   ]
  },
  {
   "cell_type": "code",
   "execution_count": 43,
   "id": "9603c361",
   "metadata": {},
   "outputs": [
    {
     "data": {
      "text/plain": [
       "False"
      ]
     },
     "execution_count": 43,
     "metadata": {},
     "output_type": "execute_result"
    }
   ],
   "source": [
    "'hello'.startswith('hen')"
   ]
  },
  {
   "cell_type": "markdown",
   "id": "b4173948",
   "metadata": {},
   "source": [
    "### 4. Type casting\n",
    "\n",
    "Convert between types by writing the name of the type you want to convert to and using the name as if it is a function"
   ]
  },
  {
   "cell_type": "code",
   "execution_count": 44,
   "id": "3e89a3af",
   "metadata": {},
   "outputs": [
    {
     "name": "stdout",
     "output_type": "stream",
     "text": [
      "1.0\n",
      "1\n"
     ]
    }
   ],
   "source": [
    "val = 1.0\n",
    "print(val)\n",
    "print(int(val))"
   ]
  },
  {
   "cell_type": "code",
   "execution_count": 45,
   "id": "024b9b8e",
   "metadata": {},
   "outputs": [
    {
     "name": "stdout",
     "output_type": "stream",
     "text": [
      "[1, 2, 3]\n",
      "(1, 2, 3)\n"
     ]
    }
   ],
   "source": [
    "lst = [1, 2, 3]\n",
    "print(lst)\n",
    "print(tuple(lst))"
   ]
  },
  {
   "cell_type": "code",
   "execution_count": 46,
   "id": "3861aad9",
   "metadata": {},
   "outputs": [
    {
     "name": "stdout",
     "output_type": "stream",
     "text": [
      "<zip object at 0x1079a6200>\n",
      "[(0, 5), (1, 4), (2, 3), (3, 2), (4, 1)]\n"
     ]
    }
   ],
   "source": [
    "print(zip(range(0, 5), range(5, 0, -1)))\n",
    "print(list(zip(range(0, 5), range(5, 0, -1))))"
   ]
  },
  {
   "cell_type": "markdown",
   "id": "7d581d9f",
   "metadata": {},
   "source": [
    "## 5. PA2 review\n",
    "\n",
    "Discussion and review my solution"
   ]
  }
 ],
 "metadata": {
  "kernelspec": {
   "display_name": "Python 3 (ipykernel)",
   "language": "python",
   "name": "python3"
  },
  "language_info": {
   "codemirror_mode": {
    "name": "ipython",
    "version": 3
   },
   "file_extension": ".py",
   "mimetype": "text/x-python",
   "name": "python",
   "nbconvert_exporter": "python",
   "pygments_lexer": "ipython3",
   "version": "3.12.3"
  }
 },
 "nbformat": 4,
 "nbformat_minor": 5
}
