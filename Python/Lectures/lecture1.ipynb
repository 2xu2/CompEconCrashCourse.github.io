{
 "cells": [
  {
   "cell_type": "markdown",
   "id": "2cba0e12",
   "metadata": {},
   "source": [
    "# Lesson 1\n",
    "\n",
    "## Overview\n",
    "\n",
    "1. Self-introductions\n",
    "\n",
    "2. Conda\n",
    "- Environments\n",
    "\n",
    "3. Importing packages\n",
    "\n",
    "4. Variables\n",
    "- Assignment (using =)\n",
    "- Naming\n",
    "- Types (str, int, float, bool, lists/tuples/sets, dicts)\n",
    "- For ints/floats: operations\n",
    "- Lists/tuples/sets and dicts\n",
    "- - For lists/tuples: subsets, len(), sum(), max(), min(), etc.\n",
    "- For strings: subsets, addition, and f-strings\n",
    "\n",
    "5. Introduction to if statements, loops, and functions\n",
    "- Concepts\n",
    "- Shared syntax\n",
    "- - Colons\n",
    "- - Indentation\n",
    "\n",
    "6. If statements\n",
    "- Comparisons\n",
    "- `and` and `or`\n",
    "\n",
    "7. Loops\n",
    "- For loops\n",
    "- While loops\n",
    "- Breaks\n",
    "- Continue\n",
    "\n",
    "8. Functions\n",
    "- Arguments\n",
    "- Returns\n",
    "- Comments\n",
    "- - Docstrings\n",
    "\n",
    "9. Printing text"
   ]
  },
  {
   "cell_type": "markdown",
   "id": "60c17f44",
   "metadata": {},
   "source": [
    "## 1. Self-introductions\n",
    "\n",
    "## 2. Conda\n",
    "\n",
    "Does lots of things, we're using it for package management\n",
    "\n",
    "Packages are how people share their code with others\n",
    "\n",
    "### 2.1 Environments\n",
    "\n",
    "Allows you to keep packages organized - see [here](https://docs.conda.io/projects/conda/en/latest/user-guide/tasks/manage-environments.html)\n",
    "\n",
    "- To create: `conda create --name pycourse` (you can replace `pycourse` with any custom name)\n",
    "- To activate: `conda activate pycourse`\n",
    "- To install pip: `conda install pip`\n",
    "- To install package: `pip install packagename` (replace `packagename` with the name of the package you want to install)\n",
    "- - For this lesson, please install: `jupyterlab` and/or `notebook` to be able to open Jupyter Notebooks (like this) (see [here](https://jupyter.org/install) for more information)\n",
    "- Link to environment features: [Conda environments](https://docs.conda.io/projects/conda/en/latest/user-guide/tasks/manage-environments.html)\n",
    "\n",
    "### 2.2 Alternative to Jupyter\n",
    "\n",
    "```python\n",
    "#%%\n",
    "import random\n",
    "random.random()\n",
    "```\n",
    "\n",
    "## 3. Importing packages\n",
    "\n",
    "Type `import packagename`"
   ]
  },
  {
   "cell_type": "code",
   "execution_count": 1,
   "id": "377abe5c",
   "metadata": {},
   "outputs": [],
   "source": [
    "import random"
   ]
  },
  {
   "cell_type": "code",
   "execution_count": 2,
   "id": "6224ba08",
   "metadata": {},
   "outputs": [
    {
     "name": "stdout",
     "output_type": "stream",
     "text": [
      "0.307089595181008\n"
     ]
    }
   ],
   "source": [
    "print(random.random())"
   ]
  },
  {
   "cell_type": "code",
   "execution_count": 3,
   "id": "a8a3f520",
   "metadata": {},
   "outputs": [
    {
     "name": "stdout",
     "output_type": "stream",
     "text": [
      "0.5923790629209741\n"
     ]
    }
   ],
   "source": [
    "import random as rand\n",
    "print(rand.random())"
   ]
  },
  {
   "cell_type": "markdown",
   "id": "eca89b0b",
   "metadata": {},
   "source": [
    "## 4. Variables\n",
    "\n",
    "Why - you need to keep track of what's what\n",
    "\n",
    "### 4.1 Assignment\n",
    "\n",
    "Assign a value to a name using `=` (this is not equivalent to mathematical equality, check that using `==`)"
   ]
  },
  {
   "cell_type": "code",
   "execution_count": 4,
   "id": "e3b811c7",
   "metadata": {},
   "outputs": [
    {
     "name": "stdout",
     "output_type": "stream",
     "text": [
      "10\n"
     ]
    }
   ],
   "source": [
    "x = 10\n",
    "print(x)"
   ]
  },
  {
   "cell_type": "markdown",
   "id": "0ad3960c",
   "metadata": {},
   "source": [
    "### 4.2 Naming\n",
    "\n",
    "Choose names carefully"
   ]
  },
  {
   "cell_type": "code",
   "execution_count": 5,
   "id": "49b93231",
   "metadata": {},
   "outputs": [],
   "source": [
    "x = 10\n",
    "distance = 10"
   ]
  },
  {
   "cell_type": "markdown",
   "id": "9a5e3a8c",
   "metadata": {},
   "source": [
    "### 4.3 Types\n",
    "\n",
    "str, int, float, bool, lists/tuples/sets, dicts"
   ]
  },
  {
   "cell_type": "code",
   "execution_count": 6,
   "id": "0b46551d",
   "metadata": {},
   "outputs": [],
   "source": [
    "course_name_v1 = 'Python Course, Summer 2024'\n",
    "course_name_v2 = \"Python Course, Summer 2024\"\n",
    "course_name_v3 = \\\n",
    "'''\n",
    "Python Course, Summer 2024\n",
    "'''\n",
    "course_year = 2024\n",
    "lecture_1_frac_complete = 1/5 # Or 0.2\n",
    "lecture_1_complete = False # Or True\n",
    "lectures = [1, 2, 3, 4, 5, 6, 7, 8] # Mutable\n",
    "lecture_v2 = (1, 2, 3, 4, 5, 6, 7, 8) # Immutable\n",
    "lectures_v3 = {1, 2, 3, 4, 5, 6, 7, 8, 8}\n",
    "lectures_occurred = {1: 'True', 2: 'False', 3: 'False', 4: 'False', 5: 'False', 6: 'False', 7: 'False', 8: 'False'}"
   ]
  },
  {
   "cell_type": "markdown",
   "id": "a91f1f96",
   "metadata": {},
   "source": [
    "### 4.4 For ints/floats: operations\n",
    "\n",
    "- Addition: `+`\n",
    "- Subtraction: `-`\n",
    "- Multiplication: `*`\n",
    "- Division: `/`\n",
    "- Exponentiation: `**`\n",
    "- In-place: `+=`, `-=`, `*=`, `/=`, `**=`"
   ]
  },
  {
   "cell_type": "code",
   "execution_count": 7,
   "id": "d3ea948c",
   "metadata": {},
   "outputs": [],
   "source": [
    "a = 5\n",
    "b = 2.0"
   ]
  },
  {
   "cell_type": "code",
   "execution_count": 8,
   "id": "c0306d31",
   "metadata": {},
   "outputs": [
    {
     "name": "stdout",
     "output_type": "stream",
     "text": [
      "7.0\n"
     ]
    }
   ],
   "source": [
    "print(a + b)"
   ]
  },
  {
   "cell_type": "code",
   "execution_count": 9,
   "id": "a5dc67e0",
   "metadata": {},
   "outputs": [
    {
     "name": "stdout",
     "output_type": "stream",
     "text": [
      "7.0\n"
     ]
    }
   ],
   "source": [
    "a = a + b\n",
    "print(a)"
   ]
  },
  {
   "cell_type": "code",
   "execution_count": 10,
   "id": "61cc5f49",
   "metadata": {},
   "outputs": [
    {
     "name": "stdout",
     "output_type": "stream",
     "text": [
      "9.0\n"
     ]
    }
   ],
   "source": [
    "a += b\n",
    "print(a)"
   ]
  },
  {
   "cell_type": "code",
   "execution_count": 11,
   "id": "54cdea67",
   "metadata": {},
   "outputs": [
    {
     "name": "stdout",
     "output_type": "stream",
     "text": [
      "10.0\n"
     ]
    }
   ],
   "source": [
    "a = 5\n",
    "a *= b\n",
    "print(a)"
   ]
  },
  {
   "cell_type": "code",
   "execution_count": 12,
   "id": "7178a3f2",
   "metadata": {},
   "outputs": [
    {
     "name": "stdout",
     "output_type": "stream",
     "text": [
      "25.0\n"
     ]
    }
   ],
   "source": [
    "a = 5\n",
    "a **= b\n",
    "print(a)"
   ]
  },
  {
   "cell_type": "markdown",
   "id": "8eaecb3a",
   "metadata": {},
   "source": [
    "### 4.5 Lists/tuples/sets and dicts\n",
    "\n",
    "Lists are mutable (they can be changed)\n",
    "- Access an element using `list[index]` (indexing starts at 0)\n",
    "\n",
    "Tuples are immutable (they cannot be changed)\n",
    "- Access an element using `tuple[index]` (indexing starts at 0)\n",
    "\n",
    "Sets don't have an order\n",
    "\n",
    "Dicts work like a dictionary (a term called a 'key' will be linked to an associated variable called a 'value')\n",
    "- Access a `value` using `dict[key]`\n",
    "- Treats ints and floats as equivalent (so `1` and `1.0` are the same key)"
   ]
  },
  {
   "cell_type": "code",
   "execution_count": 13,
   "id": "8ccc8b11",
   "metadata": {},
   "outputs": [
    {
     "name": "stdout",
     "output_type": "stream",
     "text": [
      "[1, 2, 3, 4, 5, 6, 7, 8]\n",
      "[0, 2, 3, 4, 5, 6, 7, 8]\n"
     ]
    }
   ],
   "source": [
    "print(lectures)\n",
    "lectures[0] = 0\n",
    "print(lectures)"
   ]
  },
  {
   "cell_type": "code",
   "execution_count": 14,
   "id": "b98e820e",
   "metadata": {},
   "outputs": [
    {
     "name": "stdout",
     "output_type": "stream",
     "text": [
      "(1, 2, 3, 4, 5, 6, 7, 8)\n"
     ]
    },
    {
     "ename": "TypeError",
     "evalue": "'tuple' object does not support item assignment",
     "output_type": "error",
     "traceback": [
      "\u001b[0;31m---------------------------------------------------------------------------\u001b[0m",
      "\u001b[0;31mTypeError\u001b[0m                                 Traceback (most recent call last)",
      "Cell \u001b[0;32mIn[14], line 2\u001b[0m\n\u001b[1;32m      1\u001b[0m \u001b[38;5;28mprint\u001b[39m(lecture_v2)\n\u001b[0;32m----> 2\u001b[0m \u001b[43mlecture_v2\u001b[49m\u001b[43m[\u001b[49m\u001b[38;5;241;43m0\u001b[39;49m\u001b[43m]\u001b[49m \u001b[38;5;241m=\u001b[39m \u001b[38;5;241m0\u001b[39m\n",
      "\u001b[0;31mTypeError\u001b[0m: 'tuple' object does not support item assignment"
     ]
    }
   ],
   "source": [
    "print(lecture_v2)\n",
    "lecture_v2[0] = 0"
   ]
  },
  {
   "cell_type": "code",
   "execution_count": 15,
   "id": "644ee3ef",
   "metadata": {},
   "outputs": [
    {
     "name": "stdout",
     "output_type": "stream",
     "text": [
      "{1, 2, 3, 4, 5, 6, 7, 8}\n"
     ]
    },
    {
     "ename": "TypeError",
     "evalue": "'set' object does not support item assignment",
     "output_type": "error",
     "traceback": [
      "\u001b[0;31m---------------------------------------------------------------------------\u001b[0m",
      "\u001b[0;31mTypeError\u001b[0m                                 Traceback (most recent call last)",
      "Cell \u001b[0;32mIn[15], line 2\u001b[0m\n\u001b[1;32m      1\u001b[0m \u001b[38;5;28mprint\u001b[39m(lectures_v3)\n\u001b[0;32m----> 2\u001b[0m \u001b[43mlectures_v3\u001b[49m\u001b[43m[\u001b[49m\u001b[38;5;241;43m0\u001b[39;49m\u001b[43m]\u001b[49m \u001b[38;5;241m=\u001b[39m \u001b[38;5;241m0\u001b[39m\n",
      "\u001b[0;31mTypeError\u001b[0m: 'set' object does not support item assignment"
     ]
    }
   ],
   "source": [
    "print(lectures_v3)\n",
    "lectures_v3[0] = 0"
   ]
  },
  {
   "cell_type": "code",
   "execution_count": 16,
   "id": "941e7d6b",
   "metadata": {},
   "outputs": [
    {
     "name": "stdout",
     "output_type": "stream",
     "text": [
      "{1: 'True', 2: 'False', 3: 'False', 4: 'False', 5: 'False', 6: 'False', 7: 'False', 8: 'False'}\n",
      "{1: 'True', 2: 'False', 3: 'False', 4: 'False', 5: 'False', 6: 'False', 7: 'False', 8: 'False', 0: False}\n",
      "{1: 'True', 2: 'False', 3: 'False', 4: 'False', 5: 'False', 6: 'False', 7: 'False', 8: 'False', 0: False, 'word': 'definition'}\n"
     ]
    }
   ],
   "source": [
    "print(lectures_occurred)\n",
    "lectures_occurred[0] = False\n",
    "print(lectures_occurred)\n",
    "lectures_occurred['word'] = 'definition'\n",
    "print(lectures_occurred)"
   ]
  },
  {
   "cell_type": "markdown",
   "id": "fca5d21e",
   "metadata": {},
   "source": [
    "### 4.5.1 For lists/tuples: subsets, len(), sum(), max(), min(), etc.\n",
    "\n",
    "Access a subset of a list/tuple using `list[a: b]`/`tuple[a: b]`, which gives you the elements starting and index `a` and ending at index `b-1` (remember that indexing starts at 0)"
   ]
  },
  {
   "cell_type": "code",
   "execution_count": 17,
   "id": "eb7e7c1c",
   "metadata": {},
   "outputs": [
    {
     "name": "stdout",
     "output_type": "stream",
     "text": [
      "[0, 2, 3, 4, 5, 6, 7, 8]\n",
      "Length of list: 8\n",
      "Subset of list: [3, 4]\n",
      "Last element of list: 8\n",
      "Alternative last element of list: 8\n",
      "Max of tuple: 8\n",
      "Min of tuple: 1\n"
     ]
    }
   ],
   "source": [
    "print(lectures)\n",
    "print('Length of list:', len(lectures))\n",
    "print('Subset of list:', lectures[2: 4])\n",
    "print('Last element of list:', lectures[len(lectures)-1])\n",
    "print('Alternative last element of list:', lectures[-1])\n",
    "print('Max of tuple:', max(lecture_v2))\n",
    "print('Min of tuple:', min(lecture_v2))"
   ]
  },
  {
   "cell_type": "markdown",
   "id": "5c986418",
   "metadata": {},
   "source": [
    "### 4.6 For strings: subsets, addition, and f-strings\n",
    "\n",
    "Access substrings as if the string is a list"
   ]
  },
  {
   "cell_type": "code",
   "execution_count": 18,
   "id": "033386e9",
   "metadata": {},
   "outputs": [
    {
     "data": {
      "text/plain": [
       "'lo'"
      ]
     },
     "execution_count": 18,
     "metadata": {},
     "output_type": "execute_result"
    }
   ],
   "source": [
    "a = 'hello'\n",
    "a[3: 5]"
   ]
  },
  {
   "cell_type": "code",
   "execution_count": 19,
   "id": "825cce75",
   "metadata": {},
   "outputs": [
    {
     "data": {
      "text/plain": [
       "'h'"
      ]
     },
     "execution_count": 19,
     "metadata": {},
     "output_type": "execute_result"
    }
   ],
   "source": [
    "a[0]"
   ]
  },
  {
   "cell_type": "code",
   "execution_count": 20,
   "id": "fc025638",
   "metadata": {},
   "outputs": [
    {
     "data": {
      "text/plain": [
       "'llo'"
      ]
     },
     "execution_count": 20,
     "metadata": {},
     "output_type": "execute_result"
    }
   ],
   "source": [
    "a[2:]"
   ]
  },
  {
   "cell_type": "code",
   "execution_count": 21,
   "id": "1739b545",
   "metadata": {},
   "outputs": [
    {
     "data": {
      "text/plain": [
       "'llo'"
      ]
     },
     "execution_count": 21,
     "metadata": {},
     "output_type": "execute_result"
    }
   ],
   "source": [
    "a[-3:]"
   ]
  },
  {
   "cell_type": "markdown",
   "id": "bdf651e8",
   "metadata": {},
   "source": [
    "Warning: indexing outside of strings doesn't raise an error"
   ]
  },
  {
   "cell_type": "code",
   "execution_count": 22,
   "id": "0a3dafff",
   "metadata": {},
   "outputs": [
    {
     "data": {
      "text/plain": [
       "'llo'"
      ]
     },
     "execution_count": 22,
     "metadata": {},
     "output_type": "execute_result"
    }
   ],
   "source": [
    "a[2:100]"
   ]
  },
  {
   "cell_type": "markdown",
   "id": "b23cce3b",
   "metadata": {},
   "source": [
    "Strings can be combined using `+`"
   ]
  },
  {
   "cell_type": "code",
   "execution_count": 23,
   "id": "953d7beb",
   "metadata": {},
   "outputs": [
    {
     "data": {
      "text/plain": [
       "'hellogoodbye'"
      ]
     },
     "execution_count": 23,
     "metadata": {},
     "output_type": "execute_result"
    }
   ],
   "source": [
    "a = 'hello'\n",
    "b = 'goodbye'\n",
    "a + b"
   ]
  },
  {
   "cell_type": "markdown",
   "id": "aee3ee52",
   "metadata": {},
   "source": [
    "Variables can easily be put into strings using f-strings"
   ]
  },
  {
   "cell_type": "code",
   "execution_count": 24,
   "id": "8fe5c219",
   "metadata": {},
   "outputs": [
    {
     "data": {
      "text/plain": [
       "'a is 5 and b is 6'"
      ]
     },
     "execution_count": 24,
     "metadata": {},
     "output_type": "execute_result"
    }
   ],
   "source": [
    "a = 5\n",
    "b = 6\n",
    "f'a is {a} and b is {b}'"
   ]
  },
  {
   "cell_type": "markdown",
   "id": "462b5749",
   "metadata": {},
   "source": [
    "## 5. Introduction to if statements, loops, and functions\n",
    "\n",
    "For this section, if must is capitalized (as MUST), it means the code won't run if you don't do this. It is not a recommendation but rather a requirement.\n",
    "\n",
    "### 5.1 Concepts\n",
    "\n",
    "- If statements: if you want a task to occur under certain conditions\n",
    "- Loops: if you want to repeat a task consecutively for the same context\n",
    "- Functions: if you want to repeat a task, potentially non-consecutively, for potentially different contexts\n",
    "\n",
    "### 5.2 Shared syntax\n",
    "\n",
    "#### 5.2.1 Colons\n",
    "\n",
    "The line of code where if statements, loops, and functions are initiated MUST end with a colon\n",
    "\n",
    "#### 5.2.2 Indentation\n",
    "\n",
    "The code included inside of if statements, loops, and functions MUST be properly indented (4 spaces)\n",
    "\n",
    "Nested if statements, loops, and functions MUST have nested indentation"
   ]
  },
  {
   "cell_type": "markdown",
   "id": "bc0eaa90",
   "metadata": {},
   "source": [
    "## 6. If statements\n",
    "\n",
    "If you want a task to occur under certain conditions\n",
    "\n",
    "### 6.1 Comparisons\n",
    "\n",
    "- `==` for equality\n",
    "- `!=` for inequality\n",
    "- `>` or `<` for strict inequality\n",
    "- `>=` or `<=` for weak inequality\n",
    "- `in` for list membership\n",
    "- `is` for variable reference ids and `None`"
   ]
  },
  {
   "cell_type": "code",
   "execution_count": 25,
   "id": "88f00d4a",
   "metadata": {},
   "outputs": [
    {
     "data": {
      "text/plain": [
       "10"
      ]
     },
     "execution_count": 25,
     "metadata": {},
     "output_type": "execute_result"
    }
   ],
   "source": [
    "x"
   ]
  },
  {
   "cell_type": "code",
   "execution_count": 26,
   "id": "c653421f",
   "metadata": {},
   "outputs": [
    {
     "name": "stdout",
     "output_type": "stream",
     "text": [
      "x is neither 8 nor 9\n"
     ]
    }
   ],
   "source": [
    "if x == 8:\n",
    "    print('x is 8')\n",
    "elif x == 9:\n",
    "    print('x is 9')\n",
    "else:\n",
    "    print('x is neither 8 nor 9')"
   ]
  },
  {
   "cell_type": "markdown",
   "id": "66b68549",
   "metadata": {},
   "source": [
    "If a variable is already a boolean, it can directly be used as a comparison - conciseness is preferred"
   ]
  },
  {
   "cell_type": "code",
   "execution_count": 27,
   "id": "97919539",
   "metadata": {},
   "outputs": [
    {
     "name": "stdout",
     "output_type": "stream",
     "text": [
      "x is True since a is 5\n",
      "x is True since a is 5\n"
     ]
    }
   ],
   "source": [
    "a = 5\n",
    "x = (a == 5)\n",
    "if x: # Preferred\n",
    "    print('x is True since a is 5')\n",
    "else:\n",
    "    print('x is False since a is not 5')\n",
    "if x == True: # Works, but not preferred\n",
    "    print('x is True since a is 5')\n",
    "else:\n",
    "    print('x is False since a is not 5')"
   ]
  },
  {
   "cell_type": "code",
   "execution_count": 28,
   "id": "89e987a9",
   "metadata": {},
   "outputs": [
    {
     "data": {
      "text/plain": [
       "True"
      ]
     },
     "execution_count": 28,
     "metadata": {},
     "output_type": "execute_result"
    }
   ],
   "source": [
    "list1 = [1, 2, 3]\n",
    "list2 = list1\n",
    "list1 is list2"
   ]
  },
  {
   "cell_type": "code",
   "execution_count": 29,
   "id": "9d6045f5",
   "metadata": {},
   "outputs": [
    {
     "name": "stdout",
     "output_type": "stream",
     "text": [
      "False\n",
      "True\n"
     ]
    }
   ],
   "source": [
    "list2 = [1, 2, 3]\n",
    "print(list1 is list2)\n",
    "print(list1 is not list2)"
   ]
  },
  {
   "cell_type": "markdown",
   "id": "af8a3e88",
   "metadata": {},
   "source": [
    "### 6.2 `and` and `or`\n",
    "\n",
    "Combine statements with `and` and `or`"
   ]
  },
  {
   "cell_type": "code",
   "execution_count": 30,
   "id": "f43ecd00",
   "metadata": {},
   "outputs": [
    {
     "name": "stdout",
     "output_type": "stream",
     "text": [
      "x is in [0, 20)\n"
     ]
    }
   ],
   "source": [
    "if (x >= 0) and (x < 20):\n",
    "    print('x is in [0, 20)')"
   ]
  },
  {
   "cell_type": "code",
   "execution_count": 31,
   "id": "0d4b8561",
   "metadata": {},
   "outputs": [
    {
     "name": "stdout",
     "output_type": "stream",
     "text": [
      "x is in [0, 20)\n"
     ]
    }
   ],
   "source": [
    "if 0 <= x < 20:\n",
    "    print('x is in [0, 20)')"
   ]
  },
  {
   "cell_type": "markdown",
   "id": "c40cdb7a",
   "metadata": {},
   "source": [
    "## 7. Loops\n",
    "\n",
    "If you want to repeat a task consecutively for the same context\n",
    "\n",
    "### 7.1 For loops\n",
    "\n",
    "Iterate through the elements of a list/tuple/etc"
   ]
  },
  {
   "cell_type": "code",
   "execution_count": 32,
   "id": "af48909c",
   "metadata": {},
   "outputs": [
    {
     "name": "stdout",
     "output_type": "stream",
     "text": [
      "Lecture: 0\n",
      "Lecture: 2\n",
      "Lecture: 3\n",
      "Lecture: 4\n",
      "Lecture: 5\n",
      "Lecture: 6\n",
      "Lecture: 7\n",
      "Lecture: 8\n"
     ]
    }
   ],
   "source": [
    "# List/tuple\n",
    "for lecture in lectures:\n",
    "    print('Lecture:', lecture)"
   ]
  },
  {
   "cell_type": "code",
   "execution_count": 33,
   "id": "822199fa",
   "metadata": {},
   "outputs": [
    {
     "data": {
      "text/plain": [
       "dict_items([(1, 'True'), (2, 'False'), (3, 'False'), (4, 'False'), (5, 'False'), (6, 'False'), (7, 'False'), (8, 'False'), (0, False), ('word', 'definition')])"
      ]
     },
     "execution_count": 33,
     "metadata": {},
     "output_type": "execute_result"
    }
   ],
   "source": [
    "lectures_occurred.items()"
   ]
  },
  {
   "cell_type": "code",
   "execution_count": 34,
   "id": "7c42665e",
   "metadata": {},
   "outputs": [
    {
     "name": "stdout",
     "output_type": "stream",
     "text": [
      "Lecture 1 occurred: True\n",
      "Lecture 2 occurred: False\n",
      "Lecture 3 occurred: False\n",
      "Lecture 4 occurred: False\n",
      "Lecture 5 occurred: False\n",
      "Lecture 6 occurred: False\n",
      "Lecture 7 occurred: False\n",
      "Lecture 8 occurred: False\n",
      "Lecture 0 occurred: False\n",
      "Lecture word occurred: definition\n"
     ]
    }
   ],
   "source": [
    "# Dict\n",
    "for lecture, lecture_occurred in lectures_occurred.items():\n",
    "    print(f'Lecture {lecture} occurred: {lecture_occurred}')"
   ]
  },
  {
   "cell_type": "code",
   "execution_count": 35,
   "id": "e0a2e342",
   "metadata": {},
   "outputs": [
    {
     "data": {
      "text/plain": [
       "8"
      ]
     },
     "execution_count": 35,
     "metadata": {},
     "output_type": "execute_result"
    }
   ],
   "source": [
    "len(lectures)"
   ]
  },
  {
   "cell_type": "code",
   "execution_count": 36,
   "id": "ff1d96aa",
   "metadata": {},
   "outputs": [
    {
     "name": "stdout",
     "output_type": "stream",
     "text": [
      "Loop 0, lecture 0\n",
      "Loop 1, lecture 2\n",
      "Loop 2, lecture 3\n",
      "Loop 3, lecture 4\n",
      "Loop 4, lecture 5\n",
      "Loop 5, lecture 6\n",
      "Loop 6, lecture 7\n",
      "Loop 7, lecture 8\n"
     ]
    }
   ],
   "source": [
    "# Range\n",
    "for i in range(len(lectures)):\n",
    "    print(f'Loop {i}, lecture {lectures[i]}')"
   ]
  },
  {
   "cell_type": "code",
   "execution_count": 37,
   "id": "b1394186",
   "metadata": {},
   "outputs": [
    {
     "name": "stdout",
     "output_type": "stream",
     "text": [
      "Loop 0, lecture 0\n",
      "Loop 1, lecture 2\n",
      "Loop 2, lecture 3\n",
      "Loop 3, lecture 4\n",
      "Loop 4, lecture 5\n",
      "Loop 5, lecture 6\n",
      "Loop 6, lecture 7\n",
      "Loop 7, lecture 8\n"
     ]
    }
   ],
   "source": [
    "# Enumerate\n",
    "for i, lecture in enumerate(lectures):\n",
    "    print(f'Loop {i}, lecture {lecture}')"
   ]
  },
  {
   "cell_type": "markdown",
   "id": "a7e41d34",
   "metadata": {},
   "source": [
    "### 7.2 While loops\n",
    "\n",
    "Iterate as long as some condition holds"
   ]
  },
  {
   "cell_type": "code",
   "execution_count": 38,
   "id": "99e30775",
   "metadata": {},
   "outputs": [
    {
     "name": "stdout",
     "output_type": "stream",
     "text": [
      "0\n",
      "1\n",
      "2\n",
      "3\n",
      "4\n",
      "5\n",
      "6\n",
      "7\n",
      "8\n",
      "9\n"
     ]
    }
   ],
   "source": [
    "i = 0\n",
    "while i < 10:\n",
    "    print(i)\n",
    "    i += 1"
   ]
  },
  {
   "cell_type": "markdown",
   "id": "dcc26b0e",
   "metadata": {},
   "source": [
    "### 7.3 Breaks\n",
    "\n",
    "An alternative way to get out of loops"
   ]
  },
  {
   "cell_type": "code",
   "execution_count": 39,
   "id": "1ee5fa10",
   "metadata": {},
   "outputs": [
    {
     "name": "stdout",
     "output_type": "stream",
     "text": [
      "0\n",
      "1\n",
      "2\n",
      "3\n",
      "4\n",
      "5\n",
      "6\n",
      "7\n",
      "8\n",
      "9\n"
     ]
    }
   ],
   "source": [
    "i = 0\n",
    "while True:\n",
    "    print(i)\n",
    "    i += 1\n",
    "    if i >= 10:\n",
    "        break"
   ]
  },
  {
   "cell_type": "markdown",
   "id": "55e01525",
   "metadata": {},
   "source": [
    "### 7.4 Continue\n",
    "\n",
    "If you want an if statement for clarity, but you don't want it to do anything"
   ]
  },
  {
   "cell_type": "code",
   "execution_count": 40,
   "id": "608d9507",
   "metadata": {},
   "outputs": [
    {
     "name": "stdout",
     "output_type": "stream",
     "text": [
      "0\n",
      "This is not lecture 3\n",
      "1\n",
      "This is not lecture 3\n",
      "2\n",
      "3\n",
      "This is not lecture 3\n",
      "4\n",
      "This is not lecture 3\n",
      "5\n",
      "This is not lecture 3\n",
      "6\n",
      "This is not lecture 3\n",
      "7\n",
      "This is not lecture 3\n"
     ]
    }
   ],
   "source": [
    "for i, lecture in enumerate(lectures):\n",
    "    print(i)\n",
    "    if lecture == 3:\n",
    "        continue\n",
    "    else:\n",
    "        print('This is not lecture 3')"
   ]
  },
  {
   "cell_type": "code",
   "execution_count": 41,
   "id": "e71c191e",
   "metadata": {},
   "outputs": [
    {
     "ename": "IndentationError",
     "evalue": "expected an indented block after 'if' statement on line 3 (3424403967.py, line 4)",
     "output_type": "error",
     "traceback": [
      "\u001b[0;36m  Cell \u001b[0;32mIn[41], line 4\u001b[0;36m\u001b[0m\n\u001b[0;31m    else:\u001b[0m\n\u001b[0m    ^\u001b[0m\n\u001b[0;31mIndentationError\u001b[0m\u001b[0;31m:\u001b[0m expected an indented block after 'if' statement on line 3\n"
     ]
    }
   ],
   "source": [
    "for i, lecture in enumerate(lectures):\n",
    "    print(i)\n",
    "    if lecture == 3:\n",
    "    else:\n",
    "        print('This is not lecture 3')"
   ]
  },
  {
   "cell_type": "markdown",
   "id": "eaf3cca6",
   "metadata": {},
   "source": [
    "## 8. Functions\n",
    "\n",
    "If you want to repeat a task, potentially non-consecutively, for potentially different contexts\n",
    "\n",
    "### 8.1 Arguments\n",
    "\n",
    "The input the function requires to run (equivalent to the arguments of a mathematical function)\n",
    "\n",
    "### 8.2 Returns\n",
    "\n",
    "What the function produces after it runs\n",
    "\n",
    "### 8.3 Comments\n",
    "\n",
    "Explain what you code is doing (put `#` before a single-line comment, or wrap a multi-line comment in triple quotes `'''`)\n",
    "\n",
    "#### 8.3.1 Docstrings\n",
    "\n",
    "Detail at the top of the function what it does, what the arguments are, and what it returns"
   ]
  },
  {
   "cell_type": "code",
   "execution_count": 42,
   "id": "92b3cc13",
   "metadata": {},
   "outputs": [],
   "source": [
    "def square_x(x):\n",
    "    '''\n",
    "    Return the square of x.\n",
    "    \n",
    "    Arguments:\n",
    "        x (float): value to square\n",
    "        \n",
    "    Returns:\n",
    "        (float): square of x\n",
    "    '''\n",
    "    return x ** 2\n",
    "\n",
    "def list_mean(lst):\n",
    "    '''\n",
    "    Return the mean of a list of numbers.\n",
    "    \n",
    "    Arguments:\n",
    "        lst (list): list to compute the mean of\n",
    "        \n",
    "    Returns:\n",
    "        (float): mean value of lst\n",
    "    '''\n",
    "    lst_sum = 0\n",
    "    lst_len = 0\n",
    "    for val in lst:\n",
    "        # Add values to sum\n",
    "        lst_sum += val\n",
    "        # Update length of list\n",
    "        lst_len += 1\n",
    "    # Compute mean value in lst\n",
    "    return lst_sum / lst_len\n",
    "\n",
    "def list_mean_v2(lst):\n",
    "    '''\n",
    "    Return the mean of a list of numbers.\n",
    "    \n",
    "    Arguments:\n",
    "        lst (list): list to compute the mean of\n",
    "        \n",
    "    Returns:\n",
    "        (float): mean value of lst\n",
    "    '''\n",
    "    return sum(lst) / len(lst)"
   ]
  },
  {
   "cell_type": "code",
   "execution_count": 43,
   "id": "fc6f9a84",
   "metadata": {},
   "outputs": [
    {
     "data": {
      "text/plain": [
       "100"
      ]
     },
     "execution_count": 43,
     "metadata": {},
     "output_type": "execute_result"
    }
   ],
   "source": [
    "square_x(10)"
   ]
  },
  {
   "cell_type": "code",
   "execution_count": 44,
   "id": "ebbd4146",
   "metadata": {},
   "outputs": [
    {
     "data": {
      "text/plain": [
       "6.333333333333333"
      ]
     },
     "execution_count": 44,
     "metadata": {},
     "output_type": "execute_result"
    }
   ],
   "source": [
    "list_mean([2, 7, 10])"
   ]
  },
  {
   "cell_type": "code",
   "execution_count": 45,
   "id": "e066c1ab",
   "metadata": {},
   "outputs": [
    {
     "data": {
      "text/plain": [
       "6.333333333333333"
      ]
     },
     "execution_count": 45,
     "metadata": {},
     "output_type": "execute_result"
    }
   ],
   "source": [
    "list_mean_v2([2, 7, 10])"
   ]
  },
  {
   "cell_type": "code",
   "execution_count": 46,
   "id": "b0218e36",
   "metadata": {},
   "outputs": [],
   "source": [
    "# Two arguments, plus using functions inside other functions\n",
    "def list_mean_v3(lst1, lst2):\n",
    "    '''\n",
    "    Return the mean of the means of two lists of numbers.\n",
    "    \n",
    "    Arguments:\n",
    "        lst1 (list): list 1 to compute the mean of\n",
    "        lst2 (list): list 2 to compute the mean of\n",
    "\n",
    "    Returns:\n",
    "        (float): mean value of mean values of lst1 and lst2\n",
    "    '''\n",
    "    return (list_mean_v2(lst1) + list_mean_v2(lst2)) / 2"
   ]
  },
  {
   "cell_type": "markdown",
   "id": "05eb0450",
   "metadata": {},
   "source": [
    "We write functions to avoid the following:"
   ]
  },
  {
   "cell_type": "code",
   "execution_count": 47,
   "id": "bd7588d0",
   "metadata": {},
   "outputs": [
    {
     "name": "stdout",
     "output_type": "stream",
     "text": [
      "6.166666666666666\n"
     ]
    }
   ],
   "source": [
    "lst1 = [2, 7, 10]\n",
    "lst2 = [5, 12, 1]\n",
    "\n",
    "lst_sum1 = 0\n",
    "lst_len1 = 0\n",
    "for val in lst1:\n",
    "    # Add values to sum\n",
    "    lst_sum1 += val\n",
    "    # Update length of list\n",
    "    lst_len1 += 1\n",
    "# Compute mean value in lst\n",
    "lst_mean1 = lst_sum1 / lst_len1\n",
    "\n",
    "lst_sum2 = 0\n",
    "lst_len2 = 0\n",
    "for val in lst2:\n",
    "    # Add values to sum\n",
    "    lst_sum2 += val\n",
    "    # Update length of list\n",
    "    lst_len2 += 1\n",
    "# Compute mean value in lst\n",
    "lst_mean2 = lst_sum2 / lst_len2\n",
    "\n",
    "print((lst_mean1 + lst_mean2) / 2)"
   ]
  },
  {
   "cell_type": "code",
   "execution_count": 48,
   "id": "4d2f264a",
   "metadata": {},
   "outputs": [
    {
     "data": {
      "text/plain": [
       "6.166666666666666"
      ]
     },
     "execution_count": 48,
     "metadata": {},
     "output_type": "execute_result"
    }
   ],
   "source": [
    "list_mean_v3([2, 7, 10], [5, 12, 1])"
   ]
  },
  {
   "cell_type": "markdown",
   "id": "0dbb0f10",
   "metadata": {},
   "source": [
    "## 9. Printing text\n",
    "\n",
    "Useful for debugging\n",
    "\n",
    "Look throughout for examples, but primarily use f-strings:"
   ]
  },
  {
   "cell_type": "code",
   "execution_count": 49,
   "id": "b6e7d986",
   "metadata": {},
   "outputs": [
    {
     "name": "stdout",
     "output_type": "stream",
     "text": [
      "This is an f statement, so we can print variables like lists: [0, 2, 3, 4, 5, 6, 7, 8] or dicts: {1: 'True', 2: 'False', 3: 'False', 4: 'False', 5: 'False', 6: 'False', 7: 'False', 8: 'False', 0: False, 'word': 'definition'} easily\n"
     ]
    }
   ],
   "source": [
    "print(f'This is an f statement, so we can print variables like lists: {lectures} or dicts: {lectures_occurred} easily')"
   ]
  },
  {
   "cell_type": "markdown",
   "id": "19ef3cab",
   "metadata": {},
   "source": [
    "For simple cases, use commas (this is not as clean for complicated examples):"
   ]
  },
  {
   "cell_type": "code",
   "execution_count": 50,
   "id": "22c12336",
   "metadata": {},
   "outputs": [
    {
     "name": "stdout",
     "output_type": "stream",
     "text": [
      "Lectures: [0, 2, 3, 4, 5, 6, 7, 8]\n"
     ]
    }
   ],
   "source": [
    "print('Lectures:', lectures)"
   ]
  }
 ],
 "metadata": {
  "kernelspec": {
   "display_name": "Python 3 (ipykernel)",
   "language": "python",
   "name": "python3"
  },
  "language_info": {
   "codemirror_mode": {
    "name": "ipython",
    "version": 3
   },
   "file_extension": ".py",
   "mimetype": "text/x-python",
   "name": "python",
   "nbconvert_exporter": "python",
   "pygments_lexer": "ipython3",
   "version": "3.12.3"
  }
 },
 "nbformat": 4,
 "nbformat_minor": 5
}
