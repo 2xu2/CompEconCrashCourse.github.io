{
 "cells": [
  {
   "cell_type": "markdown",
   "id": "2cba0e12",
   "metadata": {},
   "source": [
    "# Lesson 1\n",
    "\n",
    "## Overview\n",
    "\n",
    "1. Self-introductions\n",
    "\n",
    "2. Conda\n",
    "- Environments\n",
    "\n",
    "3. Importing packages\n",
    "\n",
    "4. Variables\n",
    "- Assignment (using =)\n",
    "- Naming\n",
    "- Types (str, int, float, bool, lists/tuples/sets, dicts)\n",
    "- For ints/floats: operations\n",
    "- Lists/tuples/sets and dicts\n",
    "- - For lists/tuples: subsets, len(), sum(), max(), min(), etc.\n",
    "- For strings: subsets, addition, and f-strings\n",
    "\n",
    "5. If statements\n",
    "- Comparisons\n",
    "- `and` and `or`\n",
    "- Indentation\n",
    "\n",
    "6. Loops\n",
    "- Indentation\n",
    "- For loops\n",
    "- While loops\n",
    "- Breaks\n",
    "- Continue\n",
    "\n",
    "7. Functions\n",
    "- Syntax\n",
    "- Indentation\n",
    "- Arguments\n",
    "- Returns\n",
    "- Comments\n",
    "- - Docstrings\n",
    "\n",
    "8. Printing text"
   ]
  },
  {
   "cell_type": "markdown",
   "id": "60c17f44",
   "metadata": {},
   "source": [
    "## 1. Self-introductions\n",
    "\n",
    "## 2. Conda\n",
    "\n",
    "Does lots of things, we're using it for package management\n",
    "\n",
    "Packages are how people share their code with others\n",
    "\n",
    "### 2.1 Environments\n",
    "\n",
    "Allows you to keep packages organized - see [here](https://docs.conda.io/projects/conda/en/latest/user-guide/tasks/manage-environments.html)\n",
    "\n",
    "- To create: `conda create --name pycourse` (you can replace `pycourse` with any custom name)\n",
    "- To activate: `conda activate pycourse`\n",
    "- To install pip: `conda install pip`\n",
    "- To install package: `pip install packagename` (replace `packagename` with the name of the package you want to install)\n",
    "- - For this lesson, please install: `jupyterlab` and/or `notebook` to be able to open Jupyter Notebooks (like this) (see [here](https://jupyter.org/install) for more information)\n",
    "\n",
    "## 3. Importing packages\n",
    "\n",
    "Type `import packagename`"
   ]
  },
  {
   "cell_type": "code",
   "execution_count": null,
   "id": "377abe5c",
   "metadata": {},
   "outputs": [],
   "source": [
    "import random"
   ]
  },
  {
   "cell_type": "code",
   "execution_count": null,
   "id": "6224ba08",
   "metadata": {},
   "outputs": [],
   "source": [
    "print(random.random())"
   ]
  },
  {
   "cell_type": "markdown",
   "id": "eca89b0b",
   "metadata": {},
   "source": [
    "## 4. Variables\n",
    "\n",
    "Why - you need to keep track of what's what\n",
    "\n",
    "### 4.1 Assignment\n",
    "\n",
    "Assign a value to a name using `=` (this is not equivalent to mathematical equality, check that using `==`)"
   ]
  },
  {
   "cell_type": "code",
   "execution_count": null,
   "id": "e3b811c7",
   "metadata": {},
   "outputs": [],
   "source": [
    "x = 10\n",
    "print(x)"
   ]
  },
  {
   "cell_type": "markdown",
   "id": "0ad3960c",
   "metadata": {},
   "source": [
    "### 4.2 Naming\n",
    "\n",
    "Choose names carefully"
   ]
  },
  {
   "cell_type": "code",
   "execution_count": null,
   "id": "49b93231",
   "metadata": {},
   "outputs": [],
   "source": [
    "x = 10\n",
    "distance = 10"
   ]
  },
  {
   "cell_type": "markdown",
   "id": "9a5e3a8c",
   "metadata": {},
   "source": [
    "### 4.3 Types\n",
    "\n",
    "str, int, float, bool, lists/tuples/sets, dicts"
   ]
  },
  {
   "cell_type": "code",
   "execution_count": null,
   "id": "0b46551d",
   "metadata": {},
   "outputs": [],
   "source": [
    "course_name_v1 = 'Python Course, Summer 2024'\n",
    "course_name_v2 = \"Python Course, Summer 2024\"\n",
    "course_name_v3 = \\\n",
    "'''\n",
    "Python Course, Summer 2024\n",
    "'''\n",
    "course_year = 2024\n",
    "lecture_1_frac_complete = 1/5 # Or 0.2\n",
    "lecture_1_complete = False # Or True\n",
    "lectures = [1, 2, 3, 4, 5, 6, 7, 8]\n",
    "lecture_v2 = (1, 2, 3, 4, 5, 6, 7, 8)\n",
    "lectures_v3 = {1, 2, 3, 4, 5, 6, 7, 8, 8}\n",
    "lectures_occurred = {1: 'True', 2: 'False', 3: 'False', 4: 'False', 5: 'False', 6: 'False', 7: 'False', 8: 'False'}"
   ]
  },
  {
   "cell_type": "markdown",
   "id": "a91f1f96",
   "metadata": {},
   "source": [
    "### 4.4 For ints/floats: operations\n",
    "\n",
    "- Addition: `+`\n",
    "- Subtraction: `-`\n",
    "- Multiplication: `*`\n",
    "- Division: `/`\n",
    "- Exponentiation: `**`\n",
    "- In-place: `+=`, `-=`, `*=`, `/=`, `**=`"
   ]
  },
  {
   "cell_type": "code",
   "execution_count": null,
   "id": "d3ea948c",
   "metadata": {},
   "outputs": [],
   "source": [
    "a = 5\n",
    "b = 2"
   ]
  },
  {
   "cell_type": "code",
   "execution_count": null,
   "id": "c0306d31",
   "metadata": {},
   "outputs": [],
   "source": [
    "print(a + b)"
   ]
  },
  {
   "cell_type": "code",
   "execution_count": null,
   "id": "61cc5f49",
   "metadata": {},
   "outputs": [],
   "source": [
    "a += b\n",
    "print(a)"
   ]
  },
  {
   "cell_type": "code",
   "execution_count": null,
   "id": "54cdea67",
   "metadata": {},
   "outputs": [],
   "source": [
    "a = 5\n",
    "a *= b\n",
    "print(a)"
   ]
  },
  {
   "cell_type": "code",
   "execution_count": null,
   "id": "7178a3f2",
   "metadata": {},
   "outputs": [],
   "source": [
    "a = 5\n",
    "a **= b\n",
    "print(a)"
   ]
  },
  {
   "cell_type": "markdown",
   "id": "8eaecb3a",
   "metadata": {},
   "source": [
    "### 4.5 Lists/tuples/sets and dicts\n",
    "\n",
    "Lists are mutable (they can be changed)\n",
    "- Access an element using `list[index]` (indexing starts at 0)\n",
    "\n",
    "Tuples are immutable (they cannot be changed)\n",
    "- Access an element using `tuple[index]` (indexing starts at 0)\n",
    "\n",
    "Sets don't have an order\n",
    "\n",
    "Dicts work like a dictionary (a term called a 'key' will be linked to an associated variable called a 'value')\n",
    "- Access a `value` using `dict[key]`"
   ]
  },
  {
   "cell_type": "code",
   "execution_count": null,
   "id": "8ccc8b11",
   "metadata": {},
   "outputs": [],
   "source": [
    "print(lectures)\n",
    "lectures[0] = 0\n",
    "print(lectures)"
   ]
  },
  {
   "cell_type": "code",
   "execution_count": null,
   "id": "b98e820e",
   "metadata": {},
   "outputs": [],
   "source": [
    "print(lecture_v2)\n",
    "lecture_v2[0] = 0"
   ]
  },
  {
   "cell_type": "code",
   "execution_count": null,
   "id": "644ee3ef",
   "metadata": {},
   "outputs": [],
   "source": [
    "print(lectures_v3)\n",
    "lectures_v3[0] = 0"
   ]
  },
  {
   "cell_type": "code",
   "execution_count": null,
   "id": "941e7d6b",
   "metadata": {},
   "outputs": [],
   "source": [
    "print(lectures_occurred)\n",
    "lectures_occurred[0] = False\n",
    "print(lectures_occurred)\n",
    "lectures_occurred['word'] = 'definition'\n",
    "print(lectures_occurred)"
   ]
  },
  {
   "cell_type": "markdown",
   "id": "fca5d21e",
   "metadata": {},
   "source": [
    "### 4.5.1 For lists/tuples: subsets, len(), sum(), max(), min(), etc.\n",
    "\n",
    "Access a subset of a list/tuple using `list[a: b]`/`tuple[a: b]`, which gives you the elements starting and index `a` and ending at index `b-1` (remember that indexing starts at 0)"
   ]
  },
  {
   "cell_type": "code",
   "execution_count": null,
   "id": "eb7e7c1c",
   "metadata": {},
   "outputs": [],
   "source": [
    "print(lectures)\n",
    "print('Subset of list:', lectures[2: 4])\n",
    "print('Last element of list:', lectures[-1])\n",
    "print('Length of list:', len(lectures))\n",
    "print('Max of tuple:', max(lecture_v2))\n",
    "print('Min of tuple:', min(lecture_v2))"
   ]
  },
  {
   "cell_type": "markdown",
   "id": "5c986418",
   "metadata": {},
   "source": [
    "### 4.6 For strings: subsets, addition, and f-strings\n",
    "\n",
    "Access substrings as if the string is a list"
   ]
  },
  {
   "cell_type": "code",
   "execution_count": null,
   "id": "033386e9",
   "metadata": {},
   "outputs": [],
   "source": [
    "a = 'hello'\n",
    "a[3: 5]"
   ]
  },
  {
   "cell_type": "code",
   "execution_count": null,
   "id": "825cce75",
   "metadata": {},
   "outputs": [],
   "source": [
    "a[0]"
   ]
  },
  {
   "cell_type": "code",
   "execution_count": null,
   "id": "fc025638",
   "metadata": {},
   "outputs": [],
   "source": [
    "a[2:]"
   ]
  },
  {
   "cell_type": "code",
   "execution_count": null,
   "id": "1739b545",
   "metadata": {},
   "outputs": [],
   "source": [
    "a[-3:]"
   ]
  },
  {
   "cell_type": "markdown",
   "id": "b23cce3b",
   "metadata": {},
   "source": [
    "Strings can be combined using `+`"
   ]
  },
  {
   "cell_type": "code",
   "execution_count": null,
   "id": "953d7beb",
   "metadata": {},
   "outputs": [],
   "source": [
    "a = 'hello'\n",
    "b = 'goodbye'\n",
    "a + b"
   ]
  },
  {
   "cell_type": "markdown",
   "id": "aee3ee52",
   "metadata": {},
   "source": [
    "Variables can easily be put into strings using f-strings"
   ]
  },
  {
   "cell_type": "code",
   "execution_count": null,
   "id": "8fe5c219",
   "metadata": {},
   "outputs": [],
   "source": [
    "a = 5\n",
    "b = 6\n",
    "f'a is {a} and b is {b}'"
   ]
  },
  {
   "cell_type": "markdown",
   "id": "bc0eaa90",
   "metadata": {},
   "source": [
    "## 5. If statements\n",
    "\n",
    "If you want a task to occur under certain conditions\n",
    "\n",
    "### 5.1 Comparisons\n",
    "\n",
    "- `==` for equality\n",
    "- `!=` for inequality\n",
    "- `>` or `<` for strict inequality\n",
    "- `>=` or `<=` for weak inequality\n",
    "- `in` for list membership\n",
    "- `is` for variable reference ids and `None`"
   ]
  },
  {
   "cell_type": "code",
   "execution_count": null,
   "id": "88f00d4a",
   "metadata": {},
   "outputs": [],
   "source": [
    "x"
   ]
  },
  {
   "cell_type": "code",
   "execution_count": null,
   "id": "c653421f",
   "metadata": {},
   "outputs": [],
   "source": [
    "if x == 8:\n",
    "    print('x is 8')\n",
    "elif x == 9:\n",
    "    print('x is 9')\n",
    "else:\n",
    "    print('x is neither 8 nor 9')"
   ]
  },
  {
   "cell_type": "markdown",
   "id": "66b68549",
   "metadata": {},
   "source": [
    "If a variable is already a boolean, it can directly be used as a comparison - conciseness is preferred"
   ]
  },
  {
   "cell_type": "code",
   "execution_count": null,
   "id": "97919539",
   "metadata": {},
   "outputs": [],
   "source": [
    "a = 5\n",
    "x = (a == 5)\n",
    "if x: # Preferred\n",
    "    print('x is True since a is 5')\n",
    "else:\n",
    "    print('x is False since a is not 5')\n",
    "if x == True: # Works, but not preferred\n",
    "    print('x is True since a is 5')\n",
    "else:\n",
    "    print('x is False since a is not 5')"
   ]
  },
  {
   "cell_type": "markdown",
   "id": "af8a3e88",
   "metadata": {},
   "source": [
    "### 5.2 `and` and `or`\n",
    "\n",
    "Combine statements with `and` and `or`"
   ]
  },
  {
   "cell_type": "code",
   "execution_count": null,
   "id": "f43ecd00",
   "metadata": {},
   "outputs": [],
   "source": [
    "if (x >= 0) and (x < 20):\n",
    "    print('x is in [0, 20)')"
   ]
  },
  {
   "cell_type": "code",
   "execution_count": null,
   "id": "0d4b8561",
   "metadata": {},
   "outputs": [],
   "source": [
    "if 0 <= x < 20:\n",
    "    print('x is in [0, 20)')"
   ]
  },
  {
   "cell_type": "markdown",
   "id": "4bab2da8",
   "metadata": {},
   "source": [
    "### 5.3 Indentation\n",
    "\n",
    "Make sure the code inside the if statement is properly indented (4 spaces)\n",
    "\n",
    "Nested if statements should also have nested indentation"
   ]
  },
  {
   "cell_type": "markdown",
   "id": "c40cdb7a",
   "metadata": {},
   "source": [
    "## 6. Loops\n",
    "\n",
    "If you want to repeat a task\n",
    "\n",
    "### 6.1 Indentation\n",
    "\n",
    "Make sure the code inside the loop is properly indented (4 spaces)\n",
    "\n",
    "Nested loops should also have nested indentation\n",
    "\n",
    "### 6.2 For loops\n",
    "\n",
    "Iterate through the elements of a list/tuple/etc"
   ]
  },
  {
   "cell_type": "code",
   "execution_count": null,
   "id": "af48909c",
   "metadata": {},
   "outputs": [],
   "source": [
    "# List/tuple\n",
    "for lecture in lectures:\n",
    "    print('Lecture:', lecture)"
   ]
  },
  {
   "cell_type": "code",
   "execution_count": null,
   "id": "822199fa",
   "metadata": {},
   "outputs": [],
   "source": [
    "lectures_occurred.items()"
   ]
  },
  {
   "cell_type": "code",
   "execution_count": null,
   "id": "7c42665e",
   "metadata": {},
   "outputs": [],
   "source": [
    "# Dict\n",
    "for lecture, lecture_occurred in lectures_occurred.items():\n",
    "    print(f'Lecture {lecture} occurred: {lecture_occurred}')"
   ]
  },
  {
   "cell_type": "code",
   "execution_count": null,
   "id": "e0a2e342",
   "metadata": {},
   "outputs": [],
   "source": [
    "len(lectures)"
   ]
  },
  {
   "cell_type": "code",
   "execution_count": null,
   "id": "ff1d96aa",
   "metadata": {},
   "outputs": [],
   "source": [
    "# Range\n",
    "for i in range(len(lectures)):\n",
    "    print(f'Loop {i}, lecture {lectures[i]}')"
   ]
  },
  {
   "cell_type": "code",
   "execution_count": null,
   "id": "b1394186",
   "metadata": {},
   "outputs": [],
   "source": [
    "# Enumerate\n",
    "for i, lecture in enumerate(lectures):\n",
    "    print(f'Loop {i}, lecture {lecture}')"
   ]
  },
  {
   "cell_type": "markdown",
   "id": "a7e41d34",
   "metadata": {},
   "source": [
    "### 6.3 While loops\n",
    "\n",
    "Iterate as long as some condition holds"
   ]
  },
  {
   "cell_type": "code",
   "execution_count": null,
   "id": "99e30775",
   "metadata": {},
   "outputs": [],
   "source": [
    "i = 0\n",
    "while i < 10:\n",
    "    print(i)\n",
    "    i += 1"
   ]
  },
  {
   "cell_type": "markdown",
   "id": "dcc26b0e",
   "metadata": {},
   "source": [
    "### 6.4 Breaks\n",
    "\n",
    "An alternative way to get out of loops"
   ]
  },
  {
   "cell_type": "code",
   "execution_count": null,
   "id": "1ee5fa10",
   "metadata": {},
   "outputs": [],
   "source": [
    "i = 0\n",
    "while True:\n",
    "    print(i)\n",
    "    i += 1\n",
    "    if i >= 10:\n",
    "        break"
   ]
  },
  {
   "cell_type": "markdown",
   "id": "55e01525",
   "metadata": {},
   "source": [
    "### 6.5 Continue\n",
    "\n",
    "If you want an if statement for clarity, but you don't want it to do anything"
   ]
  },
  {
   "cell_type": "code",
   "execution_count": null,
   "id": "608d9507",
   "metadata": {},
   "outputs": [],
   "source": [
    "for i, lecture in enumerate(lectures):\n",
    "    print(i)\n",
    "    if lecture == 3:\n",
    "        continue\n",
    "    else:\n",
    "        print('This is not lecture 3')"
   ]
  },
  {
   "cell_type": "code",
   "execution_count": null,
   "id": "e71c191e",
   "metadata": {},
   "outputs": [],
   "source": [
    "for i, lecture in enumerate(lectures):\n",
    "    print(i)\n",
    "    if lecture == 3:\n",
    "    else:\n",
    "        print('This is not lecture 3')"
   ]
  },
  {
   "cell_type": "markdown",
   "id": "eaf3cca6",
   "metadata": {},
   "source": [
    "## 7. Functions\n",
    "\n",
    "A simple way to repeat a task\n",
    "\n",
    "### 7.1 Syntax\n",
    "\n",
    "Make sure to write `def` before the function name, put the function arguments inside parantheses, and make sure the parentheses are followed by a semicolon\n",
    "\n",
    "### 7.2 Indentation\n",
    "\n",
    "Make sure the code inside the function is properly indented (4 spaces)\n",
    "\n",
    "Nested functions should also have nested indentation\n",
    "\n",
    "### 7.3 Arguments\n",
    "\n",
    "The input the function requires to run (equivalent to the arguments of a mathematical function)\n",
    "\n",
    "### 7.4 Returns\n",
    "\n",
    "What the function produces after it runs\n",
    "\n",
    "### 7.5 Comments\n",
    "\n",
    "Explain what you code is doing (put `#` before a single-line comment, or wrap a multi-line comment in triple quotes `'''`)\n",
    "\n",
    "#### 7.5.1 Docstrings\n",
    "\n",
    "Detail at the top of the function what it does, what the arguments are, and what it returns"
   ]
  },
  {
   "cell_type": "code",
   "execution_count": null,
   "id": "92b3cc13",
   "metadata": {},
   "outputs": [],
   "source": [
    "def square_x(x):\n",
    "    '''\n",
    "    Return the square of x.\n",
    "    \n",
    "    Arguments:\n",
    "        x (float): value to square\n",
    "        \n",
    "    Returns:\n",
    "        (float): square of x\n",
    "    '''\n",
    "    return x ** 2\n",
    "\n",
    "def list_mean(lst):\n",
    "    '''\n",
    "    Return the mean of a list of numbers.\n",
    "    \n",
    "    Arguments:\n",
    "        lst (list): list to compute the mean of\n",
    "        \n",
    "    Returns:\n",
    "        (float): mean value of lst\n",
    "    '''\n",
    "    lst_sum = 0\n",
    "    lst_len = 0\n",
    "    for val in lst:\n",
    "        # Add values to sum\n",
    "        lst_sum += val\n",
    "        # Update length of list\n",
    "        lst_len += 1\n",
    "    # Compute mean value in lst\n",
    "    return lst_sum / lst_len\n",
    "\n",
    "def list_mean_v2(lst):\n",
    "    '''\n",
    "    Return the mean of a list of numbers.\n",
    "    \n",
    "    Arguments:\n",
    "        lst (list): list to compute the mean of\n",
    "        \n",
    "    Returns:\n",
    "        (float): mean value of lst\n",
    "    '''\n",
    "    return sum(lst) / len(lst)\n",
    "\n",
    "# Two arguments, plus using functions inside other functions\n",
    "def list_mean_v3(lst1, lst2):\n",
    "    '''\n",
    "    Return the mean of the means of two lists of numbers.\n",
    "    \n",
    "    Arguments:\n",
    "        lst1 (list): list 1 to compute the mean of\n",
    "        lst2 (list): list 2 to compute the mean of\n",
    "\n",
    "    Returns:\n",
    "        (float): mean value of mean values of lst1 and lst2\n",
    "    '''\n",
    "    return (list_mean_v2(lst1) + list_mean_v2(lst2)) / 2"
   ]
  },
  {
   "cell_type": "code",
   "execution_count": null,
   "id": "fc6f9a84",
   "metadata": {},
   "outputs": [],
   "source": [
    "square_x(10)"
   ]
  },
  {
   "cell_type": "code",
   "execution_count": null,
   "id": "ebbd4146",
   "metadata": {},
   "outputs": [],
   "source": [
    "list_mean([2, 7, 10])"
   ]
  },
  {
   "cell_type": "code",
   "execution_count": null,
   "id": "e066c1ab",
   "metadata": {},
   "outputs": [],
   "source": [
    "list_mean_v2([2, 7, 10])"
   ]
  },
  {
   "cell_type": "code",
   "execution_count": null,
   "id": "4d2f264a",
   "metadata": {},
   "outputs": [],
   "source": [
    "list_mean_v3([2, 7, 10], [5, 12, 1])"
   ]
  },
  {
   "cell_type": "markdown",
   "id": "0dbb0f10",
   "metadata": {},
   "source": [
    "## 8. Printing text\n",
    "\n",
    "Useful for debugging\n",
    "\n",
    "Look throughout for examples, but primarily use f-strings:"
   ]
  },
  {
   "cell_type": "code",
   "execution_count": null,
   "id": "b6e7d986",
   "metadata": {},
   "outputs": [],
   "source": [
    "print(f'This is an f statement, so we can print variables like lists: {lectures} or dicts: {lectures_occurred} easily')"
   ]
  },
  {
   "cell_type": "markdown",
   "id": "19ef3cab",
   "metadata": {},
   "source": [
    "For simple cases, use commas (this is not as clean for complicated examples):"
   ]
  },
  {
   "cell_type": "code",
   "execution_count": null,
   "id": "22c12336",
   "metadata": {},
   "outputs": [],
   "source": [
    "print('Lectures:', lectures)"
   ]
  }
 ],
 "metadata": {
  "kernelspec": {
   "display_name": "Python 3 (ipykernel)",
   "language": "python",
   "name": "python3"
  },
  "language_info": {
   "codemirror_mode": {
    "name": "ipython",
    "version": 3
   },
   "file_extension": ".py",
   "mimetype": "text/x-python",
   "name": "python",
   "nbconvert_exporter": "python",
   "pygments_lexer": "ipython3",
   "version": "3.11.5"
  }
 },
 "nbformat": 4,
 "nbformat_minor": 5
}
