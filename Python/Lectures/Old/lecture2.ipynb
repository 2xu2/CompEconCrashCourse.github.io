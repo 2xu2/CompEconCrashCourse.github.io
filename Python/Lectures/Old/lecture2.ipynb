{
 "cells": [
  {
   "cell_type": "markdown",
   "id": "2cba0e12",
   "metadata": {},
   "source": [
    "# Lesson 2\n",
    "\n",
    "## Overview\n",
    "\n",
    "1. Stuff I forgot to teach\n",
    "- Type casting\n",
    "\n",
    "2. Nesting\n",
    "- Nested loops\n",
    "- Nested lists/tuples/dicts/etc.\n",
    "\n",
    "3. References and scope\n",
    "- References\n",
    "- - Copying\n",
    "- Scope\n",
    "\n",
    "4. List index\n",
    "\n",
    "5. PA1 Review"
   ]
  },
  {
   "cell_type": "markdown",
   "id": "03b45d4c",
   "metadata": {},
   "source": [
    "## 1. Stuff I forgot to teach\n",
    "\n",
    "### 1.1 Type casting\n",
    "\n",
    "Converting between types\n",
    "\n",
    "Use the name of the type as a function to convert a variable to that type"
   ]
  },
  {
   "cell_type": "code",
   "execution_count": null,
   "id": "9caaa60d",
   "metadata": {},
   "outputs": [],
   "source": [
    "a = 5.0"
   ]
  },
  {
   "cell_type": "code",
   "execution_count": null,
   "id": "fb083c6c",
   "metadata": {},
   "outputs": [],
   "source": [
    "a"
   ]
  },
  {
   "cell_type": "code",
   "execution_count": null,
   "id": "a754a867",
   "metadata": {},
   "outputs": [],
   "source": [
    "int(a)"
   ]
  },
  {
   "cell_type": "code",
   "execution_count": null,
   "id": "3dfa7dcd",
   "metadata": {},
   "outputs": [],
   "source": [
    "type(int(a))"
   ]
  },
  {
   "cell_type": "code",
   "execution_count": null,
   "id": "2d07d28e",
   "metadata": {},
   "outputs": [],
   "source": [
    "str(a)"
   ]
  },
  {
   "cell_type": "code",
   "execution_count": null,
   "id": "1ab84df6",
   "metadata": {},
   "outputs": [],
   "source": [
    "type(str(a))"
   ]
  },
  {
   "cell_type": "code",
   "execution_count": null,
   "id": "b5630410",
   "metadata": {},
   "outputs": [],
   "source": [
    "a = '123'"
   ]
  },
  {
   "cell_type": "code",
   "execution_count": null,
   "id": "2dde3c95",
   "metadata": {},
   "outputs": [],
   "source": [
    "a"
   ]
  },
  {
   "cell_type": "code",
   "execution_count": null,
   "id": "49c799c1",
   "metadata": {},
   "outputs": [],
   "source": [
    "int(a)"
   ]
  },
  {
   "cell_type": "code",
   "execution_count": null,
   "id": "36547538",
   "metadata": {},
   "outputs": [],
   "source": [
    "type(int(a))"
   ]
  },
  {
   "cell_type": "code",
   "execution_count": null,
   "id": "f53d1d3e",
   "metadata": {},
   "outputs": [],
   "source": [
    "float(a)"
   ]
  },
  {
   "cell_type": "code",
   "execution_count": null,
   "id": "393250d6",
   "metadata": {},
   "outputs": [],
   "source": [
    "type(float(a))"
   ]
  },
  {
   "cell_type": "markdown",
   "id": "c70d7038",
   "metadata": {},
   "source": [
    "## 2. Nesting\n",
    "\n",
    "### 2.1 Nested loops\n",
    "\n",
    "A loop inside a loop\n",
    "\n",
    "NOTE 1: Be careful about indents!\n",
    "\n",
    "NOTE 2: You can include if and/or while statements inside nested loops"
   ]
  },
  {
   "cell_type": "code",
   "execution_count": null,
   "id": "44560f25",
   "metadata": {},
   "outputs": [],
   "source": [
    "for i in range(3):\n",
    "    for j in range(3):\n",
    "        print(f'i: {i}, j: {j}')"
   ]
  },
  {
   "cell_type": "markdown",
   "id": "fe4cb45d",
   "metadata": {},
   "source": [
    "### 2.2 Nested lists/tuples/dicts/etc.\n",
    "\n",
    "The elements of the main list are lists - access sublists using brackets, then elements of sublists using brackets"
   ]
  },
  {
   "cell_type": "code",
   "execution_count": null,
   "id": "47404a5c",
   "metadata": {},
   "outputs": [],
   "source": [
    "nested_list = [\n",
    "    ['a11', 'a12', 'a13'],\n",
    "    ['a21', 'a22', 'a23', 'a24'],\n",
    "    ['a31', 'a32', 'a33']\n",
    "]\n",
    "print(nested_list)"
   ]
  },
  {
   "cell_type": "code",
   "execution_count": null,
   "id": "19d5ec63",
   "metadata": {},
   "outputs": [],
   "source": [
    "print(nested_list[1])"
   ]
  },
  {
   "cell_type": "code",
   "execution_count": null,
   "id": "9b582919",
   "metadata": {},
   "outputs": [],
   "source": [
    "print(nested_list[1][2])"
   ]
  },
  {
   "cell_type": "code",
   "execution_count": null,
   "id": "4ccac799",
   "metadata": {},
   "outputs": [],
   "source": [
    "nested_list = [\n",
    "    ['a11', 'a12', 'a13'],\n",
    "    ['a21', 'a22', 'a23', 'a24'],\n",
    "    ['a31', 'a32', 'a33'],\n",
    "    'fjls',\n",
    "    134,\n",
    "    {'a': {'c': [1, 2, 3], 'd': 123}, 'b': 2}\n",
    "]\n",
    "print(nested_list)"
   ]
  },
  {
   "cell_type": "code",
   "execution_count": null,
   "id": "cef6dca3",
   "metadata": {},
   "outputs": [],
   "source": [
    "print(nested_list[5])"
   ]
  },
  {
   "cell_type": "code",
   "execution_count": null,
   "id": "ba3b1a57",
   "metadata": {},
   "outputs": [],
   "source": [
    "print(nested_list[5]['a'])"
   ]
  },
  {
   "cell_type": "code",
   "execution_count": null,
   "id": "85b9c97c",
   "metadata": {},
   "outputs": [],
   "source": [
    "print(nested_list[5]['a']['d'])"
   ]
  },
  {
   "cell_type": "markdown",
   "id": "2a3d9820",
   "metadata": {},
   "source": [
    "## 3. References and scope\n",
    "\n",
    "What is the effect of modifying a variable?\n",
    "\n",
    "### 3.1 References"
   ]
  },
  {
   "cell_type": "code",
   "execution_count": null,
   "id": "75525590",
   "metadata": {},
   "outputs": [],
   "source": [
    "a = 3\n",
    "b = a\n",
    "b = 4\n",
    "print(f'a: {a}, b: {b}')"
   ]
  },
  {
   "cell_type": "markdown",
   "id": "98366a00",
   "metadata": {},
   "source": [
    "Variables that are lists are actually references to where the list is stored in memory"
   ]
  },
  {
   "cell_type": "code",
   "execution_count": null,
   "id": "c2b15eda",
   "metadata": {},
   "outputs": [],
   "source": [
    "a = [1, 2, 3]\n",
    "b = a\n",
    "b.append(4)\n",
    "print('a:', a)\n",
    "print('b:', b)"
   ]
  },
  {
   "cell_type": "markdown",
   "id": "89c1e241",
   "metadata": {},
   "source": [
    "Another variable with the same values does not use the same reference"
   ]
  },
  {
   "cell_type": "code",
   "execution_count": null,
   "id": "64a5982d",
   "metadata": {},
   "outputs": [],
   "source": [
    "a = [1, 2, 3]\n",
    "b = [1, 2, 3]\n",
    "print('a:', a)\n",
    "print('b:', b)"
   ]
  },
  {
   "cell_type": "markdown",
   "id": "1557f716",
   "metadata": {},
   "source": [
    "### 3.1.1 Copying"
   ]
  },
  {
   "cell_type": "code",
   "execution_count": null,
   "id": "a28dc0f1",
   "metadata": {},
   "outputs": [],
   "source": [
    "b = a.copy()\n",
    "b.append(4)\n",
    "print('a:', a)\n",
    "print('b:', b)"
   ]
  },
  {
   "cell_type": "markdown",
   "id": "3e0196db",
   "metadata": {},
   "source": [
    "### 3.2 Scope\n",
    "\n",
    "Defining new variables inside a function is a new, smaller scope"
   ]
  },
  {
   "cell_type": "code",
   "execution_count": null,
   "id": "f3886c06",
   "metadata": {},
   "outputs": [],
   "source": [
    "a = 5\n",
    "\n",
    "def a_to_ten():\n",
    "    a = 10\n",
    "    print('Inside function:', a)\n",
    "\n",
    "print('Before function:', a)\n",
    "a_to_ten()\n",
    "print('After function:', a)"
   ]
  },
  {
   "cell_type": "markdown",
   "id": "eeab5a2a",
   "metadata": {},
   "source": [
    "Can still modify lists inside of functions (this is called in-place modification)"
   ]
  },
  {
   "cell_type": "code",
   "execution_count": null,
   "id": "f1231738",
   "metadata": {},
   "outputs": [],
   "source": [
    "a = [1, 2, 3]\n",
    "\n",
    "def append_4(a):\n",
    "    a.append(4)\n",
    "\n",
    "print('Before function:', a)\n",
    "append_4(a)\n",
    "print('After function:', a)"
   ]
  },
  {
   "cell_type": "markdown",
   "id": "2fe1980d",
   "metadata": {},
   "source": [
    "This does not depend on calling the function argument `a`"
   ]
  },
  {
   "cell_type": "code",
   "execution_count": null,
   "id": "6a975498",
   "metadata": {},
   "outputs": [],
   "source": [
    "a = [1, 2, 3]\n",
    "\n",
    "def append_4(b):\n",
    "    b.append(4)\n",
    "\n",
    "print('Before function:', a)\n",
    "append_4(a)\n",
    "print('After function:', a)"
   ]
  },
  {
   "cell_type": "markdown",
   "id": "f6382f59",
   "metadata": {},
   "source": [
    "If we don't define `a` inside the function, it will use `a` from outside the function's scope"
   ]
  },
  {
   "cell_type": "code",
   "execution_count": null,
   "id": "f56f2de5",
   "metadata": {},
   "outputs": [],
   "source": [
    "a = [1, 2, 3]\n",
    "\n",
    "def append_4():\n",
    "    a.append(4)\n",
    "\n",
    "print('Before function:', a)\n",
    "append_4()\n",
    "print('After function:', a)"
   ]
  },
  {
   "cell_type": "code",
   "execution_count": null,
   "id": "b9a096a6",
   "metadata": {},
   "outputs": [],
   "source": [
    "a = [1, 2, 3]\n",
    "\n",
    "def append_4():\n",
    "    a.copy().append(4)\n",
    "\n",
    "print('Before function:', a)\n",
    "append_4()\n",
    "print('After function:', a)"
   ]
  },
  {
   "cell_type": "markdown",
   "id": "af3f1b5e",
   "metadata": {},
   "source": [
    "These issues don't arise with strings"
   ]
  },
  {
   "cell_type": "code",
   "execution_count": null,
   "id": "cc218c2d",
   "metadata": {},
   "outputs": [],
   "source": [
    "a = 'hello'\n",
    "\n",
    "def append_4(a):\n",
    "    a += 'goodbye'\n",
    "\n",
    "print('Before function:', a)\n",
    "append_4(a)\n",
    "print('After function:', a)"
   ]
  },
  {
   "cell_type": "code",
   "execution_count": null,
   "id": "cac58e82",
   "metadata": {},
   "outputs": [],
   "source": [
    "a = 'hello'\n",
    "\n",
    "def append_4(a):\n",
    "    a += 'goodbye'\n",
    "    return a\n",
    "\n",
    "print('Before function:', a)\n",
    "a2 = append_4(a)\n",
    "print('After function:', a)\n",
    "print('a2:', a2)"
   ]
  },
  {
   "cell_type": "markdown",
   "id": "074ec109",
   "metadata": {},
   "source": [
    "## 4. List index\n",
    "\n",
    "Find the index of an element in a list - useful for PA2"
   ]
  },
  {
   "cell_type": "code",
   "execution_count": null,
   "id": "c2474867",
   "metadata": {},
   "outputs": [],
   "source": [
    "list1 = ['a', 'b', 'c']\n",
    "print(list1.index('a'))\n",
    "print(list1.index('b'))\n",
    "print(list1.index('c'))"
   ]
  },
  {
   "cell_type": "markdown",
   "id": "409f52ba",
   "metadata": {},
   "source": [
    "If the element is not unique, it gives the first entry"
   ]
  },
  {
   "cell_type": "code",
   "execution_count": null,
   "id": "d6901160",
   "metadata": {},
   "outputs": [],
   "source": [
    "list2 = ['a', 'b', 'c', 'a']\n",
    "print(list2.index('a'))"
   ]
  },
  {
   "cell_type": "markdown",
   "id": "61048cd6",
   "metadata": {},
   "source": [
    "To get all indices for a value"
   ]
  },
  {
   "cell_type": "code",
   "execution_count": null,
   "id": "94dfbeab",
   "metadata": {},
   "outputs": [],
   "source": [
    "import numpy as np\n",
    "\n",
    "np.nonzero((np.array(list2) == 'a').astype(int))[0]"
   ]
  },
  {
   "cell_type": "markdown",
   "id": "7d581d9f",
   "metadata": {},
   "source": [
    "## 5. PA1 review\n",
    "\n",
    "Discussion and review my solution"
   ]
  }
 ],
 "metadata": {
  "kernelspec": {
   "display_name": "Python 3 (ipykernel)",
   "language": "python",
   "name": "python3"
  },
  "language_info": {
   "codemirror_mode": {
    "name": "ipython",
    "version": 3
   },
   "file_extension": ".py",
   "mimetype": "text/x-python",
   "name": "python",
   "nbconvert_exporter": "python",
   "pygments_lexer": "ipython3",
   "version": "3.12.3"
  }
 },
 "nbformat": 4,
 "nbformat_minor": 5
}
