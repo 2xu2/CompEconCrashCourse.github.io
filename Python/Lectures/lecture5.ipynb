{
 "cells": [
  {
   "cell_type": "markdown",
   "id": "2cba0e12",
   "metadata": {},
   "source": [
    "# Lesson 5\n",
    "\n",
    "## Overview\n",
    "\n",
    "- NumPy\n",
    "1. Initializing an array\n",
    "2. Initialization tricks - zeros/ones/empty\n",
    "- Specifying a datatype\n",
    "3. Shape and reshape\n",
    "4. Mathematical operations\n",
    "- Transposing multiple dimensions\n",
    "5. Accessing elements/indexing/slicing\n",
    "- Accessing elements/indexing\n",
    "- Slicing\n",
    "6. `np.arange` and `np.linspace`\n",
    "7. Tile and repeat\n",
    "8. Broadcasting\n",
    "- Cartesian products using broadcasting\n",
    "9. Random generators\n",
    "10. `np.diff`\n",
    "11. `np.cumsum`\n",
    "12. `np.argmin`/`np.argmax`/`np.argsort`\n",
    "13. `np.where`/`np.nonzero`\n",
    "14. `np.bincount`\n",
    "15. Dealing with big data\n",
    "- Sparse matrices\n",
    "- Matrix multiplication with diagonal matrices"
   ]
  },
  {
   "cell_type": "markdown",
   "id": "1285271f",
   "metadata": {},
   "source": [
    "## NumPy\n",
    "\n",
    "Vectors/arrays/matrices in Python"
   ]
  },
  {
   "cell_type": "code",
   "execution_count": 1,
   "id": "42f3eb44",
   "metadata": {},
   "outputs": [],
   "source": [
    "import numpy as np"
   ]
  },
  {
   "cell_type": "markdown",
   "id": "a054562c",
   "metadata": {},
   "source": [
    "## 1. Initializing an array"
   ]
  },
  {
   "cell_type": "code",
   "execution_count": 2,
   "id": "846458ed",
   "metadata": {},
   "outputs": [],
   "source": [
    "a = [\n",
    "    [1, 2, 3],\n",
    "    [4, 5, 6],\n",
    "    [7, 8, 9]\n",
    "]"
   ]
  },
  {
   "cell_type": "markdown",
   "id": "dd6dd7d8",
   "metadata": {},
   "source": [
    "Nested list representation"
   ]
  },
  {
   "cell_type": "code",
   "execution_count": 3,
   "id": "6009683d",
   "metadata": {},
   "outputs": [
    {
     "data": {
      "text/plain": [
       "[[1, 2, 3], [4, 5, 6], [7, 8, 9]]"
      ]
     },
     "execution_count": 3,
     "metadata": {},
     "output_type": "execute_result"
    }
   ],
   "source": [
    "a"
   ]
  },
  {
   "cell_type": "markdown",
   "id": "1f9f7f7d",
   "metadata": {},
   "source": [
    "NumPy representation"
   ]
  },
  {
   "cell_type": "code",
   "execution_count": 4,
   "id": "1628502e",
   "metadata": {},
   "outputs": [],
   "source": [
    "b = np.array(a)"
   ]
  },
  {
   "cell_type": "code",
   "execution_count": 5,
   "id": "617f6763",
   "metadata": {},
   "outputs": [
    {
     "data": {
      "text/plain": [
       "array([[1, 2, 3],\n",
       "       [4, 5, 6],\n",
       "       [7, 8, 9]])"
      ]
     },
     "execution_count": 5,
     "metadata": {},
     "output_type": "execute_result"
    }
   ],
   "source": [
    "b"
   ]
  },
  {
   "cell_type": "markdown",
   "id": "88de570b",
   "metadata": {},
   "source": [
    "## 2. Initialization tricks - zeros/ones/empty"
   ]
  },
  {
   "cell_type": "code",
   "execution_count": 6,
   "id": "8b144900",
   "metadata": {},
   "outputs": [
    {
     "data": {
      "text/plain": [
       "array([[0., 0., 0., 0., 0., 0., 0., 0., 0., 0.],\n",
       "       [0., 0., 0., 0., 0., 0., 0., 0., 0., 0.],\n",
       "       [0., 0., 0., 0., 0., 0., 0., 0., 0., 0.],\n",
       "       [0., 0., 0., 0., 0., 0., 0., 0., 0., 0.],\n",
       "       [0., 0., 0., 0., 0., 0., 0., 0., 0., 0.]])"
      ]
     },
     "execution_count": 6,
     "metadata": {},
     "output_type": "execute_result"
    }
   ],
   "source": [
    "c = np.zeros((5, 10))\n",
    "c"
   ]
  },
  {
   "cell_type": "code",
   "execution_count": 7,
   "id": "be69c703",
   "metadata": {},
   "outputs": [
    {
     "data": {
      "text/plain": [
       "array([[1., 1., 1., 1., 1., 1., 1., 1., 1., 1.],\n",
       "       [1., 1., 1., 1., 1., 1., 1., 1., 1., 1.],\n",
       "       [1., 1., 1., 1., 1., 1., 1., 1., 1., 1.],\n",
       "       [1., 1., 1., 1., 1., 1., 1., 1., 1., 1.],\n",
       "       [1., 1., 1., 1., 1., 1., 1., 1., 1., 1.]])"
      ]
     },
     "execution_count": 7,
     "metadata": {},
     "output_type": "execute_result"
    }
   ],
   "source": [
    "c = np.ones((5, 10))\n",
    "c"
   ]
  },
  {
   "cell_type": "code",
   "execution_count": 8,
   "id": "611b455d",
   "metadata": {},
   "outputs": [
    {
     "data": {
      "text/plain": [
       "array([[1., 1., 1., 1., 1., 1., 1., 1., 1., 1.],\n",
       "       [1., 1., 1., 1., 1., 1., 1., 1., 1., 1.],\n",
       "       [1., 1., 1., 1., 1., 1., 1., 1., 1., 1.],\n",
       "       [1., 1., 1., 1., 1., 1., 1., 1., 1., 1.],\n",
       "       [1., 1., 1., 1., 1., 1., 1., 1., 1., 1.]])"
      ]
     },
     "execution_count": 8,
     "metadata": {},
     "output_type": "execute_result"
    }
   ],
   "source": [
    "c = np.empty((5, 10))\n",
    "c"
   ]
  },
  {
   "cell_type": "markdown",
   "id": "0aab3ee8",
   "metadata": {},
   "source": [
    "### 2.1 Specifying a datatype"
   ]
  },
  {
   "cell_type": "code",
   "execution_count": 9,
   "id": "1c313c58",
   "metadata": {},
   "outputs": [
    {
     "data": {
      "text/plain": [
       "array([[1, 1, 1, 1, 1, 1, 1, 1, 1, 1],\n",
       "       [1, 1, 1, 1, 1, 1, 1, 1, 1, 1],\n",
       "       [1, 1, 1, 1, 1, 1, 1, 1, 1, 1],\n",
       "       [1, 1, 1, 1, 1, 1, 1, 1, 1, 1],\n",
       "       [1, 1, 1, 1, 1, 1, 1, 1, 1, 1]])"
      ]
     },
     "execution_count": 9,
     "metadata": {},
     "output_type": "execute_result"
    }
   ],
   "source": [
    "c = np.ones((5, 10), dtype=int)\n",
    "c"
   ]
  },
  {
   "cell_type": "markdown",
   "id": "105fdf68",
   "metadata": {},
   "source": [
    "## 3. Shape and reshape\n",
    "\n",
    "Access a matrix's dimensions with `.shape`, and reshape its dimensions with `.reshape()`"
   ]
  },
  {
   "cell_type": "code",
   "execution_count": 10,
   "id": "0d79b13f",
   "metadata": {},
   "outputs": [
    {
     "data": {
      "text/plain": [
       "(5, 10)"
      ]
     },
     "execution_count": 10,
     "metadata": {},
     "output_type": "execute_result"
    }
   ],
   "source": [
    "c.shape"
   ]
  },
  {
   "cell_type": "markdown",
   "id": "b5c33e4c",
   "metadata": {},
   "source": [
    "Note: reshapes are NOT in-place"
   ]
  },
  {
   "cell_type": "code",
   "execution_count": 11,
   "id": "fa5969bc",
   "metadata": {},
   "outputs": [
    {
     "data": {
      "text/plain": [
       "array([[1, 1, 1, 1, 1, 1, 1, 1, 1, 1, 1, 1, 1, 1, 1, 1, 1, 1, 1, 1, 1, 1,\n",
       "        1, 1, 1],\n",
       "       [1, 1, 1, 1, 1, 1, 1, 1, 1, 1, 1, 1, 1, 1, 1, 1, 1, 1, 1, 1, 1, 1,\n",
       "        1, 1, 1]])"
      ]
     },
     "execution_count": 11,
     "metadata": {},
     "output_type": "execute_result"
    }
   ],
   "source": [
    "c.reshape((2, 25))"
   ]
  },
  {
   "cell_type": "code",
   "execution_count": 12,
   "id": "777a2e51",
   "metadata": {},
   "outputs": [
    {
     "data": {
      "text/plain": [
       "(5, 10)"
      ]
     },
     "execution_count": 12,
     "metadata": {},
     "output_type": "execute_result"
    }
   ],
   "source": [
    "c.shape"
   ]
  },
  {
   "cell_type": "markdown",
   "id": "eed5346b",
   "metadata": {},
   "source": [
    "## 4. Mathematical operations\n",
    "\n",
    "Let `a` denote a NumPy array, then:\n",
    "- `+` - element-wise addition\n",
    "- `-` - element-wise subtraction\n",
    "- `*` - element-wise multiplication\n",
    "- `/` - element-wise division\n",
    "- `**` - element-wise powers\n",
    "- `@` - matrix multiplication\n",
    "- `np.linalg.inv(a)` - matrix inversion\n",
    "- `a.T` or `a.transpose()` or `np.transpose(a)` - matrix transpose"
   ]
  },
  {
   "cell_type": "markdown",
   "id": "0057ba77",
   "metadata": {},
   "source": [
    "Mathematical operations don't work with lists"
   ]
  },
  {
   "cell_type": "code",
   "execution_count": 13,
   "id": "61f96d7a",
   "metadata": {},
   "outputs": [
    {
     "ename": "TypeError",
     "evalue": "can't multiply sequence by non-int of type 'list'",
     "output_type": "error",
     "traceback": [
      "\u001b[0;31m---------------------------------------------------------------------------\u001b[0m",
      "\u001b[0;31mTypeError\u001b[0m                                 Traceback (most recent call last)",
      "Cell \u001b[0;32mIn[13], line 1\u001b[0m\n\u001b[0;32m----> 1\u001b[0m \u001b[43ma\u001b[49m\u001b[43m \u001b[49m\u001b[38;5;241;43m*\u001b[39;49m\u001b[43m \u001b[49m\u001b[43ma\u001b[49m\n",
      "\u001b[0;31mTypeError\u001b[0m: can't multiply sequence by non-int of type 'list'"
     ]
    }
   ],
   "source": [
    "a * a"
   ]
  },
  {
   "cell_type": "markdown",
   "id": "d43265f3",
   "metadata": {},
   "source": [
    "But they work with NumPy arrays"
   ]
  },
  {
   "cell_type": "code",
   "execution_count": 14,
   "id": "f7187e55",
   "metadata": {},
   "outputs": [
    {
     "data": {
      "text/plain": [
       "array([[ 1,  4,  9],\n",
       "       [16, 25, 36],\n",
       "       [49, 64, 81]])"
      ]
     },
     "execution_count": 14,
     "metadata": {},
     "output_type": "execute_result"
    }
   ],
   "source": [
    "b * b"
   ]
  },
  {
   "cell_type": "code",
   "execution_count": 15,
   "id": "d43e89d4",
   "metadata": {},
   "outputs": [
    {
     "data": {
      "text/plain": [
       "array([[ 30,  36,  42],\n",
       "       [ 66,  81,  96],\n",
       "       [102, 126, 150]])"
      ]
     },
     "execution_count": 15,
     "metadata": {},
     "output_type": "execute_result"
    }
   ],
   "source": [
    "b @ b"
   ]
  },
  {
   "cell_type": "code",
   "execution_count": 16,
   "id": "f4a3f7a4",
   "metadata": {},
   "outputs": [
    {
     "data": {
      "text/plain": [
       "array([[ 14.,  12.,  10.],\n",
       "       [-14.,  -8.,  -2.],\n",
       "       [  0.,   0.,   0.]])"
      ]
     },
     "execution_count": 16,
     "metadata": {},
     "output_type": "execute_result"
    }
   ],
   "source": [
    "np.linalg.inv(b) @ b"
   ]
  },
  {
   "cell_type": "markdown",
   "id": "301d58a3",
   "metadata": {},
   "source": [
    "### 4.1 Transposing multiple dimensions"
   ]
  },
  {
   "cell_type": "code",
   "execution_count": 17,
   "id": "c95ae023",
   "metadata": {},
   "outputs": [
    {
     "data": {
      "text/plain": [
       "array([[1, 4, 7],\n",
       "       [2, 5, 8],\n",
       "       [3, 6, 9]])"
      ]
     },
     "execution_count": 17,
     "metadata": {},
     "output_type": "execute_result"
    }
   ],
   "source": [
    "np.transpose(b, [1, 0])"
   ]
  },
  {
   "cell_type": "markdown",
   "id": "0772356a",
   "metadata": {},
   "source": [
    "## 5. Accessing elements/indexing/slicing\n",
    "\n",
    "### 5.1 Accessing elements/indexing"
   ]
  },
  {
   "cell_type": "markdown",
   "id": "6a66bdba",
   "metadata": {},
   "source": [
    "With lists, access each layer separately"
   ]
  },
  {
   "cell_type": "code",
   "execution_count": 18,
   "id": "85455c14",
   "metadata": {},
   "outputs": [
    {
     "data": {
      "text/plain": [
       "[[1, 2, 3], [4, 5, 6], [7, 8, 9]]"
      ]
     },
     "execution_count": 18,
     "metadata": {},
     "output_type": "execute_result"
    }
   ],
   "source": [
    "a"
   ]
  },
  {
   "cell_type": "code",
   "execution_count": 19,
   "id": "66f13ffe",
   "metadata": {},
   "outputs": [
    {
     "name": "stdout",
     "output_type": "stream",
     "text": [
      "[1, 2, 3]\n",
      "1\n"
     ]
    }
   ],
   "source": [
    "print(a[0])\n",
    "print(a[0][0])"
   ]
  },
  {
   "cell_type": "markdown",
   "id": "7f32b913",
   "metadata": {},
   "source": [
    "With NumPy arrays this also works, but can also access multiple indices simultaneously"
   ]
  },
  {
   "cell_type": "code",
   "execution_count": 20,
   "id": "12541fce",
   "metadata": {},
   "outputs": [
    {
     "name": "stdout",
     "output_type": "stream",
     "text": [
      "[1 2 3]\n",
      "1\n"
     ]
    }
   ],
   "source": [
    "print(b[0])\n",
    "print(b[0][0])"
   ]
  },
  {
   "cell_type": "code",
   "execution_count": 21,
   "id": "1b5c34cb",
   "metadata": {},
   "outputs": [
    {
     "data": {
      "text/plain": [
       "np.int64(1)"
      ]
     },
     "execution_count": 21,
     "metadata": {},
     "output_type": "execute_result"
    }
   ],
   "source": [
    "b[0, 0]"
   ]
  },
  {
   "cell_type": "markdown",
   "id": "5e2bbbf8",
   "metadata": {},
   "source": [
    "Can even access indices using tuples/lists/arrays\n",
    "\n",
    "With a tuple, it is the same as if you typed in the index directly"
   ]
  },
  {
   "cell_type": "code",
   "execution_count": 22,
   "id": "88cd7ebd",
   "metadata": {},
   "outputs": [
    {
     "data": {
      "text/plain": [
       "np.int64(1)"
      ]
     },
     "execution_count": 22,
     "metadata": {},
     "output_type": "execute_result"
    }
   ],
   "source": [
    "idx = (0, 0)\n",
    "b[idx]"
   ]
  },
  {
   "cell_type": "markdown",
   "id": "24f28dfc",
   "metadata": {},
   "source": [
    "With lists and arrays, the entire list indexes one dimension"
   ]
  },
  {
   "cell_type": "code",
   "execution_count": 23,
   "id": "5b4a46c3",
   "metadata": {},
   "outputs": [
    {
     "data": {
      "text/plain": [
       "array([[1, 2, 3],\n",
       "       [1, 2, 3]])"
      ]
     },
     "execution_count": 23,
     "metadata": {},
     "output_type": "execute_result"
    }
   ],
   "source": [
    "idx = [0, 0]\n",
    "b[idx]"
   ]
  },
  {
   "cell_type": "code",
   "execution_count": 24,
   "id": "136a4187",
   "metadata": {},
   "outputs": [
    {
     "data": {
      "text/plain": [
       "array([[1, 2, 3],\n",
       "       [1, 2, 3]])"
      ]
     },
     "execution_count": 24,
     "metadata": {},
     "output_type": "execute_result"
    }
   ],
   "source": [
    "b[[0, 0], :]"
   ]
  },
  {
   "cell_type": "code",
   "execution_count": 25,
   "id": "f4db0e10",
   "metadata": {},
   "outputs": [
    {
     "data": {
      "text/plain": [
       "array([[1, 2, 3],\n",
       "       [1, 2, 3]])"
      ]
     },
     "execution_count": 25,
     "metadata": {},
     "output_type": "execute_result"
    }
   ],
   "source": [
    "idx = np.array((0, 0))\n",
    "b[idx]"
   ]
  },
  {
   "cell_type": "markdown",
   "id": "a6619a08",
   "metadata": {},
   "source": [
    "Casting from list to tuple does work"
   ]
  },
  {
   "cell_type": "code",
   "execution_count": 26,
   "id": "4e81660a",
   "metadata": {},
   "outputs": [
    {
     "data": {
      "text/plain": [
       "np.int64(1)"
      ]
     },
     "execution_count": 26,
     "metadata": {},
     "output_type": "execute_result"
    }
   ],
   "source": [
    "idx = [0, 0]\n",
    "b[tuple(idx)]"
   ]
  },
  {
   "cell_type": "markdown",
   "id": "082ab0ee",
   "metadata": {},
   "source": [
    "Accessing elements with tuples/lists/arrays doesn't work for nested lists"
   ]
  },
  {
   "cell_type": "code",
   "execution_count": 27,
   "id": "6493f845",
   "metadata": {},
   "outputs": [
    {
     "ename": "TypeError",
     "evalue": "list indices must be integers or slices, not list",
     "output_type": "error",
     "traceback": [
      "\u001b[0;31m---------------------------------------------------------------------------\u001b[0m",
      "\u001b[0;31mTypeError\u001b[0m                                 Traceback (most recent call last)",
      "Cell \u001b[0;32mIn[27], line 1\u001b[0m\n\u001b[0;32m----> 1\u001b[0m \u001b[43ma\u001b[49m\u001b[43m[\u001b[49m\u001b[43midx\u001b[49m\u001b[43m]\u001b[49m\n",
      "\u001b[0;31mTypeError\u001b[0m: list indices must be integers or slices, not list"
     ]
    }
   ],
   "source": [
    "a[idx]"
   ]
  },
  {
   "cell_type": "markdown",
   "id": "a7b55597",
   "metadata": {},
   "source": [
    "### 5.2 Slicing\n",
    "\n",
    "Use a comma to separate dimensions and a colon (`:`) to access an entire dimension"
   ]
  },
  {
   "cell_type": "code",
   "execution_count": 28,
   "id": "93bf9999",
   "metadata": {},
   "outputs": [
    {
     "data": {
      "text/plain": [
       "[[1, 2, 3], [4, 5, 6], [7, 8, 9]]"
      ]
     },
     "execution_count": 28,
     "metadata": {},
     "output_type": "execute_result"
    }
   ],
   "source": [
    "a"
   ]
  },
  {
   "cell_type": "code",
   "execution_count": 29,
   "id": "0f1442fa",
   "metadata": {},
   "outputs": [
    {
     "data": {
      "text/plain": [
       "[[1, 2, 3]]"
      ]
     },
     "execution_count": 29,
     "metadata": {},
     "output_type": "execute_result"
    }
   ],
   "source": [
    "a[:1]"
   ]
  },
  {
   "cell_type": "code",
   "execution_count": 30,
   "id": "34168e2a",
   "metadata": {},
   "outputs": [
    {
     "data": {
      "text/plain": [
       "array([[1, 2, 3],\n",
       "       [4, 5, 6],\n",
       "       [7, 8, 9]])"
      ]
     },
     "execution_count": 30,
     "metadata": {},
     "output_type": "execute_result"
    }
   ],
   "source": [
    "b"
   ]
  },
  {
   "cell_type": "code",
   "execution_count": 31,
   "id": "7b61a1df",
   "metadata": {},
   "outputs": [
    {
     "data": {
      "text/plain": [
       "array([[1, 3],\n",
       "       [4, 6],\n",
       "       [7, 9]])"
      ]
     },
     "execution_count": 31,
     "metadata": {},
     "output_type": "execute_result"
    }
   ],
   "source": [
    "b[:, [0, 2]]"
   ]
  },
  {
   "cell_type": "code",
   "execution_count": 32,
   "id": "f24a33c4",
   "metadata": {},
   "outputs": [
    {
     "data": {
      "text/plain": [
       "array([[1, 3],\n",
       "       [7, 9]])"
      ]
     },
     "execution_count": 32,
     "metadata": {},
     "output_type": "execute_result"
    }
   ],
   "source": [
    "b[:, [0, 2]][[0, 2], :]"
   ]
  },
  {
   "cell_type": "markdown",
   "id": "f0e02bbc",
   "metadata": {},
   "source": [
    "You should probably avoid doing this, but you can choose to access only the first relevant dimensions of an array, and the remaining dimensions will implicitly have `:`"
   ]
  },
  {
   "cell_type": "code",
   "execution_count": 33,
   "id": "3dc5eee1",
   "metadata": {},
   "outputs": [
    {
     "data": {
      "text/plain": [
       "array([4, 5, 6])"
      ]
     },
     "execution_count": 33,
     "metadata": {},
     "output_type": "execute_result"
    }
   ],
   "source": [
    "b[1, :]"
   ]
  },
  {
   "cell_type": "code",
   "execution_count": 34,
   "id": "baaff4bf",
   "metadata": {},
   "outputs": [
    {
     "data": {
      "text/plain": [
       "array([4, 5, 6])"
      ]
     },
     "execution_count": 34,
     "metadata": {},
     "output_type": "execute_result"
    }
   ],
   "source": [
    "b[1]"
   ]
  },
  {
   "cell_type": "markdown",
   "id": "e6e7eb78",
   "metadata": {},
   "source": [
    "Note that slicing can allow you to update entire arrays in-place, saving allocation time or allowing in-place updates inside of functions"
   ]
  },
  {
   "cell_type": "code",
   "execution_count": 35,
   "id": "ff9e0286",
   "metadata": {},
   "outputs": [],
   "source": [
    "b[:, :] = b.copy()"
   ]
  },
  {
   "cell_type": "markdown",
   "id": "efba9ce0",
   "metadata": {},
   "source": [
    "## 6. `np.arange` and `np.linspace`\n",
    "\n",
    "`arange` is the NumPy equivalent of `Range`, and `linspace` creates evenly-spaced values"
   ]
  },
  {
   "cell_type": "code",
   "execution_count": 36,
   "id": "edc078fb",
   "metadata": {},
   "outputs": [
    {
     "data": {
      "text/plain": [
       "array([0, 1, 2])"
      ]
     },
     "execution_count": 36,
     "metadata": {},
     "output_type": "execute_result"
    }
   ],
   "source": [
    "c = np.arange(3)\n",
    "c"
   ]
  },
  {
   "cell_type": "code",
   "execution_count": 37,
   "id": "df05e0d7",
   "metadata": {},
   "outputs": [
    {
     "data": {
      "text/plain": [
       "array([0.   , 0.125, 0.25 , 0.375, 0.5  , 0.625, 0.75 , 0.875, 1.   ])"
      ]
     },
     "execution_count": 37,
     "metadata": {},
     "output_type": "execute_result"
    }
   ],
   "source": [
    "d = np.linspace(0, 1, 9)\n",
    "d"
   ]
  },
  {
   "cell_type": "markdown",
   "id": "e245d7dd",
   "metadata": {},
   "source": [
    "## 7. Tile and repeat\n",
    "\n",
    "Tile stacks an entire array along a dimension (like tiles)\n",
    "\n",
    "Repeat repeats each element of an array a given number of times, then repeats the next element, etc."
   ]
  },
  {
   "cell_type": "code",
   "execution_count": 38,
   "id": "f20cf95d",
   "metadata": {},
   "outputs": [
    {
     "data": {
      "text/plain": [
       "array([0, 1, 2, 0, 1, 2, 0, 1, 2])"
      ]
     },
     "execution_count": 38,
     "metadata": {},
     "output_type": "execute_result"
    }
   ],
   "source": [
    "np.tile(c, 3)"
   ]
  },
  {
   "cell_type": "code",
   "execution_count": 39,
   "id": "d29b7f5b",
   "metadata": {},
   "outputs": [
    {
     "data": {
      "text/plain": [
       "array([[0, 1, 2, 0, 1, 2],\n",
       "       [0, 1, 2, 0, 1, 2],\n",
       "       [0, 1, 2, 0, 1, 2]])"
      ]
     },
     "execution_count": 39,
     "metadata": {},
     "output_type": "execute_result"
    }
   ],
   "source": [
    "np.tile(c, (3, 2))"
   ]
  },
  {
   "cell_type": "code",
   "execution_count": 40,
   "id": "f3891e94",
   "metadata": {},
   "outputs": [
    {
     "data": {
      "text/plain": [
       "array([0, 0, 0, 1, 1, 1, 2, 2, 2])"
      ]
     },
     "execution_count": 40,
     "metadata": {},
     "output_type": "execute_result"
    }
   ],
   "source": [
    "np.repeat(c, 3)"
   ]
  },
  {
   "cell_type": "code",
   "execution_count": 41,
   "id": "48880acf",
   "metadata": {},
   "outputs": [
    {
     "data": {
      "text/plain": [
       "array([0, 1, 1, 2, 2, 2])"
      ]
     },
     "execution_count": 41,
     "metadata": {},
     "output_type": "execute_result"
    }
   ],
   "source": [
    "np.repeat(c, (1, 2, 3))"
   ]
  },
  {
   "cell_type": "markdown",
   "id": "72904a5b",
   "metadata": {},
   "source": [
    "## 8. Broadcasting\n",
    "\n",
    "If certain dimensions between two arrays match, but one array has more dimensions than the other, NumPy can introduce 'dummy' dimensions into the smaller array so that they match"
   ]
  },
  {
   "cell_type": "code",
   "execution_count": 42,
   "id": "e92e0836",
   "metadata": {},
   "outputs": [
    {
     "name": "stdout",
     "output_type": "stream",
     "text": [
      "(3, 3)\n",
      "(3,)\n"
     ]
    }
   ],
   "source": [
    "print(b.shape)\n",
    "print(c.shape)"
   ]
  },
  {
   "cell_type": "code",
   "execution_count": 43,
   "id": "bb3d54b9",
   "metadata": {},
   "outputs": [
    {
     "name": "stdout",
     "output_type": "stream",
     "text": [
      "[[1 2 3]\n",
      " [4 5 6]\n",
      " [7 8 9]]\n",
      "[0 1 2]\n"
     ]
    }
   ],
   "source": [
    "print(b)\n",
    "print(c)"
   ]
  },
  {
   "cell_type": "code",
   "execution_count": 44,
   "id": "54ffb212",
   "metadata": {},
   "outputs": [
    {
     "data": {
      "text/plain": [
       "array([[ 1,  3,  5],\n",
       "       [ 4,  6,  8],\n",
       "       [ 7,  9, 11]])"
      ]
     },
     "execution_count": 44,
     "metadata": {},
     "output_type": "execute_result"
    }
   ],
   "source": [
    "b + c"
   ]
  },
  {
   "cell_type": "code",
   "execution_count": 45,
   "id": "1fafd299",
   "metadata": {},
   "outputs": [
    {
     "data": {
      "text/plain": [
       "array([[ 1,  2,  3],\n",
       "       [ 5,  6,  7],\n",
       "       [ 9, 10, 11]])"
      ]
     },
     "execution_count": 45,
     "metadata": {},
     "output_type": "execute_result"
    }
   ],
   "source": [
    "(b.T + c).T"
   ]
  },
  {
   "cell_type": "markdown",
   "id": "e412ef01",
   "metadata": {},
   "source": [
    "Indexing with `None` creates a new dimension"
   ]
  },
  {
   "cell_type": "code",
   "execution_count": 46,
   "id": "99aac794",
   "metadata": {},
   "outputs": [
    {
     "name": "stdout",
     "output_type": "stream",
     "text": [
      "(3,)\n",
      "(1, 3)\n"
     ]
    }
   ],
   "source": [
    "print(c.shape)\n",
    "print(c[None, :].shape)"
   ]
  },
  {
   "cell_type": "code",
   "execution_count": 47,
   "id": "a660979f",
   "metadata": {},
   "outputs": [
    {
     "data": {
      "text/plain": [
       "array([[ 1,  3,  5],\n",
       "       [ 4,  6,  8],\n",
       "       [ 7,  9, 11]])"
      ]
     },
     "execution_count": 47,
     "metadata": {},
     "output_type": "execute_result"
    }
   ],
   "source": [
    "b + c[None, :]"
   ]
  },
  {
   "cell_type": "code",
   "execution_count": 48,
   "id": "a77fc509",
   "metadata": {},
   "outputs": [
    {
     "data": {
      "text/plain": [
       "array([[ 1,  2,  3],\n",
       "       [ 5,  6,  7],\n",
       "       [ 9, 10, 11]])"
      ]
     },
     "execution_count": 48,
     "metadata": {},
     "output_type": "execute_result"
    }
   ],
   "source": [
    "b + c[:, None]"
   ]
  },
  {
   "cell_type": "markdown",
   "id": "0ea0cd48",
   "metadata": {},
   "source": [
    "### 8.1 Cartesian products using broadcasting\n",
    "\n",
    "Use `None` in opposite dimensions"
   ]
  },
  {
   "cell_type": "code",
   "execution_count": 49,
   "id": "64ff1441",
   "metadata": {},
   "outputs": [
    {
     "data": {
      "text/plain": [
       "array([0, 1, 2])"
      ]
     },
     "execution_count": 49,
     "metadata": {},
     "output_type": "execute_result"
    }
   ],
   "source": [
    "c"
   ]
  },
  {
   "cell_type": "code",
   "execution_count": 50,
   "id": "44f200c0",
   "metadata": {},
   "outputs": [
    {
     "data": {
      "text/plain": [
       "array([[0, 1, 2],\n",
       "       [1, 2, 3],\n",
       "       [2, 3, 4]])"
      ]
     },
     "execution_count": 50,
     "metadata": {},
     "output_type": "execute_result"
    }
   ],
   "source": [
    "c[:, None] + c[None, :]"
   ]
  },
  {
   "cell_type": "markdown",
   "id": "1c73f11b",
   "metadata": {},
   "source": [
    "## 9. Random generators\n",
    "\n",
    "Allows you to specify random seeds easily (but you don't need to specify the seed)"
   ]
  },
  {
   "cell_type": "code",
   "execution_count": 51,
   "id": "9add12b4",
   "metadata": {},
   "outputs": [],
   "source": [
    "seed = 1\n",
    "rng = np.random.default_rng(seed)"
   ]
  },
  {
   "cell_type": "code",
   "execution_count": 52,
   "id": "017ce09e",
   "metadata": {},
   "outputs": [
    {
     "data": {
      "text/plain": [
       "array([ 0.34558419,  0.82161814,  0.33043708, -1.30315723,  0.90535587,\n",
       "        0.44637457, -0.53695324,  0.5811181 ,  0.3645724 ,  0.2941325 ])"
      ]
     },
     "execution_count": 52,
     "metadata": {},
     "output_type": "execute_result"
    }
   ],
   "source": [
    "rng.normal(size=10)"
   ]
  },
  {
   "cell_type": "code",
   "execution_count": 53,
   "id": "adc2466d",
   "metadata": {},
   "outputs": [
    {
     "data": {
      "text/plain": [
       "array([ 0.02842224,  0.54671299, -0.73645409, -0.16290995, -0.48211931,\n",
       "        0.59884621,  0.03972211, -0.29245675, -0.78190846, -0.25719224])"
      ]
     },
     "execution_count": 53,
     "metadata": {},
     "output_type": "execute_result"
    }
   ],
   "source": [
    "rng.normal(size=10)"
   ]
  },
  {
   "cell_type": "markdown",
   "id": "3302111a",
   "metadata": {},
   "source": [
    "Resetting the seed will replicate the results"
   ]
  },
  {
   "cell_type": "code",
   "execution_count": 54,
   "id": "a2aa0f8a",
   "metadata": {},
   "outputs": [],
   "source": [
    "seed = 1\n",
    "rng = np.random.default_rng(seed)"
   ]
  },
  {
   "cell_type": "code",
   "execution_count": 55,
   "id": "1dff5e13",
   "metadata": {},
   "outputs": [
    {
     "data": {
      "text/plain": [
       "array([ 0.34558419,  0.82161814,  0.33043708, -1.30315723,  0.90535587,\n",
       "        0.44637457, -0.53695324,  0.5811181 ,  0.3645724 ,  0.2941325 ])"
      ]
     },
     "execution_count": 55,
     "metadata": {},
     "output_type": "execute_result"
    }
   ],
   "source": [
    "rng.normal(size=10)"
   ]
  },
  {
   "cell_type": "markdown",
   "id": "86fa0e65",
   "metadata": {},
   "source": [
    "## 10. `np.diff`\n",
    "\n",
    "Take element-wise differences"
   ]
  },
  {
   "cell_type": "code",
   "execution_count": 56,
   "id": "6c891f89",
   "metadata": {},
   "outputs": [
    {
     "data": {
      "text/plain": [
       "array([ 0.02842224,  0.54671299, -0.73645409, ..., -0.322686  ,\n",
       "       -2.06155586, -0.70793319])"
      ]
     },
     "execution_count": 56,
     "metadata": {},
     "output_type": "execute_result"
    }
   ],
   "source": [
    "a = rng.normal(size=100_000)\n",
    "a"
   ]
  },
  {
   "cell_type": "code",
   "execution_count": 57,
   "id": "77b434c8",
   "metadata": {},
   "outputs": [
    {
     "data": {
      "text/plain": [
       "array([ 0.51829075, -1.28316707,  0.57354414, ..., -0.84049398,\n",
       "       -1.73886986,  1.35362267])"
      ]
     },
     "execution_count": 57,
     "metadata": {},
     "output_type": "execute_result"
    }
   ],
   "source": [
    "a[1:] - a[: -1]"
   ]
  },
  {
   "cell_type": "code",
   "execution_count": 58,
   "id": "663cc15a",
   "metadata": {},
   "outputs": [
    {
     "data": {
      "text/plain": [
       "array([ 0.51829075, -1.28316707,  0.57354414, ..., -0.84049398,\n",
       "       -1.73886986,  1.35362267])"
      ]
     },
     "execution_count": 58,
     "metadata": {},
     "output_type": "execute_result"
    }
   ],
   "source": [
    "np.diff(a)"
   ]
  },
  {
   "cell_type": "markdown",
   "id": "11906cf8",
   "metadata": {},
   "source": [
    "## 11. `np.cumsum`\n",
    "\n",
    "Cumulative sums"
   ]
  },
  {
   "cell_type": "code",
   "execution_count": 59,
   "id": "50ef6f8a",
   "metadata": {},
   "outputs": [
    {
     "data": {
      "text/plain": [
       "array([0, 1, 2, 3, 4])"
      ]
     },
     "execution_count": 59,
     "metadata": {},
     "output_type": "execute_result"
    }
   ],
   "source": [
    "a = np.arange(5)\n",
    "a"
   ]
  },
  {
   "cell_type": "code",
   "execution_count": 60,
   "id": "73084e7a",
   "metadata": {},
   "outputs": [
    {
     "data": {
      "text/plain": [
       "array([ 0,  1,  3,  6, 10])"
      ]
     },
     "execution_count": 60,
     "metadata": {},
     "output_type": "execute_result"
    }
   ],
   "source": [
    "np.cumsum(a)"
   ]
  },
  {
   "cell_type": "markdown",
   "id": "fe39020b",
   "metadata": {},
   "source": [
    "## 12. `np.argmin`/`np.argmax`/`np.argsort`"
   ]
  },
  {
   "cell_type": "code",
   "execution_count": 61,
   "id": "c531d470",
   "metadata": {},
   "outputs": [],
   "source": [
    "a = rng.normal(size=100)"
   ]
  },
  {
   "cell_type": "code",
   "execution_count": 62,
   "id": "d0284cd2",
   "metadata": {},
   "outputs": [
    {
     "data": {
      "text/plain": [
       "np.int64(79)"
      ]
     },
     "execution_count": 62,
     "metadata": {},
     "output_type": "execute_result"
    }
   ],
   "source": [
    "a.argmax()"
   ]
  },
  {
   "cell_type": "markdown",
   "id": "6c4d7309",
   "metadata": {},
   "source": [
    "Note that `argmax` returns the first max"
   ]
  },
  {
   "cell_type": "code",
   "execution_count": 63,
   "id": "3b7be20c",
   "metadata": {},
   "outputs": [
    {
     "data": {
      "text/plain": [
       "np.int64(0)"
      ]
     },
     "execution_count": 63,
     "metadata": {},
     "output_type": "execute_result"
    }
   ],
   "source": [
    "np.argmax([2, 2, 1])"
   ]
  },
  {
   "cell_type": "code",
   "execution_count": 64,
   "id": "5d284650",
   "metadata": {},
   "outputs": [
    {
     "data": {
      "text/plain": [
       "np.int64(3)"
      ]
     },
     "execution_count": 64,
     "metadata": {},
     "output_type": "execute_result"
    }
   ],
   "source": [
    "a.argmin()"
   ]
  },
  {
   "cell_type": "code",
   "execution_count": 65,
   "id": "e337dc2b",
   "metadata": {},
   "outputs": [
    {
     "data": {
      "text/plain": [
       "array([ 3, 70, 66, 74, 31, 89, 65, 48, 68, 29, 30, 38, 96, 72,  7, 73, 43,\n",
       "        2, 22, 33, 14,  0, 67, 34, 69, 95, 85, 83, 71, 28, 44, 77, 55, 15,\n",
       "       19, 54, 49, 10, 64, 17, 36, 40,  9, 61, 46, 62, 47, 20, 88, 45, 21,\n",
       "       81, 76,  5, 82, 60, 86, 58, 42, 25, 26, 97, 80, 53, 32, 11, 24, 41,\n",
       "       13, 16, 87, 63, 12, 90, 98, 50, 78,  4, 37, 99,  8, 92, 56, 35, 52,\n",
       "       18, 59, 84,  1, 39, 94, 51, 57, 23, 27, 75, 93, 91,  6, 79])"
      ]
     },
     "execution_count": 65,
     "metadata": {},
     "output_type": "execute_result"
    }
   ],
   "source": [
    "a.argsort()"
   ]
  },
  {
   "cell_type": "code",
   "execution_count": 66,
   "id": "14be71ff",
   "metadata": {},
   "outputs": [
    {
     "data": {
      "text/plain": [
       "array([-2.87386515, -2.50281052, -2.44897667, -2.02623831, -1.96096236,\n",
       "       -1.84160532, -1.74691692, -1.49858894, -1.48775121, -1.30809565,\n",
       "       -1.2477091 , -1.22499879, -1.05225675, -1.01464596, -1.01122946,\n",
       "       -0.99045975, -0.95871657, -0.91019895, -0.87470722, -0.84895448,\n",
       "       -0.62521544, -0.61148934, -0.50171587, -0.49170749, -0.47036667,\n",
       "       -0.45144132, -0.43364287, -0.41975742, -0.39152134, -0.39034982,\n",
       "       -0.37303249, -0.36560617, -0.35555605, -0.34748432, -0.33698805,\n",
       "       -0.32220437, -0.31917957, -0.20032613, -0.17710449, -0.16066618,\n",
       "       -0.13862805, -0.12442159, -0.07698548, -0.04518314, -0.04500716,\n",
       "       -0.02567932, -0.01250562, -0.00917651,  0.01075284,  0.01286459,\n",
       "        0.02618942,  0.05272496,  0.06415227,  0.07496199,  0.09586831,\n",
       "        0.10015544,  0.17405887,  0.18082354,  0.21079727,  0.24012108,\n",
       "        0.28900234,  0.29361471,  0.38736811,  0.402049  ,  0.4096016 ,\n",
       "        0.44171488,  0.44937894,  0.45799067,  0.50166376,  0.52507281,\n",
       "        0.52898658,  0.54627952,  0.54725373,  0.63114246,  0.66714902,\n",
       "        0.74472177,  0.77641005,  0.78511367,  0.84145412,  0.87439556,\n",
       "        0.87609588,  0.91611766,  1.00685178,  1.03633602,  1.14481533,\n",
       "        1.14522707,  1.19054368,  1.22460094,  1.25835347,  1.27815454,\n",
       "        1.31836713,  1.37849169,  1.43487458,  1.46723572,  1.69429576,\n",
       "        1.77365136,  1.80736638,  1.94029017,  1.95936278,  2.15130806])"
      ]
     },
     "execution_count": 66,
     "metadata": {},
     "output_type": "execute_result"
    }
   ],
   "source": [
    "a[a.argsort()]"
   ]
  },
  {
   "cell_type": "markdown",
   "id": "526cb52a",
   "metadata": {},
   "source": [
    "## 13. `np.where`/`np.nonzero`\n",
    "\n",
    "Briefly discussed in lecture 2 - find the indices where some condition holds\n",
    "\n",
    "Supposedly `np.nonzero` is slightly faster"
   ]
  },
  {
   "cell_type": "code",
   "execution_count": 67,
   "id": "b708400e",
   "metadata": {},
   "outputs": [],
   "source": [
    "duplicate_max_lst = np.array([2, 2, 1])"
   ]
  },
  {
   "cell_type": "code",
   "execution_count": 68,
   "id": "833fc353",
   "metadata": {},
   "outputs": [
    {
     "data": {
      "text/plain": [
       "np.int64(0)"
      ]
     },
     "execution_count": 68,
     "metadata": {},
     "output_type": "execute_result"
    }
   ],
   "source": [
    "np.argmax(duplicate_max_lst)"
   ]
  },
  {
   "cell_type": "code",
   "execution_count": 69,
   "id": "1bb5aceb",
   "metadata": {},
   "outputs": [
    {
     "data": {
      "text/plain": [
       "array([0, 1])"
      ]
     },
     "execution_count": 69,
     "metadata": {},
     "output_type": "execute_result"
    }
   ],
   "source": [
    "np.nonzero((duplicate_max_lst == duplicate_max_lst.max()).astype(int))[0]"
   ]
  },
  {
   "cell_type": "code",
   "execution_count": 70,
   "id": "a3a8ff1e",
   "metadata": {},
   "outputs": [
    {
     "data": {
      "text/plain": [
       "array([0, 1])"
      ]
     },
     "execution_count": 70,
     "metadata": {},
     "output_type": "execute_result"
    }
   ],
   "source": [
    "np.where(duplicate_max_lst == duplicate_max_lst.max())[0]"
   ]
  },
  {
   "cell_type": "markdown",
   "id": "5a5eea0f",
   "metadata": {},
   "source": [
    "## 14. `np.bincount`\n",
    "\n",
    "Groupby-sum in NumPy. By default, it counts the number of observations in each group, but weights can be specified so it computes the sum of the weights within each group."
   ]
  },
  {
   "cell_type": "code",
   "execution_count": 71,
   "id": "9e1fe739",
   "metadata": {},
   "outputs": [],
   "source": [
    "n = 100\n",
    "n_ids = 10\n",
    "ids = rng.integers(n_ids, size=n)\n",
    "person_val = rng.uniform(size=n)"
   ]
  },
  {
   "cell_type": "code",
   "execution_count": 72,
   "id": "026a2341",
   "metadata": {},
   "outputs": [
    {
     "data": {
      "text/plain": [
       "array([10,  8,  7, 13,  5, 13,  9, 15, 14,  6])"
      ]
     },
     "execution_count": 72,
     "metadata": {},
     "output_type": "execute_result"
    }
   ],
   "source": [
    "np.bincount(ids)"
   ]
  },
  {
   "cell_type": "markdown",
   "id": "7cf5a3b7",
   "metadata": {},
   "source": [
    "Can specify `minlength` to make sure the result of calling `bincount` is an array of the correct length - this helps in case the last group has no observations"
   ]
  },
  {
   "cell_type": "code",
   "execution_count": 73,
   "id": "2deb42eb",
   "metadata": {},
   "outputs": [
    {
     "data": {
      "text/plain": [
       "array([10,  8,  7, 13,  5, 13,  9, 15, 14,  6,  0])"
      ]
     },
     "execution_count": 73,
     "metadata": {},
     "output_type": "execute_result"
    }
   ],
   "source": [
    "np.bincount(ids, minlength=n_ids + 1)"
   ]
  },
  {
   "cell_type": "code",
   "execution_count": 74,
   "id": "8ade0806",
   "metadata": {},
   "outputs": [
    {
     "name": "stdout",
     "output_type": "stream",
     "text": [
      "390 ns ± 14.4 ns per loop (mean ± std. dev. of 7 runs, 1,000,000 loops each)\n"
     ]
    }
   ],
   "source": [
    "%%timeit\n",
    "np.bincount(ids)"
   ]
  },
  {
   "cell_type": "markdown",
   "id": "e0c1301f",
   "metadata": {},
   "source": [
    "`bincount` is much faster than `Pandas` `groupby`"
   ]
  },
  {
   "cell_type": "code",
   "execution_count": 75,
   "id": "a71f018f",
   "metadata": {},
   "outputs": [
    {
     "data": {
      "text/plain": [
       "id\n",
       "0    10\n",
       "1     8\n",
       "2     7\n",
       "3    13\n",
       "4     5\n",
       "5    13\n",
       "6     9\n",
       "7    15\n",
       "8    14\n",
       "9     6\n",
       "dtype: int64"
      ]
     },
     "execution_count": 75,
     "metadata": {},
     "output_type": "execute_result"
    }
   ],
   "source": [
    "import pandas as pd\n",
    "id_df = pd.DataFrame({'id': ids, 'val': person_val})\n",
    "id_df.groupby('id').size()"
   ]
  },
  {
   "cell_type": "code",
   "execution_count": 76,
   "id": "08c8b809",
   "metadata": {},
   "outputs": [
    {
     "name": "stdout",
     "output_type": "stream",
     "text": [
      "69.2 μs ± 1.29 μs per loop (mean ± std. dev. of 7 runs, 10,000 loops each)\n"
     ]
    }
   ],
   "source": [
    "%%timeit\n",
    "id_df.groupby('id').size()"
   ]
  },
  {
   "cell_type": "markdown",
   "id": "22ae2a63",
   "metadata": {},
   "source": [
    "`bincount` can use weights, so it is more like a groupby-sum"
   ]
  },
  {
   "cell_type": "code",
   "execution_count": 77,
   "id": "def53c2d",
   "metadata": {},
   "outputs": [
    {
     "data": {
      "text/plain": [
       "array([4.42350691, 2.9612293 , 4.11062489, 5.20176002, 2.56946445,\n",
       "       7.53672527, 5.06821397, 6.52509301, 6.55220953, 2.85668455])"
      ]
     },
     "execution_count": 77,
     "metadata": {},
     "output_type": "execute_result"
    }
   ],
   "source": [
    "np.bincount(ids, person_val)"
   ]
  },
  {
   "cell_type": "code",
   "execution_count": 78,
   "id": "760fb38a",
   "metadata": {},
   "outputs": [
    {
     "data": {
      "text/plain": [
       "id\n",
       "0    4.423507\n",
       "1    2.961229\n",
       "2    4.110625\n",
       "3    5.201760\n",
       "4    2.569464\n",
       "5    7.536725\n",
       "6    5.068214\n",
       "7    6.525093\n",
       "8    6.552210\n",
       "9    2.856685\n",
       "Name: val, dtype: float64"
      ]
     },
     "execution_count": 78,
     "metadata": {},
     "output_type": "execute_result"
    }
   ],
   "source": [
    "id_df.groupby('id')['val'].sum()"
   ]
  },
  {
   "cell_type": "markdown",
   "id": "739d3e0a",
   "metadata": {},
   "source": [
    "## 15. Dealing with big data\n",
    "\n",
    "### 15.1 Sparse matrices\n",
    "\n",
    "A sparse matrix is a matrix with mostly 0s. Since the only values that need to be known are the non-zero values, rather than storing the entire matrix, store only the non-zero entries."
   ]
  },
  {
   "cell_type": "code",
   "execution_count": 79,
   "id": "33e7520a",
   "metadata": {},
   "outputs": [],
   "source": [
    "from scipy.sparse import csc_matrix"
   ]
  },
  {
   "cell_type": "markdown",
   "id": "3e6b3a77",
   "metadata": {},
   "source": [
    "The first argument specifies the values of the entries\n",
    "\n",
    "The second argument is a tuple that specifies the index for each entry\n",
    "\n",
    "The third argument specifies the shape"
   ]
  },
  {
   "cell_type": "code",
   "execution_count": 80,
   "id": "c0ab6a23",
   "metadata": {},
   "outputs": [
    {
     "data": {
      "text/plain": [
       "matrix([[0, 0, 0, 0, 4],\n",
       "        [0, 0, 0, 3, 0],\n",
       "        [0, 0, 2, 0, 0],\n",
       "        [0, 1, 0, 0, 0],\n",
       "        [0, 0, 0, 0, 0]])"
      ]
     },
     "execution_count": 80,
     "metadata": {},
     "output_type": "execute_result"
    }
   ],
   "source": [
    "nvals = 5\n",
    "J = csc_matrix((nvals - 1 - np.arange(nvals), (np.arange(nvals), nvals - 1 - np.arange(nvals))), shape=(nvals, nvals))\n",
    "J.todense()"
   ]
  },
  {
   "cell_type": "code",
   "execution_count": 81,
   "id": "76861619",
   "metadata": {},
   "outputs": [],
   "source": [
    "J = csc_matrix((np.ones(n), (np.arange(n), ids)), shape=(n, n_ids))"
   ]
  },
  {
   "cell_type": "code",
   "execution_count": 82,
   "id": "0f8fdfd0",
   "metadata": {},
   "outputs": [
    {
     "data": {
      "text/plain": [
       "matrix([[0., 1., 0., 0., 0., 0., 0., 0., 0., 0.],\n",
       "        [0., 0., 1., 0., 0., 0., 0., 0., 0., 0.],\n",
       "        [0., 0., 0., 0., 0., 0., 1., 0., 0., 0.],\n",
       "        [0., 0., 0., 0., 0., 0., 0., 1., 0., 0.],\n",
       "        [0., 0., 0., 0., 0., 0., 1., 0., 0., 0.],\n",
       "        [0., 0., 0., 0., 0., 0., 0., 0., 1., 0.],\n",
       "        [0., 0., 0., 0., 0., 1., 0., 0., 0., 0.],\n",
       "        [0., 0., 0., 0., 1., 0., 0., 0., 0., 0.],\n",
       "        [0., 0., 0., 1., 0., 0., 0., 0., 0., 0.],\n",
       "        [0., 1., 0., 0., 0., 0., 0., 0., 0., 0.],\n",
       "        [0., 0., 0., 0., 0., 1., 0., 0., 0., 0.],\n",
       "        [0., 0., 0., 0., 0., 0., 0., 0., 1., 0.],\n",
       "        [1., 0., 0., 0., 0., 0., 0., 0., 0., 0.],\n",
       "        [0., 0., 0., 1., 0., 0., 0., 0., 0., 0.],\n",
       "        [0., 0., 0., 0., 1., 0., 0., 0., 0., 0.],\n",
       "        [0., 0., 1., 0., 0., 0., 0., 0., 0., 0.],\n",
       "        [0., 1., 0., 0., 0., 0., 0., 0., 0., 0.],\n",
       "        [0., 0., 0., 0., 1., 0., 0., 0., 0., 0.],\n",
       "        [0., 0., 0., 1., 0., 0., 0., 0., 0., 0.],\n",
       "        [0., 0., 0., 0., 0., 0., 0., 0., 1., 0.],\n",
       "        [0., 0., 0., 0., 0., 0., 0., 1., 0., 0.],\n",
       "        [1., 0., 0., 0., 0., 0., 0., 0., 0., 0.],\n",
       "        [0., 0., 0., 0., 0., 0., 0., 1., 0., 0.],\n",
       "        [0., 0., 0., 0., 0., 0., 0., 1., 0., 0.],\n",
       "        [0., 0., 1., 0., 0., 0., 0., 0., 0., 0.],\n",
       "        [0., 1., 0., 0., 0., 0., 0., 0., 0., 0.],\n",
       "        [1., 0., 0., 0., 0., 0., 0., 0., 0., 0.],\n",
       "        [0., 0., 0., 0., 0., 0., 0., 1., 0., 0.],\n",
       "        [0., 0., 0., 0., 0., 0., 0., 0., 1., 0.],\n",
       "        [0., 0., 0., 0., 1., 0., 0., 0., 0., 0.],\n",
       "        [0., 0., 0., 0., 0., 0., 0., 0., 0., 1.],\n",
       "        [0., 1., 0., 0., 0., 0., 0., 0., 0., 0.],\n",
       "        [0., 0., 0., 0., 0., 1., 0., 0., 0., 0.],\n",
       "        [0., 0., 0., 0., 0., 0., 1., 0., 0., 0.],\n",
       "        [0., 0., 0., 0., 0., 0., 0., 1., 0., 0.],\n",
       "        [1., 0., 0., 0., 0., 0., 0., 0., 0., 0.],\n",
       "        [0., 0., 0., 0., 0., 1., 0., 0., 0., 0.],\n",
       "        [0., 0., 0., 0., 0., 0., 0., 0., 0., 1.],\n",
       "        [0., 0., 0., 0., 0., 0., 0., 1., 0., 0.],\n",
       "        [0., 0., 0., 0., 0., 0., 0., 0., 1., 0.],\n",
       "        [0., 0., 0., 0., 0., 1., 0., 0., 0., 0.],\n",
       "        [0., 0., 0., 0., 0., 0., 0., 0., 1., 0.],\n",
       "        [0., 0., 0., 0., 0., 1., 0., 0., 0., 0.],\n",
       "        [0., 1., 0., 0., 0., 0., 0., 0., 0., 0.],\n",
       "        [0., 0., 1., 0., 0., 0., 0., 0., 0., 0.],\n",
       "        [0., 0., 0., 0., 0., 1., 0., 0., 0., 0.],\n",
       "        [0., 0., 0., 0., 0., 1., 0., 0., 0., 0.],\n",
       "        [0., 0., 0., 0., 0., 0., 0., 0., 1., 0.],\n",
       "        [0., 0., 0., 1., 0., 0., 0., 0., 0., 0.],\n",
       "        [0., 0., 0., 1., 0., 0., 0., 0., 0., 0.],\n",
       "        [0., 0., 0., 0., 0., 0., 0., 0., 1., 0.],\n",
       "        [1., 0., 0., 0., 0., 0., 0., 0., 0., 0.],\n",
       "        [0., 0., 0., 0., 0., 0., 1., 0., 0., 0.],\n",
       "        [0., 0., 0., 1., 0., 0., 0., 0., 0., 0.],\n",
       "        [0., 0., 0., 1., 0., 0., 0., 0., 0., 0.],\n",
       "        [0., 0., 0., 0., 0., 1., 0., 0., 0., 0.],\n",
       "        [0., 1., 0., 0., 0., 0., 0., 0., 0., 0.],\n",
       "        [0., 0., 1., 0., 0., 0., 0., 0., 0., 0.],\n",
       "        [0., 0., 0., 1., 0., 0., 0., 0., 0., 0.],\n",
       "        [0., 0., 0., 0., 0., 0., 0., 0., 0., 1.],\n",
       "        [0., 0., 0., 0., 0., 1., 0., 0., 0., 0.],\n",
       "        [0., 0., 0., 1., 0., 0., 0., 0., 0., 0.],\n",
       "        [1., 0., 0., 0., 0., 0., 0., 0., 0., 0.],\n",
       "        [0., 0., 0., 1., 0., 0., 0., 0., 0., 0.],\n",
       "        [0., 0., 0., 0., 0., 0., 1., 0., 0., 0.],\n",
       "        [0., 0., 0., 0., 0., 0., 0., 1., 0., 0.],\n",
       "        [0., 0., 0., 0., 0., 0., 0., 1., 0., 0.],\n",
       "        [0., 0., 0., 0., 0., 1., 0., 0., 0., 0.],\n",
       "        [0., 0., 0., 0., 0., 0., 0., 0., 1., 0.],\n",
       "        [0., 0., 0., 0., 0., 0., 0., 0., 0., 1.],\n",
       "        [1., 0., 0., 0., 0., 0., 0., 0., 0., 0.],\n",
       "        [0., 0., 0., 0., 0., 0., 0., 0., 1., 0.],\n",
       "        [0., 0., 0., 0., 1., 0., 0., 0., 0., 0.],\n",
       "        [0., 0., 0., 0., 0., 0., 0., 1., 0., 0.],\n",
       "        [0., 0., 0., 1., 0., 0., 0., 0., 0., 0.],\n",
       "        [1., 0., 0., 0., 0., 0., 0., 0., 0., 0.],\n",
       "        [0., 0., 0., 0., 0., 0., 0., 0., 1., 0.],\n",
       "        [0., 0., 0., 0., 0., 0., 0., 1., 0., 0.],\n",
       "        [0., 0., 0., 0., 0., 0., 1., 0., 0., 0.],\n",
       "        [1., 0., 0., 0., 0., 0., 0., 0., 0., 0.],\n",
       "        [0., 0., 0., 0., 0., 0., 1., 0., 0., 0.],\n",
       "        [0., 0., 0., 0., 0., 1., 0., 0., 0., 0.],\n",
       "        [0., 0., 1., 0., 0., 0., 0., 0., 0., 0.],\n",
       "        [0., 0., 0., 0., 0., 0., 0., 0., 1., 0.],\n",
       "        [0., 1., 0., 0., 0., 0., 0., 0., 0., 0.],\n",
       "        [1., 0., 0., 0., 0., 0., 0., 0., 0., 0.],\n",
       "        [0., 0., 0., 0., 0., 0., 1., 0., 0., 0.],\n",
       "        [0., 0., 0., 0., 0., 0., 1., 0., 0., 0.],\n",
       "        [0., 0., 0., 0., 0., 1., 0., 0., 0., 0.],\n",
       "        [0., 0., 0., 0., 0., 0., 0., 1., 0., 0.],\n",
       "        [0., 0., 0., 0., 0., 0., 0., 1., 0., 0.],\n",
       "        [0., 0., 0., 1., 0., 0., 0., 0., 0., 0.],\n",
       "        [0., 0., 0., 0., 0., 0., 0., 0., 1., 0.],\n",
       "        [0., 0., 1., 0., 0., 0., 0., 0., 0., 0.],\n",
       "        [0., 0., 0., 0., 0., 0., 0., 0., 0., 1.],\n",
       "        [0., 0., 0., 0., 0., 0., 0., 1., 0., 0.],\n",
       "        [0., 0., 0., 1., 0., 0., 0., 0., 0., 0.],\n",
       "        [0., 0., 0., 0., 0., 0., 0., 1., 0., 0.],\n",
       "        [0., 0., 0., 0., 0., 0., 0., 0., 0., 1.],\n",
       "        [0., 0., 0., 0., 0., 0., 0., 0., 1., 0.]])"
      ]
     },
     "execution_count": 82,
     "metadata": {},
     "output_type": "execute_result"
    }
   ],
   "source": [
    "J.todense()"
   ]
  },
  {
   "cell_type": "code",
   "execution_count": 83,
   "id": "75078569",
   "metadata": {},
   "outputs": [
    {
     "data": {
      "text/plain": [
       "matrix([[10.,  0.,  0.,  0.,  0.,  0.,  0.,  0.,  0.,  0.],\n",
       "        [ 0.,  8.,  0.,  0.,  0.,  0.,  0.,  0.,  0.,  0.],\n",
       "        [ 0.,  0.,  7.,  0.,  0.,  0.,  0.,  0.,  0.,  0.],\n",
       "        [ 0.,  0.,  0., 13.,  0.,  0.,  0.,  0.,  0.,  0.],\n",
       "        [ 0.,  0.,  0.,  0.,  5.,  0.,  0.,  0.,  0.,  0.],\n",
       "        [ 0.,  0.,  0.,  0.,  0., 13.,  0.,  0.,  0.,  0.],\n",
       "        [ 0.,  0.,  0.,  0.,  0.,  0.,  9.,  0.,  0.,  0.],\n",
       "        [ 0.,  0.,  0.,  0.,  0.,  0.,  0., 15.,  0.,  0.],\n",
       "        [ 0.,  0.,  0.,  0.,  0.,  0.,  0.,  0., 14.,  0.],\n",
       "        [ 0.,  0.,  0.,  0.,  0.,  0.,  0.,  0.,  0.,  6.]])"
      ]
     },
     "execution_count": 83,
     "metadata": {},
     "output_type": "execute_result"
    }
   ],
   "source": [
    "(J.T @ J).todense()"
   ]
  },
  {
   "cell_type": "markdown",
   "id": "590e31e8",
   "metadata": {},
   "source": [
    "## 15.2 Matrix multiplication with diagonal matrices\n",
    "\n",
    "Doing element-wise multiplication with broadcasting is considerably faster than constructing a diagonal matrix and doing matrix multiplication"
   ]
  },
  {
   "cell_type": "code",
   "execution_count": 84,
   "id": "285d5a96",
   "metadata": {},
   "outputs": [],
   "source": [
    "n = int(3 * 1e3)\n",
    "a = rng.normal(size=(n, n))\n",
    "b = rng.normal(size=n)"
   ]
  },
  {
   "cell_type": "markdown",
   "id": "be0fbae8",
   "metadata": {},
   "source": [
    "Note that to construct a diagonal matrix out of a vector, use the function `np.diag`. `np.diag` can also extract the diagonal elements from a matrix and convert them into a vector."
   ]
  },
  {
   "cell_type": "code",
   "execution_count": 85,
   "id": "64c61b20",
   "metadata": {},
   "outputs": [
    {
     "data": {
      "text/plain": [
       "array([[ 0.18434288,  0.        ,  0.        , ...,  0.        ,\n",
       "         0.        ,  0.        ],\n",
       "       [ 0.        ,  0.3060658 ,  0.        , ...,  0.        ,\n",
       "         0.        ,  0.        ],\n",
       "       [ 0.        ,  0.        ,  0.75518856, ...,  0.        ,\n",
       "         0.        ,  0.        ],\n",
       "       ...,\n",
       "       [ 0.        ,  0.        ,  0.        , ..., -0.07587435,\n",
       "         0.        ,  0.        ],\n",
       "       [ 0.        ,  0.        ,  0.        , ...,  0.        ,\n",
       "        -0.54171436,  0.        ],\n",
       "       [ 0.        ,  0.        ,  0.        , ...,  0.        ,\n",
       "         0.        , -1.09279164]])"
      ]
     },
     "execution_count": 85,
     "metadata": {},
     "output_type": "execute_result"
    }
   ],
   "source": [
    "diag_b = np.diag(b)\n",
    "diag_b"
   ]
  },
  {
   "cell_type": "code",
   "execution_count": 86,
   "id": "c79b8962",
   "metadata": {},
   "outputs": [
    {
     "name": "stdout",
     "output_type": "stream",
     "text": [
      "115 ms ± 5.24 ms per loop (mean ± std. dev. of 7 runs, 10 loops each)\n"
     ]
    }
   ],
   "source": [
    "%%timeit\n",
    "diag_b @ a"
   ]
  },
  {
   "cell_type": "code",
   "execution_count": 87,
   "id": "ac371a42",
   "metadata": {},
   "outputs": [
    {
     "name": "stdout",
     "output_type": "stream",
     "text": [
      "8.14 ms ± 328 μs per loop (mean ± std. dev. of 7 runs, 100 loops each)\n"
     ]
    }
   ],
   "source": [
    "%%timeit\n",
    "b[:, None] * a"
   ]
  },
  {
   "cell_type": "code",
   "execution_count": 88,
   "id": "04f11ff1",
   "metadata": {},
   "outputs": [
    {
     "name": "stdout",
     "output_type": "stream",
     "text": [
      "109 ms ± 819 μs per loop (mean ± std. dev. of 7 runs, 10 loops each)\n"
     ]
    }
   ],
   "source": [
    "%%timeit\n",
    "a @ diag_b"
   ]
  },
  {
   "cell_type": "code",
   "execution_count": 89,
   "id": "f2c0021b",
   "metadata": {},
   "outputs": [
    {
     "name": "stdout",
     "output_type": "stream",
     "text": [
      "8.15 ms ± 117 μs per loop (mean ± std. dev. of 7 runs, 100 loops each)\n"
     ]
    }
   ],
   "source": [
    "%%timeit\n",
    "b[None, :] * a"
   ]
  }
 ],
 "metadata": {
  "kernelspec": {
   "display_name": "Python 3 (ipykernel)",
   "language": "python",
   "name": "python3"
  },
  "language_info": {
   "codemirror_mode": {
    "name": "ipython",
    "version": 3
   },
   "file_extension": ".py",
   "mimetype": "text/x-python",
   "name": "python",
   "nbconvert_exporter": "python",
   "pygments_lexer": "ipython3",
   "version": "3.12.3"
  }
 },
 "nbformat": 4,
 "nbformat_minor": 5
}
