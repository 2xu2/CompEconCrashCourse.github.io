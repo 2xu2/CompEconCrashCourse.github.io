{
 "cells": [
  {
   "cell_type": "markdown",
   "id": "2cba0e12",
   "metadata": {},
   "source": [
    "# Lesson 4\n",
    "\n",
    "## Overview\n",
    "\n",
    "1. Classes\n",
    "- A class for names\n",
    "- - Comparing classes and dictionaries\n",
    "- A class for students\n",
    "- - Defining new class attributes\n",
    "- A class for classrooms\n",
    "\n",
    "2. Queues\n",
    "- Standard queues\n",
    "- Priority queues\n",
    "\n",
    "3. PA3 Review"
   ]
  },
  {
   "cell_type": "markdown",
   "id": "1285271f",
   "metadata": {},
   "source": [
    "## 1. Classes\n",
    "\n",
    "An easy way to store and handle \"related\" data/variables\n",
    "\n",
    "- Variables stored within a class are accessed using `.` and are called 'attributes'\n",
    "- Functions within a class are called 'methods' and must use `self` as the first argument\n",
    "- The first method for a new class must be `__init__`\n",
    "\n",
    "We will build up an example of names -> students -> classrooms\n",
    "\n",
    "### 1.1 A class for names"
   ]
  },
  {
   "cell_type": "code",
   "execution_count": 1,
   "id": "a5aad2d9",
   "metadata": {},
   "outputs": [],
   "source": [
    "class Name():\n",
    "    def __init__(self, first_name, last_name, middle_name=None):\n",
    "        self.first_name = first_name\n",
    "        self.last_name = last_name\n",
    "        self.middle_name = middle_name\n",
    "\n",
    "    def print_name(self):\n",
    "        if self.middle_name is None:\n",
    "            print(self.first_name, self.last_name)\n",
    "        else:\n",
    "            print(self.first_name, self.middle_name, self.last_name)"
   ]
  },
  {
   "cell_type": "markdown",
   "id": "9712eda6",
   "metadata": {},
   "source": [
    "Once a class is defined, we can create objects of the class, call the class methods, and access class attributes"
   ]
  },
  {
   "cell_type": "code",
   "execution_count": 2,
   "id": "69cc2639",
   "metadata": {},
   "outputs": [],
   "source": [
    "myname = Name(first_name='Adam', middle_name='Alexander', last_name='Oppenheimer')"
   ]
  },
  {
   "cell_type": "code",
   "execution_count": 3,
   "id": "9e261500",
   "metadata": {},
   "outputs": [
    {
     "name": "stdout",
     "output_type": "stream",
     "text": [
      "Adam Alexander Oppenheimer\n"
     ]
    }
   ],
   "source": [
    "myname.print_name()"
   ]
  },
  {
   "cell_type": "code",
   "execution_count": 4,
   "id": "d2b05766",
   "metadata": {},
   "outputs": [
    {
     "data": {
      "text/plain": [
       "'Alexander'"
      ]
     },
     "execution_count": 4,
     "metadata": {},
     "output_type": "execute_result"
    }
   ],
   "source": [
    "myname.middle_name"
   ]
  },
  {
   "cell_type": "markdown",
   "id": "17960440",
   "metadata": {},
   "source": [
    "Objects of a class have the class as their type"
   ]
  },
  {
   "cell_type": "code",
   "execution_count": 5,
   "id": "bed3d673",
   "metadata": {},
   "outputs": [
    {
     "data": {
      "text/plain": [
       "__main__.Name"
      ]
     },
     "execution_count": 5,
     "metadata": {},
     "output_type": "execute_result"
    }
   ],
   "source": [
    "type(myname)"
   ]
  },
  {
   "cell_type": "markdown",
   "id": "e31b3e8e",
   "metadata": {},
   "source": [
    "#### 1.1.1 Comparing classes and dictionaries\n",
    "\n",
    "You could think of classes like a type of dictionary with fixed keys and pre-written functions that work with those keys (this is a simplification, but might help clarify how they work)"
   ]
  },
  {
   "cell_type": "code",
   "execution_count": 6,
   "id": "74442ff1",
   "metadata": {},
   "outputs": [
    {
     "data": {
      "text/plain": [
       "'Adam'"
      ]
     },
     "execution_count": 6,
     "metadata": {},
     "output_type": "execute_result"
    }
   ],
   "source": [
    "myname_dict = {'first_name': 'Adam', 'middle_name': 'Alexander', 'last_name': 'Oppenheimer'}\n",
    "myname_dict['first_name']"
   ]
  },
  {
   "cell_type": "code",
   "execution_count": 7,
   "id": "4e752420",
   "metadata": {},
   "outputs": [
    {
     "data": {
      "text/plain": [
       "'Adam'"
      ]
     },
     "execution_count": 7,
     "metadata": {},
     "output_type": "execute_result"
    }
   ],
   "source": [
    "myname.first_name"
   ]
  },
  {
   "cell_type": "markdown",
   "id": "eddb9795",
   "metadata": {},
   "source": [
    "### 1.2 A class for students\n",
    "\n",
    "Classes can be nested - here, we nest the class `Name` inside a new class `Student`"
   ]
  },
  {
   "cell_type": "code",
   "execution_count": 8,
   "id": "0ec8c5ec",
   "metadata": {},
   "outputs": [],
   "source": [
    "class Student():\n",
    "    def __init__(self, name, age, class_year):\n",
    "        self.name = name\n",
    "        self.age = age\n",
    "        self.class_year = class_year\n",
    "\n",
    "    def compute_approximate_birth_year(self):\n",
    "        return 2024 - self.age\n",
    "    \n",
    "    def compute_approximate_graduation_year(self):\n",
    "        return 2024 + (6 - self.class_year)"
   ]
  },
  {
   "cell_type": "code",
   "execution_count": 9,
   "id": "9ff505c0",
   "metadata": {},
   "outputs": [],
   "source": [
    "name1 = Name(first_name='Adam', middle_name='Alexander', last_name='Oppenheimer')\n",
    "student1 = Student(name1, 26, 2022)"
   ]
  },
  {
   "cell_type": "code",
   "execution_count": 10,
   "id": "23f6f9e6",
   "metadata": {},
   "outputs": [],
   "source": [
    "name2 = Name(first_name='Yutong', last_name='Zhong')\n",
    "student2 = Student(name2, 25, 2021)"
   ]
  },
  {
   "cell_type": "code",
   "execution_count": 11,
   "id": "e8a36c07",
   "metadata": {},
   "outputs": [
    {
     "name": "stdout",
     "output_type": "stream",
     "text": [
      "Adam Alexander Oppenheimer\n"
     ]
    }
   ],
   "source": [
    "student1.name.print_name()"
   ]
  },
  {
   "cell_type": "code",
   "execution_count": 12,
   "id": "6e7cf52e",
   "metadata": {},
   "outputs": [
    {
     "data": {
      "text/plain": [
       "1998"
      ]
     },
     "execution_count": 12,
     "metadata": {},
     "output_type": "execute_result"
    }
   ],
   "source": [
    "student1.compute_approximate_birth_year()"
   ]
  },
  {
   "cell_type": "markdown",
   "id": "27bc931b",
   "metadata": {},
   "source": [
    "#### 1.2.1 Defining new class attributes"
   ]
  },
  {
   "cell_type": "code",
   "execution_count": 13,
   "id": "cabfdebc",
   "metadata": {},
   "outputs": [],
   "source": [
    "student1.new_variable = 10"
   ]
  },
  {
   "cell_type": "code",
   "execution_count": 14,
   "id": "dd5727a0",
   "metadata": {},
   "outputs": [
    {
     "data": {
      "text/plain": [
       "10"
      ]
     },
     "execution_count": 14,
     "metadata": {},
     "output_type": "execute_result"
    }
   ],
   "source": [
    "student1.new_variable"
   ]
  },
  {
   "cell_type": "markdown",
   "id": "6d196d61",
   "metadata": {},
   "source": [
    "### 1.3 A class for classrooms\n",
    "\n",
    "Now, we nest the class `Student` inside the new class `Classroom`"
   ]
  },
  {
   "cell_type": "code",
   "execution_count": 15,
   "id": "43b64cbc",
   "metadata": {},
   "outputs": [],
   "source": [
    "class Classroom():\n",
    "    def __init__(self, class_number):\n",
    "        if not isinstance(class_number, int):\n",
    "            raise TypeError('class_number should be an integer')\n",
    "        self.class_number = class_number\n",
    "        self.students = []\n",
    "\n",
    "    def add_student(self, student):\n",
    "        if not isinstance(student, Student):\n",
    "            raise TypeError('student should be a Student')\n",
    "        self.students.append(student)\n",
    "\n",
    "    def sort_students(self, order='last_name'):\n",
    "        # Notice: use class attributes `first_name` and `last_name`\n",
    "        if order == 'last_name':\n",
    "            self.students = sorted(self.students, key=lambda a: a.name.last_name)\n",
    "        elif order == 'first_name':\n",
    "            self.students = sorted(self.students, key=lambda a: a.name.first_name)\n",
    "\n",
    "    def print(self):\n",
    "        # Notice: use class method `.print_name()`\n",
    "        print('Class number:', self.class_number)\n",
    "        print('Students:')\n",
    "        for student in self.students:\n",
    "            student.name.print_name()"
   ]
  },
  {
   "cell_type": "code",
   "execution_count": 16,
   "id": "1cc8a2b7",
   "metadata": {},
   "outputs": [
    {
     "name": "stdout",
     "output_type": "stream",
     "text": [
      "Class number: 1\n",
      "Students:\n",
      "Yutong Zhong\n",
      "Adam Alexander Oppenheimer\n"
     ]
    }
   ],
   "source": [
    "python_course = Classroom(1)\n",
    "python_course.add_student(student2)\n",
    "python_course.add_student(student1)\n",
    "python_course.print()"
   ]
  },
  {
   "cell_type": "code",
   "execution_count": 17,
   "id": "5352f9e4",
   "metadata": {},
   "outputs": [
    {
     "name": "stdout",
     "output_type": "stream",
     "text": [
      "Class number: 1\n",
      "Students:\n",
      "Adam Alexander Oppenheimer\n",
      "Yutong Zhong\n"
     ]
    }
   ],
   "source": [
    "python_course.sort_students(order='last_name')\n",
    "python_course.print()"
   ]
  },
  {
   "cell_type": "markdown",
   "id": "54e801e4",
   "metadata": {},
   "source": [
    "## 2. Queues\n",
    "\n",
    "An ordered list where variables are added then removed\n",
    "\n",
    "### 2.1 Standard queues\n",
    "\n",
    "What goes in first comes out first"
   ]
  },
  {
   "cell_type": "code",
   "execution_count": 18,
   "id": "746aa936",
   "metadata": {},
   "outputs": [
    {
     "name": "stdout",
     "output_type": "stream",
     "text": [
      "1\n",
      "3\n",
      "2\n"
     ]
    }
   ],
   "source": [
    "import queue\n",
    "\n",
    "a = queue.Queue()\n",
    "a.put(1)\n",
    "a.put(3)\n",
    "a.put(2)\n",
    "print(a.get())\n",
    "print(a.get())\n",
    "print(a.get())"
   ]
  },
  {
   "cell_type": "markdown",
   "id": "c6b7cf94",
   "metadata": {},
   "source": [
    "Calling `.get()` on an empty queue causes the code to hang"
   ]
  },
  {
   "cell_type": "code",
   "execution_count": 19,
   "id": "6e4ed203",
   "metadata": {},
   "outputs": [
    {
     "ename": "KeyboardInterrupt",
     "evalue": "",
     "output_type": "error",
     "traceback": [
      "\u001b[0;31m---------------------------------------------------------------------------\u001b[0m",
      "\u001b[0;31mKeyboardInterrupt\u001b[0m                         Traceback (most recent call last)",
      "Cell \u001b[0;32mIn[19], line 1\u001b[0m\n\u001b[0;32m----> 1\u001b[0m \u001b[43ma\u001b[49m\u001b[38;5;241;43m.\u001b[39;49m\u001b[43mget\u001b[49m\u001b[43m(\u001b[49m\u001b[43m)\u001b[49m\n",
      "File \u001b[0;32m~/anaconda3/envs/pycourse/lib/python3.12/queue.py:171\u001b[0m, in \u001b[0;36mQueue.get\u001b[0;34m(self, block, timeout)\u001b[0m\n\u001b[1;32m    169\u001b[0m \u001b[38;5;28;01melif\u001b[39;00m timeout \u001b[38;5;129;01mis\u001b[39;00m \u001b[38;5;28;01mNone\u001b[39;00m:\n\u001b[1;32m    170\u001b[0m     \u001b[38;5;28;01mwhile\u001b[39;00m \u001b[38;5;129;01mnot\u001b[39;00m \u001b[38;5;28mself\u001b[39m\u001b[38;5;241m.\u001b[39m_qsize():\n\u001b[0;32m--> 171\u001b[0m         \u001b[38;5;28;43mself\u001b[39;49m\u001b[38;5;241;43m.\u001b[39;49m\u001b[43mnot_empty\u001b[49m\u001b[38;5;241;43m.\u001b[39;49m\u001b[43mwait\u001b[49m\u001b[43m(\u001b[49m\u001b[43m)\u001b[49m\n\u001b[1;32m    172\u001b[0m \u001b[38;5;28;01melif\u001b[39;00m timeout \u001b[38;5;241m<\u001b[39m \u001b[38;5;241m0\u001b[39m:\n\u001b[1;32m    173\u001b[0m     \u001b[38;5;28;01mraise\u001b[39;00m \u001b[38;5;167;01mValueError\u001b[39;00m(\u001b[38;5;124m\"\u001b[39m\u001b[38;5;124m'\u001b[39m\u001b[38;5;124mtimeout\u001b[39m\u001b[38;5;124m'\u001b[39m\u001b[38;5;124m must be a non-negative number\u001b[39m\u001b[38;5;124m\"\u001b[39m)\n",
      "File \u001b[0;32m~/anaconda3/envs/pycourse/lib/python3.12/threading.py:355\u001b[0m, in \u001b[0;36mCondition.wait\u001b[0;34m(self, timeout)\u001b[0m\n\u001b[1;32m    353\u001b[0m \u001b[38;5;28;01mtry\u001b[39;00m:    \u001b[38;5;66;03m# restore state no matter what (e.g., KeyboardInterrupt)\u001b[39;00m\n\u001b[1;32m    354\u001b[0m     \u001b[38;5;28;01mif\u001b[39;00m timeout \u001b[38;5;129;01mis\u001b[39;00m \u001b[38;5;28;01mNone\u001b[39;00m:\n\u001b[0;32m--> 355\u001b[0m         \u001b[43mwaiter\u001b[49m\u001b[38;5;241;43m.\u001b[39;49m\u001b[43macquire\u001b[49m\u001b[43m(\u001b[49m\u001b[43m)\u001b[49m\n\u001b[1;32m    356\u001b[0m         gotit \u001b[38;5;241m=\u001b[39m \u001b[38;5;28;01mTrue\u001b[39;00m\n\u001b[1;32m    357\u001b[0m     \u001b[38;5;28;01melse\u001b[39;00m:\n",
      "\u001b[0;31mKeyboardInterrupt\u001b[0m: "
     ]
    }
   ],
   "source": [
    "a.get()"
   ]
  },
  {
   "cell_type": "markdown",
   "id": "4b34fe20",
   "metadata": {},
   "source": [
    "### 2.2 Priority queues\n",
    "\n",
    "Order based on some ranking (often the first element of a tuple). Read more about them for PA4."
   ]
  },
  {
   "cell_type": "code",
   "execution_count": 20,
   "id": "67c227d3",
   "metadata": {},
   "outputs": [
    {
     "name": "stdout",
     "output_type": "stream",
     "text": [
      "(1, 'hello')\n",
      "(2, 'waiting')\n",
      "(3, 'goodbye')\n"
     ]
    }
   ],
   "source": [
    "b = queue.PriorityQueue()\n",
    "b.put((1, 'hello'))\n",
    "b.put((3, 'goodbye'))\n",
    "b.put((2, 'waiting'))\n",
    "print(b.get())\n",
    "print(b.get())\n",
    "print(b.get())"
   ]
  },
  {
   "cell_type": "markdown",
   "id": "7d581d9f",
   "metadata": {},
   "source": [
    "## 3. PA3 review\n",
    "\n",
    "Discussion and review my solution"
   ]
  }
 ],
 "metadata": {
  "kernelspec": {
   "display_name": "Python 3 (ipykernel)",
   "language": "python",
   "name": "python3"
  },
  "language_info": {
   "codemirror_mode": {
    "name": "ipython",
    "version": 3
   },
   "file_extension": ".py",
   "mimetype": "text/x-python",
   "name": "python",
   "nbconvert_exporter": "python",
   "pygments_lexer": "ipython3",
   "version": "3.12.3"
  }
 },
 "nbformat": 4,
 "nbformat_minor": 5
}
