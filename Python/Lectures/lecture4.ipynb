{
 "cells": [
  {
   "cell_type": "markdown",
   "id": "2cba0e12",
   "metadata": {},
   "source": [
    "# Lesson 4\n",
    "\n",
    "## Overview\n",
    "\n",
    "- Classes\n",
    "\n",
    "- Queues\n",
    "\n",
    "- PA3 Review"
   ]
  },
  {
   "cell_type": "markdown",
   "id": "1285271f",
   "metadata": {},
   "source": [
    "## Classes\n",
    "\n",
    "An easy way to store and handle \"related\" data/variables."
   ]
  },
  {
   "cell_type": "code",
   "execution_count": 1,
   "id": "4e752420",
   "metadata": {},
   "outputs": [],
   "source": [
    "class Student():\n",
    "    def __init__(self, first_name, last_name, middle_name=None):\n",
    "        self.first_name = first_name\n",
    "        self.last_name = last_name\n",
    "        self.middle_name = middle_name\n",
    "\n",
    "    def print_name(self):\n",
    "        if self.middle_name is None:\n",
    "            print(self.first_name, self.last_name)\n",
    "        else:\n",
    "            print(self.first_name, self.middle_name, self.last_name)"
   ]
  },
  {
   "cell_type": "code",
   "execution_count": 2,
   "id": "9ff505c0",
   "metadata": {},
   "outputs": [
    {
     "name": "stdout",
     "output_type": "stream",
     "text": [
      "Adam Alexander Oppenheimer\n"
     ]
    }
   ],
   "source": [
    "student1 = Student(first_name='Adam', middle_name='Alexander', last_name='Oppenheimer')\n",
    "student1.print_name()"
   ]
  },
  {
   "cell_type": "code",
   "execution_count": 3,
   "id": "ec2f7af2",
   "metadata": {},
   "outputs": [
    {
     "name": "stdout",
     "output_type": "stream",
     "text": [
      "Yutong Zhong\n"
     ]
    }
   ],
   "source": [
    "student2 = Student(first_name='Yutong', last_name='Zhong')\n",
    "student2.print_name()"
   ]
  },
  {
   "cell_type": "code",
   "execution_count": 5,
   "id": "92b1528a",
   "metadata": {},
   "outputs": [
    {
     "data": {
      "text/plain": [
       "'Alexander'"
      ]
     },
     "execution_count": 5,
     "metadata": {},
     "output_type": "execute_result"
    }
   ],
   "source": [
    "student1.middle_name"
   ]
  },
  {
   "cell_type": "code",
   "execution_count": 6,
   "id": "cabfdebc",
   "metadata": {},
   "outputs": [],
   "source": [
    "student1.new_variable = 10"
   ]
  },
  {
   "cell_type": "code",
   "execution_count": 7,
   "id": "dd5727a0",
   "metadata": {},
   "outputs": [
    {
     "data": {
      "text/plain": [
       "10"
      ]
     },
     "execution_count": 7,
     "metadata": {},
     "output_type": "execute_result"
    }
   ],
   "source": [
    "student1.new_variable"
   ]
  },
  {
   "cell_type": "code",
   "execution_count": 8,
   "id": "43b64cbc",
   "metadata": {},
   "outputs": [],
   "source": [
    "class Classroom():\n",
    "    def __init__(self, class_number):\n",
    "        self.class_number = class_number\n",
    "        self.students = []\n",
    "\n",
    "    def add_student(self, student):\n",
    "        self.students.append(student)\n",
    "\n",
    "    def sort_students(self, order='last_name'):\n",
    "        if order == 'last_name':\n",
    "            self.students = sorted(self.students, key=lambda a: a.last_name)\n",
    "        elif order == 'first_name':\n",
    "            self.students = sorted(self.students, key=lambda a: a.first_name)\n",
    "\n",
    "    def print(self):\n",
    "        print('Class number:', self.class_number)\n",
    "        print('Students:')\n",
    "        for student in self.students:\n",
    "            student.print_name()"
   ]
  },
  {
   "cell_type": "code",
   "execution_count": 9,
   "id": "1cc8a2b7",
   "metadata": {},
   "outputs": [
    {
     "name": "stdout",
     "output_type": "stream",
     "text": [
      "Class number: 1\n",
      "Students:\n",
      "Yutong Zhong\n",
      "Adam Alexander Oppenheimer\n"
     ]
    }
   ],
   "source": [
    "python_course = Classroom(1)\n",
    "python_course.add_student(student2)\n",
    "python_course.add_student(student1)\n",
    "python_course.print()"
   ]
  },
  {
   "cell_type": "code",
   "execution_count": 10,
   "id": "5352f9e4",
   "metadata": {},
   "outputs": [
    {
     "name": "stdout",
     "output_type": "stream",
     "text": [
      "Class number: 1\n",
      "Students:\n",
      "Adam Alexander Oppenheimer\n",
      "Yutong Zhong\n"
     ]
    }
   ],
   "source": [
    "python_course.sort_students()\n",
    "python_course.print()"
   ]
  },
  {
   "cell_type": "code",
   "execution_count": 15,
   "id": "cca03db3",
   "metadata": {},
   "outputs": [],
   "source": [
    "python_course.add_student(61)"
   ]
  },
  {
   "cell_type": "code",
   "execution_count": 16,
   "id": "4e38fd0c",
   "metadata": {},
   "outputs": [
    {
     "ename": "AttributeError",
     "evalue": "'int' object has no attribute 'last_name'",
     "output_type": "error",
     "traceback": [
      "\u001b[0;31m---------------------------------------------------------------------------\u001b[0m",
      "\u001b[0;31mAttributeError\u001b[0m                            Traceback (most recent call last)",
      "Input \u001b[0;32mIn [16]\u001b[0m, in \u001b[0;36m<cell line: 1>\u001b[0;34m()\u001b[0m\n\u001b[0;32m----> 1\u001b[0m \u001b[43mpython_course\u001b[49m\u001b[38;5;241;43m.\u001b[39;49m\u001b[43msort_students\u001b[49m\u001b[43m(\u001b[49m\u001b[43m)\u001b[49m\n",
      "Input \u001b[0;32mIn [8]\u001b[0m, in \u001b[0;36mClassroom.sort_students\u001b[0;34m(self)\u001b[0m\n\u001b[1;32m      9\u001b[0m \u001b[38;5;28;01mdef\u001b[39;00m \u001b[38;5;21msort_students\u001b[39m(\u001b[38;5;28mself\u001b[39m):\n\u001b[0;32m---> 10\u001b[0m     \u001b[38;5;28mself\u001b[39m\u001b[38;5;241m.\u001b[39mstudents \u001b[38;5;241m=\u001b[39m \u001b[38;5;28;43msorted\u001b[39;49m\u001b[43m(\u001b[49m\u001b[38;5;28;43mself\u001b[39;49m\u001b[38;5;241;43m.\u001b[39;49m\u001b[43mstudents\u001b[49m\u001b[43m,\u001b[49m\u001b[43m \u001b[49m\u001b[43mkey\u001b[49m\u001b[38;5;241;43m=\u001b[39;49m\u001b[38;5;28;43;01mlambda\u001b[39;49;00m\u001b[43m \u001b[49m\u001b[43ma\u001b[49m\u001b[43m:\u001b[49m\u001b[43m \u001b[49m\u001b[43ma\u001b[49m\u001b[38;5;241;43m.\u001b[39;49m\u001b[43mlast_name\u001b[49m\u001b[43m)\u001b[49m\n",
      "Input \u001b[0;32mIn [8]\u001b[0m, in \u001b[0;36mClassroom.sort_students.<locals>.<lambda>\u001b[0;34m(a)\u001b[0m\n\u001b[1;32m      9\u001b[0m \u001b[38;5;28;01mdef\u001b[39;00m \u001b[38;5;21msort_students\u001b[39m(\u001b[38;5;28mself\u001b[39m):\n\u001b[0;32m---> 10\u001b[0m     \u001b[38;5;28mself\u001b[39m\u001b[38;5;241m.\u001b[39mstudents \u001b[38;5;241m=\u001b[39m \u001b[38;5;28msorted\u001b[39m(\u001b[38;5;28mself\u001b[39m\u001b[38;5;241m.\u001b[39mstudents, key\u001b[38;5;241m=\u001b[39m\u001b[38;5;28;01mlambda\u001b[39;00m a: \u001b[43ma\u001b[49m\u001b[38;5;241;43m.\u001b[39;49m\u001b[43mlast_name\u001b[49m)\n",
      "\u001b[0;31mAttributeError\u001b[0m: 'int' object has no attribute 'last_name'"
     ]
    }
   ],
   "source": [
    "python_course.sort_students()"
   ]
  },
  {
   "cell_type": "code",
   "execution_count": 17,
   "id": "0b53fb0e",
   "metadata": {},
   "outputs": [
    {
     "name": "stdout",
     "output_type": "stream",
     "text": [
      "Class number: 1\n",
      "Students:\n",
      "Adam Alexander Oppenheimer\n",
      "Yutong Zhong\n"
     ]
    },
    {
     "ename": "AttributeError",
     "evalue": "'int' object has no attribute 'print_name'",
     "output_type": "error",
     "traceback": [
      "\u001b[0;31m---------------------------------------------------------------------------\u001b[0m",
      "\u001b[0;31mAttributeError\u001b[0m                            Traceback (most recent call last)",
      "Input \u001b[0;32mIn [17]\u001b[0m, in \u001b[0;36m<cell line: 1>\u001b[0;34m()\u001b[0m\n\u001b[0;32m----> 1\u001b[0m \u001b[43mpython_course\u001b[49m\u001b[38;5;241;43m.\u001b[39;49m\u001b[43mprint\u001b[49m\u001b[43m(\u001b[49m\u001b[43m)\u001b[49m\n",
      "Input \u001b[0;32mIn [8]\u001b[0m, in \u001b[0;36mClassroom.print\u001b[0;34m(self)\u001b[0m\n\u001b[1;32m     14\u001b[0m \u001b[38;5;28mprint\u001b[39m(\u001b[38;5;124m'\u001b[39m\u001b[38;5;124mStudents:\u001b[39m\u001b[38;5;124m'\u001b[39m)\n\u001b[1;32m     15\u001b[0m \u001b[38;5;28;01mfor\u001b[39;00m student \u001b[38;5;129;01min\u001b[39;00m \u001b[38;5;28mself\u001b[39m\u001b[38;5;241m.\u001b[39mstudents:\n\u001b[0;32m---> 16\u001b[0m     \u001b[43mstudent\u001b[49m\u001b[38;5;241;43m.\u001b[39;49m\u001b[43mprint_name\u001b[49m()\n",
      "\u001b[0;31mAttributeError\u001b[0m: 'int' object has no attribute 'print_name'"
     ]
    }
   ],
   "source": [
    "python_course.print()"
   ]
  },
  {
   "cell_type": "markdown",
   "id": "54e801e4",
   "metadata": {},
   "source": [
    "## Queues\n",
    "\n",
    "What goes in first comes out first."
   ]
  },
  {
   "cell_type": "code",
   "execution_count": 11,
   "id": "746aa936",
   "metadata": {},
   "outputs": [
    {
     "name": "stdout",
     "output_type": "stream",
     "text": [
      "1\n",
      "3\n",
      "2\n"
     ]
    }
   ],
   "source": [
    "import queue\n",
    "\n",
    "a = queue.Queue()\n",
    "a.put(1)\n",
    "a.put(3)\n",
    "a.put(2)\n",
    "print(a.get())\n",
    "print(a.get())\n",
    "print(a.get())"
   ]
  },
  {
   "cell_type": "code",
   "execution_count": 12,
   "id": "6e4ed203",
   "metadata": {},
   "outputs": [
    {
     "ename": "KeyboardInterrupt",
     "evalue": "",
     "output_type": "error",
     "traceback": [
      "\u001b[0;31m---------------------------------------------------------------------------\u001b[0m",
      "\u001b[0;31mKeyboardInterrupt\u001b[0m                         Traceback (most recent call last)",
      "Input \u001b[0;32mIn [12]\u001b[0m, in \u001b[0;36m<cell line: 1>\u001b[0;34m()\u001b[0m\n\u001b[0;32m----> 1\u001b[0m \u001b[43ma\u001b[49m\u001b[38;5;241;43m.\u001b[39;49m\u001b[43mget\u001b[49m\u001b[43m(\u001b[49m\u001b[43m)\u001b[49m\n",
      "File \u001b[0;32m/opt/anaconda3/envs/tw-env/lib/python3.10/queue.py:171\u001b[0m, in \u001b[0;36mQueue.get\u001b[0;34m(self, block, timeout)\u001b[0m\n\u001b[1;32m    169\u001b[0m \u001b[38;5;28;01melif\u001b[39;00m timeout \u001b[38;5;129;01mis\u001b[39;00m \u001b[38;5;28;01mNone\u001b[39;00m:\n\u001b[1;32m    170\u001b[0m     \u001b[38;5;28;01mwhile\u001b[39;00m \u001b[38;5;129;01mnot\u001b[39;00m \u001b[38;5;28mself\u001b[39m\u001b[38;5;241m.\u001b[39m_qsize():\n\u001b[0;32m--> 171\u001b[0m         \u001b[38;5;28;43mself\u001b[39;49m\u001b[38;5;241;43m.\u001b[39;49m\u001b[43mnot_empty\u001b[49m\u001b[38;5;241;43m.\u001b[39;49m\u001b[43mwait\u001b[49m\u001b[43m(\u001b[49m\u001b[43m)\u001b[49m\n\u001b[1;32m    172\u001b[0m \u001b[38;5;28;01melif\u001b[39;00m timeout \u001b[38;5;241m<\u001b[39m \u001b[38;5;241m0\u001b[39m:\n\u001b[1;32m    173\u001b[0m     \u001b[38;5;28;01mraise\u001b[39;00m \u001b[38;5;167;01mValueError\u001b[39;00m(\u001b[38;5;124m\"\u001b[39m\u001b[38;5;124m'\u001b[39m\u001b[38;5;124mtimeout\u001b[39m\u001b[38;5;124m'\u001b[39m\u001b[38;5;124m must be a non-negative number\u001b[39m\u001b[38;5;124m\"\u001b[39m)\n",
      "File \u001b[0;32m/opt/anaconda3/envs/tw-env/lib/python3.10/threading.py:320\u001b[0m, in \u001b[0;36mCondition.wait\u001b[0;34m(self, timeout)\u001b[0m\n\u001b[1;32m    318\u001b[0m \u001b[38;5;28;01mtry\u001b[39;00m:    \u001b[38;5;66;03m# restore state no matter what (e.g., KeyboardInterrupt)\u001b[39;00m\n\u001b[1;32m    319\u001b[0m     \u001b[38;5;28;01mif\u001b[39;00m timeout \u001b[38;5;129;01mis\u001b[39;00m \u001b[38;5;28;01mNone\u001b[39;00m:\n\u001b[0;32m--> 320\u001b[0m         \u001b[43mwaiter\u001b[49m\u001b[38;5;241;43m.\u001b[39;49m\u001b[43macquire\u001b[49m\u001b[43m(\u001b[49m\u001b[43m)\u001b[49m\n\u001b[1;32m    321\u001b[0m         gotit \u001b[38;5;241m=\u001b[39m \u001b[38;5;28;01mTrue\u001b[39;00m\n\u001b[1;32m    322\u001b[0m     \u001b[38;5;28;01melse\u001b[39;00m:\n",
      "\u001b[0;31mKeyboardInterrupt\u001b[0m: "
     ]
    }
   ],
   "source": [
    "a.get()"
   ]
  },
  {
   "cell_type": "markdown",
   "id": "4b34fe20",
   "metadata": {},
   "source": [
    "Priority Queue orders based on some ranking (often the first element of a tuple). Read more about them for PA4."
   ]
  },
  {
   "cell_type": "code",
   "execution_count": 13,
   "id": "67c227d3",
   "metadata": {},
   "outputs": [
    {
     "name": "stdout",
     "output_type": "stream",
     "text": [
      "(1, 'hello')\n",
      "(2, 'waiting')\n",
      "(3, 'goodbye')\n"
     ]
    }
   ],
   "source": [
    "b = queue.PriorityQueue()\n",
    "b.put((1, 'hello'))\n",
    "b.put((3, 'goodbye'))\n",
    "b.put((2, 'waiting'))\n",
    "print(b.get())\n",
    "print(b.get())\n",
    "print(b.get())"
   ]
  },
  {
   "cell_type": "markdown",
   "id": "7d581d9f",
   "metadata": {},
   "source": [
    "## PA3 review\n",
    "\n",
    "Quickly review my solution"
   ]
  }
 ],
 "metadata": {
  "kernelspec": {
   "display_name": "Python 3 (ipykernel)",
   "language": "python",
   "name": "python3"
  },
  "language_info": {
   "codemirror_mode": {
    "name": "ipython",
    "version": 3
   },
   "file_extension": ".py",
   "mimetype": "text/x-python",
   "name": "python",
   "nbconvert_exporter": "python",
   "pygments_lexer": "ipython3",
   "version": "3.10.4"
  }
 },
 "nbformat": 4,
 "nbformat_minor": 5
}
