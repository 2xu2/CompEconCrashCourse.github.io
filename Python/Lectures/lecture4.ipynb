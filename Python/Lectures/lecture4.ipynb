{
 "cells": [
  {
   "cell_type": "markdown",
   "id": "2cba0e12",
   "metadata": {},
   "source": [
    "# Lesson 4\n",
    "\n",
    "## Overview\n",
    "\n",
    "1. Classes\n",
    "\n",
    "2. Queues\n",
    "- Standard queues\n",
    "- Priority queues\n",
    "\n",
    "3. PA3 Review"
   ]
  },
  {
   "cell_type": "markdown",
   "id": "1285271f",
   "metadata": {},
   "source": [
    "## 1. Classes\n",
    "\n",
    "An easy way to store and handle \"related\" data/variables\n",
    "\n",
    "- Variables stored within a class are accessed using `.` and are called 'attributes'\n",
    "- Functions within a class are called 'methods' and must use `self` as the first argument\n",
    "- The first method for a new class must be `__init__`\n",
    "\n",
    "You could think of classes like a type of dictionary with fixed keys and pre-written functions that work with those keys (this is a simplification, but might help clarify how they work)"
   ]
  },
  {
   "cell_type": "code",
   "execution_count": null,
   "id": "4e752420",
   "metadata": {},
   "outputs": [],
   "source": [
    "class Student():\n",
    "    def __init__(self, first_name, last_name, middle_name=None):\n",
    "        self.first_name = first_name\n",
    "        self.last_name = last_name\n",
    "        self.middle_name = middle_name\n",
    "\n",
    "    def print_name(self):\n",
    "        if self.middle_name is None:\n",
    "            print(self.first_name, self.last_name)\n",
    "        else:\n",
    "            print(self.first_name, self.middle_name, self.last_name)"
   ]
  },
  {
   "cell_type": "markdown",
   "id": "3a454167",
   "metadata": {},
   "source": [
    "Once a class is defined, we can create objects of the class, and call the class methods"
   ]
  },
  {
   "cell_type": "code",
   "execution_count": null,
   "id": "9ff505c0",
   "metadata": {},
   "outputs": [],
   "source": [
    "student1 = Student(first_name='Adam', middle_name='Alexander', last_name='Oppenheimer')\n",
    "student1.print_name()"
   ]
  },
  {
   "cell_type": "code",
   "execution_count": null,
   "id": "ec2f7af2",
   "metadata": {},
   "outputs": [],
   "source": [
    "student2 = Student(first_name='Yutong', last_name='Zhong')\n",
    "student2.print_name()"
   ]
  },
  {
   "cell_type": "markdown",
   "id": "ae959737",
   "metadata": {},
   "source": [
    "Class attributes can be directly accessed"
   ]
  },
  {
   "cell_type": "code",
   "execution_count": null,
   "id": "92b1528a",
   "metadata": {},
   "outputs": [],
   "source": [
    "student1.middle_name"
   ]
  },
  {
   "cell_type": "markdown",
   "id": "27bc931b",
   "metadata": {},
   "source": [
    "New class attributes can be defined"
   ]
  },
  {
   "cell_type": "code",
   "execution_count": null,
   "id": "cabfdebc",
   "metadata": {},
   "outputs": [],
   "source": [
    "student1.new_variable = 10"
   ]
  },
  {
   "cell_type": "code",
   "execution_count": null,
   "id": "dd5727a0",
   "metadata": {},
   "outputs": [],
   "source": [
    "student1.new_variable"
   ]
  },
  {
   "cell_type": "markdown",
   "id": "6d196d61",
   "metadata": {},
   "source": [
    "Classes can be nested - here, we nest the class `Student` inside a new class `Classroom`"
   ]
  },
  {
   "cell_type": "code",
   "execution_count": null,
   "id": "43b64cbc",
   "metadata": {},
   "outputs": [],
   "source": [
    "class Classroom():\n",
    "    def __init__(self, class_number):\n",
    "        self.class_number = class_number\n",
    "        self.students = []\n",
    "\n",
    "    def add_student(self, student):\n",
    "        self.students.append(student)\n",
    "\n",
    "    def sort_students(self, order='last_name'):\n",
    "        # Notice: use class attributes `first_name` and `last_name`\n",
    "        if order == 'last_name':\n",
    "            self.students = sorted(self.students, key=lambda a: a.last_name)\n",
    "        elif order == 'first_name':\n",
    "            self.students = sorted(self.students, key=lambda a: a.first_name)\n",
    "\n",
    "    def print(self):\n",
    "        # Notice: use class method `.print_name()`\n",
    "        print('Class number:', self.class_number)\n",
    "        print('Students:')\n",
    "        for student in self.students:\n",
    "            student.print_name()"
   ]
  },
  {
   "cell_type": "code",
   "execution_count": null,
   "id": "1cc8a2b7",
   "metadata": {},
   "outputs": [],
   "source": [
    "python_course = Classroom(1)\n",
    "python_course.add_student(student2)\n",
    "python_course.add_student(student1)\n",
    "python_course.print()"
   ]
  },
  {
   "cell_type": "code",
   "execution_count": null,
   "id": "5352f9e4",
   "metadata": {},
   "outputs": [],
   "source": [
    "python_course.sort_students()\n",
    "python_course.print()"
   ]
  },
  {
   "cell_type": "markdown",
   "id": "54e801e4",
   "metadata": {},
   "source": [
    "## 2. Queues\n",
    "\n",
    "An ordered list where variables are added then removed\n",
    "\n",
    "### 2.1 Standard queues\n",
    "\n",
    "What goes in first comes out first"
   ]
  },
  {
   "cell_type": "code",
   "execution_count": null,
   "id": "746aa936",
   "metadata": {},
   "outputs": [],
   "source": [
    "import queue\n",
    "\n",
    "a = queue.Queue()\n",
    "a.put(1)\n",
    "a.put(3)\n",
    "a.put(2)\n",
    "print(a.get())\n",
    "print(a.get())\n",
    "print(a.get())"
   ]
  },
  {
   "cell_type": "markdown",
   "id": "c6b7cf94",
   "metadata": {},
   "source": [
    "Calling `.get()` on an empty queue causes the code to hang"
   ]
  },
  {
   "cell_type": "code",
   "execution_count": null,
   "id": "6e4ed203",
   "metadata": {},
   "outputs": [],
   "source": [
    "a.get()"
   ]
  },
  {
   "cell_type": "markdown",
   "id": "4b34fe20",
   "metadata": {},
   "source": [
    "### 2.2 Priority queues\n",
    "\n",
    "Order based on some ranking (often the first element of a tuple). Read more about them for PA4."
   ]
  },
  {
   "cell_type": "code",
   "execution_count": null,
   "id": "67c227d3",
   "metadata": {},
   "outputs": [],
   "source": [
    "b = queue.PriorityQueue()\n",
    "b.put((1, 'hello'))\n",
    "b.put((3, 'goodbye'))\n",
    "b.put((2, 'waiting'))\n",
    "print(b.get())\n",
    "print(b.get())\n",
    "print(b.get())"
   ]
  },
  {
   "cell_type": "markdown",
   "id": "7d581d9f",
   "metadata": {},
   "source": [
    "## 3. PA3 review\n",
    "\n",
    "Discussion and review my solution"
   ]
  }
 ],
 "metadata": {
  "kernelspec": {
   "display_name": "Python 3 (ipykernel)",
   "language": "python",
   "name": "python3"
  },
  "language_info": {
   "codemirror_mode": {
    "name": "ipython",
    "version": 3
   },
   "file_extension": ".py",
   "mimetype": "text/x-python",
   "name": "python",
   "nbconvert_exporter": "python",
   "pygments_lexer": "ipython3",
   "version": "3.10.4"
  }
 },
 "nbformat": 4,
 "nbformat_minor": 5
}
