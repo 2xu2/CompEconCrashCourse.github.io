{
 "cells": [
  {
   "cell_type": "markdown",
   "id": "2cba0e12",
   "metadata": {},
   "source": [
    "# Lesson 2\n",
    "\n",
    "## Overview\n",
    "\n",
    "- Stuff I forgot to teach\n",
    "- - Accessing substrings\n",
    "\n",
    "- Nesting\n",
    "- - Nested loops\n",
    "- - Nested lists/tuples/dicts/etc.\n",
    "\n",
    "- Scope\n",
    "- - Variables\n",
    "- - Functions\n",
    "\n",
    "- List index\n",
    "\n",
    "- PA1 Review"
   ]
  },
  {
   "cell_type": "markdown",
   "id": "03b45d4c",
   "metadata": {},
   "source": [
    "## Stuff I forgot to teach\n",
    "\n",
    "### Accessing substrings\n",
    "\n",
    "Access substrings as if the string is a list"
   ]
  },
  {
   "cell_type": "code",
   "execution_count": 1,
   "id": "a76b7434",
   "metadata": {},
   "outputs": [
    {
     "data": {
      "text/plain": [
       "'lo'"
      ]
     },
     "execution_count": 1,
     "metadata": {},
     "output_type": "execute_result"
    }
   ],
   "source": [
    "a = 'hello'\n",
    "a[3: 5]"
   ]
  },
  {
   "cell_type": "code",
   "execution_count": 6,
   "id": "ce51af6b",
   "metadata": {},
   "outputs": [
    {
     "data": {
      "text/plain": [
       "'h'"
      ]
     },
     "execution_count": 6,
     "metadata": {},
     "output_type": "execute_result"
    }
   ],
   "source": [
    "a[0]"
   ]
  },
  {
   "cell_type": "code",
   "execution_count": 3,
   "id": "2e499fcf",
   "metadata": {},
   "outputs": [
    {
     "data": {
      "text/plain": [
       "'llo'"
      ]
     },
     "execution_count": 3,
     "metadata": {},
     "output_type": "execute_result"
    }
   ],
   "source": [
    "a[2:]"
   ]
  },
  {
   "cell_type": "code",
   "execution_count": 5,
   "id": "c43a7652",
   "metadata": {},
   "outputs": [
    {
     "data": {
      "text/plain": [
       "'llo'"
      ]
     },
     "execution_count": 5,
     "metadata": {},
     "output_type": "execute_result"
    }
   ],
   "source": [
    "a[-3:]"
   ]
  },
  {
   "cell_type": "markdown",
   "id": "c70d7038",
   "metadata": {},
   "source": [
    "## Nesting\n",
    "\n",
    "### Nested loops\n",
    "\n",
    "A loop inside a loop\n",
    "\n",
    "NOTE 1: Be careful about indents!\n",
    "\n",
    "NOTE 2: You can include if and/or while statements inside nested loops"
   ]
  },
  {
   "cell_type": "code",
   "execution_count": 9,
   "id": "44560f25",
   "metadata": {},
   "outputs": [
    {
     "name": "stdout",
     "output_type": "stream",
     "text": [
      "i: 0, j: 0\n",
      "i: 0, j: 1\n",
      "i: 0, j: 2\n",
      "i: 1, j: 0\n",
      "i: 1, j: 1\n",
      "i: 1, j: 2\n",
      "i: 2, j: 0\n",
      "i: 2, j: 1\n",
      "i: 2, j: 2\n"
     ]
    }
   ],
   "source": [
    "for i in range(3):\n",
    "    for j in range(3):\n",
    "        print(f'i: {i}, j: {j}')"
   ]
  },
  {
   "cell_type": "markdown",
   "id": "fe4cb45d",
   "metadata": {},
   "source": [
    "### Nested lists/tuples/dicts/etc.\n",
    "\n",
    "The elements of the main list are lists - access sublists using brackets, then elements of sublists using brackets"
   ]
  },
  {
   "cell_type": "code",
   "execution_count": 10,
   "id": "47404a5c",
   "metadata": {},
   "outputs": [
    {
     "name": "stdout",
     "output_type": "stream",
     "text": [
      "[['a11', 'a12', 'a13'], ['a21', 'a22', 'a23', 'a24'], ['a31', 'a32', 'a33']]\n"
     ]
    }
   ],
   "source": [
    "nested_list = [\n",
    "    ['a11', 'a12', 'a13'],\n",
    "    ['a21', 'a22', 'a23', 'a24'],\n",
    "    ['a31', 'a32', 'a33']\n",
    "]\n",
    "print(nested_list)"
   ]
  },
  {
   "cell_type": "code",
   "execution_count": 11,
   "id": "19d5ec63",
   "metadata": {},
   "outputs": [
    {
     "name": "stdout",
     "output_type": "stream",
     "text": [
      "['a21', 'a22', 'a23', 'a24']\n"
     ]
    }
   ],
   "source": [
    "print(nested_list[1])"
   ]
  },
  {
   "cell_type": "code",
   "execution_count": 12,
   "id": "9b582919",
   "metadata": {},
   "outputs": [
    {
     "name": "stdout",
     "output_type": "stream",
     "text": [
      "a23\n"
     ]
    }
   ],
   "source": [
    "print(nested_list[1][2])"
   ]
  },
  {
   "cell_type": "code",
   "execution_count": 15,
   "id": "4ccac799",
   "metadata": {},
   "outputs": [
    {
     "name": "stdout",
     "output_type": "stream",
     "text": [
      "[['a11', 'a12', 'a13'], ['a21', 'a22', 'a23', 'a24'], ['a31', 'a32', 'a33'], 'fjls', 134, {'a': {'c': [1, 2, 3], 'd': 123}, 'b': 2}]\n"
     ]
    }
   ],
   "source": [
    "nested_list = [\n",
    "    ['a11', 'a12', 'a13'],\n",
    "    ['a21', 'a22', 'a23', 'a24'],\n",
    "    ['a31', 'a32', 'a33'],\n",
    "    'fjls',\n",
    "    134,\n",
    "    {'a': {'c': [1, 2, 3], 'd': 123}, 'b': 2}\n",
    "]\n",
    "print(nested_list)"
   ]
  },
  {
   "cell_type": "code",
   "execution_count": 16,
   "id": "cef6dca3",
   "metadata": {},
   "outputs": [
    {
     "name": "stdout",
     "output_type": "stream",
     "text": [
      "{'a': {'c': [1, 2, 3], 'd': 123}, 'b': 2}\n"
     ]
    }
   ],
   "source": [
    "print(nested_list[5])"
   ]
  },
  {
   "cell_type": "code",
   "execution_count": 17,
   "id": "ba3b1a57",
   "metadata": {},
   "outputs": [
    {
     "name": "stdout",
     "output_type": "stream",
     "text": [
      "{'c': [1, 2, 3], 'd': 123}\n"
     ]
    }
   ],
   "source": [
    "print(nested_list[5]['a'])"
   ]
  },
  {
   "cell_type": "code",
   "execution_count": 18,
   "id": "85b9c97c",
   "metadata": {},
   "outputs": [
    {
     "name": "stdout",
     "output_type": "stream",
     "text": [
      "123\n"
     ]
    }
   ],
   "source": [
    "print(nested_list[5]['a']['d'])"
   ]
  },
  {
   "cell_type": "markdown",
   "id": "2a3d9820",
   "metadata": {},
   "source": [
    "## Scope\n",
    "\n",
    "What is the effect of modifying a variable?\n",
    "\n",
    "### Variables"
   ]
  },
  {
   "cell_type": "code",
   "execution_count": 19,
   "id": "75525590",
   "metadata": {},
   "outputs": [
    {
     "name": "stdout",
     "output_type": "stream",
     "text": [
      "a: 3, b: 4\n"
     ]
    }
   ],
   "source": [
    "a = 3\n",
    "b = a\n",
    "b = 4\n",
    "print(f'a: {a}, b: {b}')"
   ]
  },
  {
   "cell_type": "markdown",
   "id": "98366a00",
   "metadata": {},
   "source": [
    "Variables that are lists are actually references to where the list is stored in memory"
   ]
  },
  {
   "cell_type": "code",
   "execution_count": 22,
   "id": "c2b15eda",
   "metadata": {},
   "outputs": [
    {
     "name": "stdout",
     "output_type": "stream",
     "text": [
      "a: [1, 2, 3, 4]\n",
      "b: [1, 2, 3, 4]\n"
     ]
    }
   ],
   "source": [
    "a = [1, 2, 3]\n",
    "b = a\n",
    "b.append(4)\n",
    "print('a:', a)\n",
    "print('b:', b)"
   ]
  },
  {
   "cell_type": "code",
   "execution_count": 23,
   "id": "64a5982d",
   "metadata": {},
   "outputs": [
    {
     "name": "stdout",
     "output_type": "stream",
     "text": [
      "a: [1, 2, 3, 4]\n",
      "b: [1, 2, 3, 4, 5]\n"
     ]
    }
   ],
   "source": [
    "b = [1, 2, 3, 4, 5]\n",
    "print('a:', a)\n",
    "print('b:', b)"
   ]
  },
  {
   "cell_type": "markdown",
   "id": "1557f716",
   "metadata": {},
   "source": [
    "### Copying"
   ]
  },
  {
   "cell_type": "code",
   "execution_count": 21,
   "id": "a28dc0f1",
   "metadata": {},
   "outputs": [
    {
     "name": "stdout",
     "output_type": "stream",
     "text": [
      "a: [1, 2, 3, 4]\n",
      "b: [1, 2, 3, 4, 5]\n"
     ]
    }
   ],
   "source": [
    "b = a.copy()\n",
    "b.append(5)\n",
    "print('a:', a)\n",
    "print('b:', b)"
   ]
  },
  {
   "cell_type": "markdown",
   "id": "3e0196db",
   "metadata": {},
   "source": [
    "### Functions\n",
    "\n",
    "Defining new variables inside a function is a new, smaller scope"
   ]
  },
  {
   "cell_type": "code",
   "execution_count": 24,
   "id": "f3886c06",
   "metadata": {},
   "outputs": [
    {
     "name": "stdout",
     "output_type": "stream",
     "text": [
      "Before function: 5\n",
      "Inside function: 10\n",
      "After function: 5\n"
     ]
    }
   ],
   "source": [
    "a = 5\n",
    "\n",
    "def a_to_ten():\n",
    "    a = 10\n",
    "    print('Inside function:', a)\n",
    "\n",
    "print('Before function:', a)\n",
    "a_to_ten()\n",
    "print('After function:', a)"
   ]
  },
  {
   "cell_type": "markdown",
   "id": "eeab5a2a",
   "metadata": {},
   "source": [
    "Can still modify lists inside of functions (this is called in-place modification)"
   ]
  },
  {
   "cell_type": "code",
   "execution_count": 25,
   "id": "f1231738",
   "metadata": {},
   "outputs": [
    {
     "name": "stdout",
     "output_type": "stream",
     "text": [
      "Before function: [1, 2, 3]\n",
      "After function: [1, 2, 3, 4]\n"
     ]
    }
   ],
   "source": [
    "a = [1, 2, 3]\n",
    "\n",
    "def append_4(a):\n",
    "    a.append(4)\n",
    "\n",
    "print('Before function:', a)\n",
    "append_4(a)\n",
    "print('After function:', a)"
   ]
  },
  {
   "cell_type": "code",
   "execution_count": 27,
   "id": "f56f2de5",
   "metadata": {},
   "outputs": [
    {
     "name": "stdout",
     "output_type": "stream",
     "text": [
      "Before function: [1, 2, 3]\n",
      "After function: [1, 2, 3, 4]\n"
     ]
    }
   ],
   "source": [
    "a = [1, 2, 3]\n",
    "\n",
    "def append_4():\n",
    "    a.append(4)\n",
    "\n",
    "print('Before function:', a)\n",
    "append_4()\n",
    "print('After function:', a)"
   ]
  },
  {
   "cell_type": "code",
   "execution_count": 28,
   "id": "b9a096a6",
   "metadata": {},
   "outputs": [
    {
     "name": "stdout",
     "output_type": "stream",
     "text": [
      "Before function: [1, 2, 3]\n",
      "After function: [1, 2, 3]\n"
     ]
    }
   ],
   "source": [
    "a = [1, 2, 3]\n",
    "\n",
    "def append_4():\n",
    "    a.copy().append(4)\n",
    "\n",
    "print('Before function:', a)\n",
    "append_4()\n",
    "print('After function:', a)"
   ]
  },
  {
   "cell_type": "code",
   "execution_count": 32,
   "id": "cac58e82",
   "metadata": {},
   "outputs": [
    {
     "name": "stdout",
     "output_type": "stream",
     "text": [
      "Before function: hello\n",
      "After function: hello\n",
      "a2: hellogoodbye\n"
     ]
    }
   ],
   "source": [
    "a = 'hello'\n",
    "\n",
    "def append_4(a):\n",
    "    a += 'goodbye'\n",
    "    return a\n",
    "\n",
    "print('Before function:', a)\n",
    "a2 = append_4(a)\n",
    "print('After function:', a)\n",
    "print('a2:', a2)"
   ]
  },
  {
   "cell_type": "markdown",
   "id": "074ec109",
   "metadata": {},
   "source": [
    "## List index\n",
    "\n",
    "Find the index of an element in a list - useful for PA2"
   ]
  },
  {
   "cell_type": "code",
   "execution_count": 33,
   "id": "c2474867",
   "metadata": {},
   "outputs": [
    {
     "name": "stdout",
     "output_type": "stream",
     "text": [
      "0\n",
      "1\n",
      "2\n"
     ]
    }
   ],
   "source": [
    "list1 = ['a', 'b', 'c']\n",
    "print(list1.index('a'))\n",
    "print(list1.index('b'))\n",
    "print(list1.index('c'))"
   ]
  },
  {
   "cell_type": "code",
   "execution_count": 34,
   "id": "d6901160",
   "metadata": {},
   "outputs": [
    {
     "name": "stdout",
     "output_type": "stream",
     "text": [
      "0\n"
     ]
    }
   ],
   "source": [
    "list2 = ['a', 'b', 'c', 'a']\n",
    "print(list2.index('a'))"
   ]
  },
  {
   "cell_type": "markdown",
   "id": "61048cd6",
   "metadata": {},
   "source": [
    "To get all indices for a value"
   ]
  },
  {
   "cell_type": "code",
   "execution_count": 41,
   "id": "94dfbeab",
   "metadata": {},
   "outputs": [
    {
     "data": {
      "text/plain": [
       "array([0, 3])"
      ]
     },
     "execution_count": 41,
     "metadata": {},
     "output_type": "execute_result"
    }
   ],
   "source": [
    "import numpy as np\n",
    "\n",
    "np.nonzero((np.array(list2) == 'a').astype(int))[0]"
   ]
  },
  {
   "cell_type": "markdown",
   "id": "7d581d9f",
   "metadata": {},
   "source": [
    "## PA1 review\n",
    "\n",
    "Quickly review my solution"
   ]
  }
 ],
 "metadata": {
  "kernelspec": {
   "display_name": "Python 3 (ipykernel)",
   "language": "python",
   "name": "python3"
  },
  "language_info": {
   "codemirror_mode": {
    "name": "ipython",
    "version": 3
   },
   "file_extension": ".py",
   "mimetype": "text/x-python",
   "name": "python",
   "nbconvert_exporter": "python",
   "pygments_lexer": "ipython3",
   "version": "3.10.4"
  }
 },
 "nbformat": 4,
 "nbformat_minor": 5
}
