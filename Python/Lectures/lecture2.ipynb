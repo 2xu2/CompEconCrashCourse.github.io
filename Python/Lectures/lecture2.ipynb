{
 "cells": [
  {
   "cell_type": "markdown",
   "id": "2cba0e12",
   "metadata": {},
   "source": [
    "# Lesson 2\n",
    "\n",
    "## Overview\n",
    "\n",
    "1. Stuff I forgot to teach\n",
    "- Type casting\n",
    "\n",
    "2. Nesting\n",
    "- Nested loops\n",
    "- Nested lists/tuples/dicts/etc.\n",
    "\n",
    "3. References and scope\n",
    "- References\n",
    "- - `is`\n",
    "- - Copying\n",
    "- Scope\n",
    "\n",
    "4. List index\n",
    "\n",
    "5. PA1 Review"
   ]
  },
  {
   "cell_type": "markdown",
   "id": "03b45d4c",
   "metadata": {},
   "source": [
    "## 1. Stuff I forgot to teach\n",
    "\n",
    "### 1.1 Type casting\n",
    "\n",
    "Converting between types\n",
    "\n",
    "Use the name of the type as a function to convert a variable to that type"
   ]
  },
  {
   "cell_type": "code",
   "execution_count": 1,
   "id": "9caaa60d",
   "metadata": {},
   "outputs": [],
   "source": [
    "a = 5.0"
   ]
  },
  {
   "cell_type": "code",
   "execution_count": 2,
   "id": "fb083c6c",
   "metadata": {},
   "outputs": [
    {
     "data": {
      "text/plain": [
       "5.0"
      ]
     },
     "execution_count": 2,
     "metadata": {},
     "output_type": "execute_result"
    }
   ],
   "source": [
    "a"
   ]
  },
  {
   "cell_type": "code",
   "execution_count": 3,
   "id": "a754a867",
   "metadata": {},
   "outputs": [
    {
     "data": {
      "text/plain": [
       "5"
      ]
     },
     "execution_count": 3,
     "metadata": {},
     "output_type": "execute_result"
    }
   ],
   "source": [
    "int(a)"
   ]
  },
  {
   "cell_type": "code",
   "execution_count": 4,
   "id": "3dfa7dcd",
   "metadata": {},
   "outputs": [
    {
     "data": {
      "text/plain": [
       "int"
      ]
     },
     "execution_count": 4,
     "metadata": {},
     "output_type": "execute_result"
    }
   ],
   "source": [
    "type(int(a))"
   ]
  },
  {
   "cell_type": "code",
   "execution_count": 5,
   "id": "2d07d28e",
   "metadata": {},
   "outputs": [
    {
     "data": {
      "text/plain": [
       "'5.0'"
      ]
     },
     "execution_count": 5,
     "metadata": {},
     "output_type": "execute_result"
    }
   ],
   "source": [
    "str(a)"
   ]
  },
  {
   "cell_type": "code",
   "execution_count": 6,
   "id": "1ab84df6",
   "metadata": {},
   "outputs": [
    {
     "data": {
      "text/plain": [
       "str"
      ]
     },
     "execution_count": 6,
     "metadata": {},
     "output_type": "execute_result"
    }
   ],
   "source": [
    "type(str(a))"
   ]
  },
  {
   "cell_type": "code",
   "execution_count": 7,
   "id": "b5630410",
   "metadata": {},
   "outputs": [],
   "source": [
    "a = '123'"
   ]
  },
  {
   "cell_type": "code",
   "execution_count": 8,
   "id": "2dde3c95",
   "metadata": {},
   "outputs": [
    {
     "data": {
      "text/plain": [
       "'123'"
      ]
     },
     "execution_count": 8,
     "metadata": {},
     "output_type": "execute_result"
    }
   ],
   "source": [
    "a"
   ]
  },
  {
   "cell_type": "code",
   "execution_count": 9,
   "id": "49c799c1",
   "metadata": {},
   "outputs": [
    {
     "data": {
      "text/plain": [
       "123"
      ]
     },
     "execution_count": 9,
     "metadata": {},
     "output_type": "execute_result"
    }
   ],
   "source": [
    "int(a)"
   ]
  },
  {
   "cell_type": "code",
   "execution_count": 10,
   "id": "36547538",
   "metadata": {},
   "outputs": [
    {
     "data": {
      "text/plain": [
       "int"
      ]
     },
     "execution_count": 10,
     "metadata": {},
     "output_type": "execute_result"
    }
   ],
   "source": [
    "type(int(a))"
   ]
  },
  {
   "cell_type": "code",
   "execution_count": 11,
   "id": "f53d1d3e",
   "metadata": {},
   "outputs": [
    {
     "data": {
      "text/plain": [
       "123.0"
      ]
     },
     "execution_count": 11,
     "metadata": {},
     "output_type": "execute_result"
    }
   ],
   "source": [
    "float(a)"
   ]
  },
  {
   "cell_type": "code",
   "execution_count": 12,
   "id": "393250d6",
   "metadata": {},
   "outputs": [
    {
     "data": {
      "text/plain": [
       "float"
      ]
     },
     "execution_count": 12,
     "metadata": {},
     "output_type": "execute_result"
    }
   ],
   "source": [
    "type(float(a))"
   ]
  },
  {
   "cell_type": "markdown",
   "id": "c70d7038",
   "metadata": {},
   "source": [
    "## 2. Nesting\n",
    "\n",
    "### 2.1 Nested loops\n",
    "\n",
    "A loop inside a loop\n",
    "\n",
    "NOTE 1: Be careful about indents!\n",
    "\n",
    "NOTE 2: You can include if and/or while statements inside nested loops"
   ]
  },
  {
   "cell_type": "code",
   "execution_count": 13,
   "id": "44560f25",
   "metadata": {},
   "outputs": [
    {
     "name": "stdout",
     "output_type": "stream",
     "text": [
      "i: 0, j: 0\n",
      "i: 0, j: 1\n",
      "i: 0, j: 2\n",
      "i: 1, j: 0\n",
      "i: 1, j: 1\n",
      "i: 1, j: 2\n",
      "i: 2, j: 0\n",
      "i: 2, j: 1\n",
      "i: 2, j: 2\n"
     ]
    }
   ],
   "source": [
    "for i in range(3):\n",
    "    for j in range(3):\n",
    "        print(f'i: {i}, j: {j}')"
   ]
  },
  {
   "cell_type": "code",
   "execution_count": 14,
   "id": "963e7378",
   "metadata": {},
   "outputs": [
    {
     "name": "stdout",
     "output_type": "stream",
     "text": [
      "i: 0, j: 0\n",
      "i: 0, j: 1\n",
      "i: 0, j: 2\n",
      "outside of j loop\n",
      "i: 1, j: 0\n",
      "i: 1, j: 1\n",
      "i: 1, j: 2\n",
      "outside of j loop\n",
      "i: 2, j: 0\n",
      "i: 2, j: 1\n",
      "i: 2, j: 2\n",
      "outside of j loop\n"
     ]
    }
   ],
   "source": [
    "for i in range(3):\n",
    "    for j in range(3):\n",
    "        print(f'i: {i}, j: {j}')\n",
    "    print('outside of j loop')"
   ]
  },
  {
   "cell_type": "markdown",
   "id": "fe4cb45d",
   "metadata": {},
   "source": [
    "### 2.2 Nested lists/tuples/dicts/etc.\n",
    "\n",
    "The elements of the main list are lists - access sublists using brackets, then elements of sublists using brackets"
   ]
  },
  {
   "cell_type": "code",
   "execution_count": 15,
   "id": "47404a5c",
   "metadata": {},
   "outputs": [
    {
     "name": "stdout",
     "output_type": "stream",
     "text": [
      "[['a11', 'a12', 'a13'], ['a21', 'a22', 'a23', 'a24'], ['a31', 'a32', 'a33']]\n"
     ]
    }
   ],
   "source": [
    "nested_list = [\n",
    "    ['a11', 'a12', 'a13'],\n",
    "    ['a21', 'a22', 'a23', 'a24'],\n",
    "    ['a31', 'a32', 'a33']\n",
    "]\n",
    "print(nested_list)"
   ]
  },
  {
   "cell_type": "code",
   "execution_count": 16,
   "id": "19d5ec63",
   "metadata": {},
   "outputs": [
    {
     "name": "stdout",
     "output_type": "stream",
     "text": [
      "['a21', 'a22', 'a23', 'a24']\n"
     ]
    }
   ],
   "source": [
    "print(nested_list[1])"
   ]
  },
  {
   "cell_type": "code",
   "execution_count": 17,
   "id": "9b582919",
   "metadata": {},
   "outputs": [
    {
     "name": "stdout",
     "output_type": "stream",
     "text": [
      "a23\n"
     ]
    }
   ],
   "source": [
    "print(nested_list[1][2])"
   ]
  },
  {
   "cell_type": "code",
   "execution_count": 18,
   "id": "4ccac799",
   "metadata": {},
   "outputs": [
    {
     "name": "stdout",
     "output_type": "stream",
     "text": [
      "[['a11', 'a12', 'a13'], ['a21', 'a22', 'a23', 'a24'], ['a31', 'a32', 'a33'], 'fjls', 134, {'a': {'c': [1, 2, 3], 'd': 123}, 'b': 2}]\n"
     ]
    }
   ],
   "source": [
    "nested_list = [\n",
    "    ['a11', 'a12', 'a13'],\n",
    "    ['a21', 'a22', 'a23', 'a24'],\n",
    "    ['a31', 'a32', 'a33'],\n",
    "    'fjls',\n",
    "    134,\n",
    "    {'a': {'c': [1, 2, 3], 'd': 123}, 'b': 2}\n",
    "]\n",
    "print(nested_list)"
   ]
  },
  {
   "cell_type": "code",
   "execution_count": 19,
   "id": "cef6dca3",
   "metadata": {},
   "outputs": [
    {
     "name": "stdout",
     "output_type": "stream",
     "text": [
      "{'a': {'c': [1, 2, 3], 'd': 123}, 'b': 2}\n"
     ]
    }
   ],
   "source": [
    "print(nested_list[5])"
   ]
  },
  {
   "cell_type": "code",
   "execution_count": 20,
   "id": "ba3b1a57",
   "metadata": {},
   "outputs": [
    {
     "name": "stdout",
     "output_type": "stream",
     "text": [
      "{'c': [1, 2, 3], 'd': 123}\n"
     ]
    }
   ],
   "source": [
    "print(nested_list[5]['a'])"
   ]
  },
  {
   "cell_type": "code",
   "execution_count": 21,
   "id": "85b9c97c",
   "metadata": {},
   "outputs": [
    {
     "name": "stdout",
     "output_type": "stream",
     "text": [
      "123\n"
     ]
    }
   ],
   "source": [
    "print(nested_list[5]['a']['d'])"
   ]
  },
  {
   "cell_type": "markdown",
   "id": "2a3d9820",
   "metadata": {},
   "source": [
    "## 3. References and scope\n",
    "\n",
    "What is the effect of modifying a variable?\n",
    "\n",
    "### 3.1 References"
   ]
  },
  {
   "cell_type": "code",
   "execution_count": 22,
   "id": "75525590",
   "metadata": {},
   "outputs": [
    {
     "name": "stdout",
     "output_type": "stream",
     "text": [
      "a: 3, b: 4\n"
     ]
    }
   ],
   "source": [
    "a = 3\n",
    "b = a\n",
    "b = 4\n",
    "print(f'a: {a}, b: {b}')"
   ]
  },
  {
   "cell_type": "markdown",
   "id": "98366a00",
   "metadata": {},
   "source": [
    "Variables that are lists (dictionaries) are actually references to where the list (dictionary) is stored in memory"
   ]
  },
  {
   "cell_type": "code",
   "execution_count": 23,
   "id": "c2b15eda",
   "metadata": {},
   "outputs": [
    {
     "name": "stdout",
     "output_type": "stream",
     "text": [
      "a: [1, 2, 3, 4]\n",
      "b: [1, 2, 3, 4]\n"
     ]
    }
   ],
   "source": [
    "a = [1, 2, 3]\n",
    "b = a\n",
    "b.append(4)\n",
    "print('a:', a)\n",
    "print('b:', b)"
   ]
  },
  {
   "cell_type": "code",
   "execution_count": 24,
   "id": "ba8690eb",
   "metadata": {},
   "outputs": [
    {
     "name": "stdout",
     "output_type": "stream",
     "text": [
      "4597738112\n",
      "4597738112\n"
     ]
    }
   ],
   "source": [
    "print(id(a))\n",
    "print(id(b))"
   ]
  },
  {
   "cell_type": "markdown",
   "id": "89c1e241",
   "metadata": {},
   "source": [
    "Another variable with the same values does not use the same reference"
   ]
  },
  {
   "cell_type": "code",
   "execution_count": 25,
   "id": "64a5982d",
   "metadata": {},
   "outputs": [
    {
     "name": "stdout",
     "output_type": "stream",
     "text": [
      "a: [1, 2, 3]\n",
      "b: [1, 2, 3, 4]\n"
     ]
    }
   ],
   "source": [
    "a = [1, 2, 3]\n",
    "b = [1, 2, 3]\n",
    "b.append(4)\n",
    "print('a:', a)\n",
    "print('b:', b)"
   ]
  },
  {
   "cell_type": "code",
   "execution_count": 26,
   "id": "857a9468",
   "metadata": {},
   "outputs": [
    {
     "name": "stdout",
     "output_type": "stream",
     "text": [
      "4597860864\n",
      "4597853440\n"
     ]
    }
   ],
   "source": [
    "print(id(a))\n",
    "print(id(b))"
   ]
  },
  {
   "cell_type": "code",
   "execution_count": 27,
   "id": "82cc7d3d",
   "metadata": {},
   "outputs": [
    {
     "name": "stdout",
     "output_type": "stream",
     "text": [
      "{'a': 'hello', 'b': 'goodbye', 'c': 'hellogoodbye'}\n",
      "{'a': 'hello', 'b': 'goodbye', 'c': 'hellogoodbye'}\n"
     ]
    }
   ],
   "source": [
    "a = {'a': 'hello', 'b': 'goodbye'}\n",
    "b = a\n",
    "b['c'] = 'hellogoodbye'\n",
    "print(a)\n",
    "print(b)"
   ]
  },
  {
   "cell_type": "markdown",
   "id": "1ecd3022",
   "metadata": {},
   "source": [
    "List equality checks element-wise equality, not reference equality (warning for the future: NumPy has different behavior)"
   ]
  },
  {
   "cell_type": "code",
   "execution_count": 28,
   "id": "8fa17e63",
   "metadata": {},
   "outputs": [
    {
     "data": {
      "text/plain": [
       "True"
      ]
     },
     "execution_count": 28,
     "metadata": {},
     "output_type": "execute_result"
    }
   ],
   "source": [
    "a = [1, 2, 3]\n",
    "b = [1, 2, 3]\n",
    "a == b"
   ]
  },
  {
   "cell_type": "code",
   "execution_count": 29,
   "id": "5da73fe5",
   "metadata": {},
   "outputs": [
    {
     "data": {
      "text/plain": [
       "False"
      ]
     },
     "execution_count": 29,
     "metadata": {},
     "output_type": "execute_result"
    }
   ],
   "source": [
    "a = [1, 2, 3]\n",
    "b = [1, 2, 4]\n",
    "a == b"
   ]
  },
  {
   "cell_type": "code",
   "execution_count": 30,
   "id": "c20a9fb5",
   "metadata": {},
   "outputs": [
    {
     "data": {
      "text/plain": [
       "True"
      ]
     },
     "execution_count": 30,
     "metadata": {},
     "output_type": "execute_result"
    }
   ],
   "source": [
    "a = [[1, 2, 3], [4, 5, 6]]\n",
    "b = [[1, 2, 3], [4, 5, 6]]\n",
    "a == b"
   ]
  },
  {
   "cell_type": "code",
   "execution_count": 31,
   "id": "0e03592a",
   "metadata": {},
   "outputs": [
    {
     "data": {
      "text/plain": [
       "False"
      ]
     },
     "execution_count": 31,
     "metadata": {},
     "output_type": "execute_result"
    }
   ],
   "source": [
    "a = [[1, 2, 3], [4, 5, 6]]\n",
    "b = [[1, 2, 3], [4, 5, 7]]\n",
    "a == b"
   ]
  },
  {
   "cell_type": "markdown",
   "id": "0f4e43a4",
   "metadata": {},
   "source": [
    "### 3.1.1 `is`\n",
    "\n",
    "Use `is` to check reference equality"
   ]
  },
  {
   "cell_type": "code",
   "execution_count": 32,
   "id": "da078933",
   "metadata": {},
   "outputs": [
    {
     "data": {
      "text/plain": [
       "False"
      ]
     },
     "execution_count": 32,
     "metadata": {},
     "output_type": "execute_result"
    }
   ],
   "source": [
    "a = [[1, 2, 3], [4, 5, 6]]\n",
    "b = [[1, 2, 3], [4, 5, 6]]\n",
    "a is b"
   ]
  },
  {
   "cell_type": "code",
   "execution_count": 33,
   "id": "0a3e40bd",
   "metadata": {},
   "outputs": [
    {
     "data": {
      "text/plain": [
       "True"
      ]
     },
     "execution_count": 33,
     "metadata": {},
     "output_type": "execute_result"
    }
   ],
   "source": [
    "a = [[1, 2, 3], [4, 5, 6]]\n",
    "b = a\n",
    "a is b"
   ]
  },
  {
   "cell_type": "code",
   "execution_count": 34,
   "id": "b6d476b5",
   "metadata": {},
   "outputs": [
    {
     "data": {
      "text/plain": [
       "True"
      ]
     },
     "execution_count": 34,
     "metadata": {},
     "output_type": "execute_result"
    }
   ],
   "source": [
    "a = 5\n",
    "b = a\n",
    "a is b"
   ]
  },
  {
   "cell_type": "code",
   "execution_count": 35,
   "id": "644cea07",
   "metadata": {},
   "outputs": [
    {
     "data": {
      "text/plain": [
       "True"
      ]
     },
     "execution_count": 35,
     "metadata": {},
     "output_type": "execute_result"
    }
   ],
   "source": [
    "a = 5\n",
    "b = 5\n",
    "a is b"
   ]
  },
  {
   "cell_type": "markdown",
   "id": "1557f716",
   "metadata": {},
   "source": [
    "### 3.1.2 Copying"
   ]
  },
  {
   "cell_type": "code",
   "execution_count": 36,
   "id": "a28dc0f1",
   "metadata": {},
   "outputs": [
    {
     "name": "stdout",
     "output_type": "stream",
     "text": [
      "a: [1, 2, 3]\n",
      "b: [1, 2, 3, 4]\n"
     ]
    }
   ],
   "source": [
    "a = [1, 2, 3]\n",
    "b = a.copy()\n",
    "b.append(4)\n",
    "print('a:', a)\n",
    "print('b:', b)"
   ]
  },
  {
   "cell_type": "markdown",
   "id": "e2c5c8bf",
   "metadata": {},
   "source": [
    "Sometimes `.copy()` isn't an option, or doesn't do what you expect\n",
    "\n",
    "In particular, nested variables that use references won't be copied, so we use `copy.deepcopy()` to recursively copy all nested variables"
   ]
  },
  {
   "cell_type": "code",
   "execution_count": 37,
   "id": "c0e3b100",
   "metadata": {},
   "outputs": [
    {
     "name": "stdout",
     "output_type": "stream",
     "text": [
      "[[0, 2, 3], [4, 5, 6]]\n",
      "[[0, 2, 3], [4, 5, 6], [7, 8, 9]]\n"
     ]
    }
   ],
   "source": [
    "a = [[1, 2, 3], [4, 5, 6]]\n",
    "b = a.copy()\n",
    "b.append([7, 8, 9])\n",
    "b[0][0] = 0\n",
    "print(a)\n",
    "print(b)"
   ]
  },
  {
   "cell_type": "code",
   "execution_count": 38,
   "id": "95130cae",
   "metadata": {},
   "outputs": [
    {
     "name": "stdout",
     "output_type": "stream",
     "text": [
      "[[1, 2, 3], [4, 5, 6]]\n",
      "[[0, 2, 3], [4, 5, 6], [7, 8, 9]]\n"
     ]
    }
   ],
   "source": [
    "import copy\n",
    "a = [[1, 2, 3], [4, 5, 6]]\n",
    "b = copy.deepcopy(a)\n",
    "b.append([7, 8, 9])\n",
    "b[0][0] = 0\n",
    "print(a)\n",
    "print(b)"
   ]
  },
  {
   "cell_type": "markdown",
   "id": "3e0196db",
   "metadata": {},
   "source": [
    "### 3.2 Scope\n",
    "\n",
    "Defining new variables inside a function is a new, smaller scope"
   ]
  },
  {
   "cell_type": "code",
   "execution_count": 39,
   "id": "f3886c06",
   "metadata": {},
   "outputs": [
    {
     "name": "stdout",
     "output_type": "stream",
     "text": [
      "Before function: 5\n",
      "Inside function: 10\n",
      "After function: 5\n"
     ]
    }
   ],
   "source": [
    "a = 5\n",
    "\n",
    "def a_to_ten():\n",
    "    a = 10\n",
    "    print('Inside function:', a)\n",
    "\n",
    "print('Before function:', a)\n",
    "a_to_ten()\n",
    "print('After function:', a)"
   ]
  },
  {
   "cell_type": "code",
   "execution_count": 40,
   "id": "344b2b79",
   "metadata": {},
   "outputs": [
    {
     "name": "stdout",
     "output_type": "stream",
     "text": [
      "Before function: 5\n",
      "Inside function: 5\n",
      "Inside function: 10\n",
      "After function: 10\n"
     ]
    }
   ],
   "source": [
    "global a\n",
    "a = 5\n",
    "\n",
    "def a_to_ten():\n",
    "    global a\n",
    "    print('Inside function:', a)\n",
    "    a = 10\n",
    "    print('Inside function:', a)\n",
    "\n",
    "print('Before function:', a)\n",
    "a_to_ten()\n",
    "print('After function:', a)"
   ]
  },
  {
   "cell_type": "markdown",
   "id": "eeab5a2a",
   "metadata": {},
   "source": [
    "Can still modify lists inside of functions (this is called in-place modification)"
   ]
  },
  {
   "cell_type": "code",
   "execution_count": 41,
   "id": "f1231738",
   "metadata": {},
   "outputs": [
    {
     "name": "stdout",
     "output_type": "stream",
     "text": [
      "Before function: [1, 2, 3]\n",
      "After function: [1, 2, 3, 4]\n"
     ]
    }
   ],
   "source": [
    "a = [1, 2, 3]\n",
    "\n",
    "def append_4(a):\n",
    "    a.append(4)\n",
    "\n",
    "print('Before function:', a)\n",
    "append_4(a)\n",
    "print('After function:', a)"
   ]
  },
  {
   "cell_type": "markdown",
   "id": "2fe1980d",
   "metadata": {},
   "source": [
    "This does not depend on calling the function argument `a`"
   ]
  },
  {
   "cell_type": "code",
   "execution_count": 42,
   "id": "6a975498",
   "metadata": {},
   "outputs": [
    {
     "name": "stdout",
     "output_type": "stream",
     "text": [
      "Before function: [1, 2, 3]\n",
      "After function: [1, 2, 3, 4]\n"
     ]
    }
   ],
   "source": [
    "a = [1, 2, 3]\n",
    "\n",
    "def append_4(b):\n",
    "    b.append(4)\n",
    "\n",
    "print('Before function:', a)\n",
    "append_4(a)\n",
    "print('After function:', a)"
   ]
  },
  {
   "cell_type": "markdown",
   "id": "f6382f59",
   "metadata": {},
   "source": [
    "If we don't define `a` inside the function, it will use `a` from outside the function's scope"
   ]
  },
  {
   "cell_type": "code",
   "execution_count": 43,
   "id": "f56f2de5",
   "metadata": {},
   "outputs": [
    {
     "name": "stdout",
     "output_type": "stream",
     "text": [
      "Before function: [1, 2, 3]\n",
      "After function: [1, 2, 3, 4]\n"
     ]
    }
   ],
   "source": [
    "a = [1, 2, 3]\n",
    "\n",
    "def append_4():\n",
    "    a.append(4)\n",
    "\n",
    "print('Before function:', a)\n",
    "append_4()\n",
    "print('After function:', a)"
   ]
  },
  {
   "cell_type": "markdown",
   "id": "8de20037",
   "metadata": {},
   "source": [
    "A variable defined inside a function is not accessible outside the function, unless it is returned"
   ]
  },
  {
   "cell_type": "code",
   "execution_count": 44,
   "id": "914828d2",
   "metadata": {},
   "outputs": [
    {
     "ename": "NameError",
     "evalue": "name 'a' is not defined",
     "output_type": "error",
     "traceback": [
      "\u001b[0;31m---------------------------------------------------------------------------\u001b[0m",
      "\u001b[0;31mNameError\u001b[0m                                 Traceback (most recent call last)",
      "Cell \u001b[0;32mIn[44], line 6\u001b[0m\n\u001b[1;32m      3\u001b[0m     a \u001b[38;5;241m=\u001b[39m [\u001b[38;5;241m1\u001b[39m, \u001b[38;5;241m2\u001b[39m, \u001b[38;5;241m3\u001b[39m]\n\u001b[1;32m      5\u001b[0m define_a()\n\u001b[0;32m----> 6\u001b[0m \u001b[43ma\u001b[49m\n",
      "\u001b[0;31mNameError\u001b[0m: name 'a' is not defined"
     ]
    }
   ],
   "source": [
    "del a\n",
    "def define_a():\n",
    "    a = [1, 2, 3]\n",
    "\n",
    "define_a()\n",
    "a"
   ]
  },
  {
   "cell_type": "code",
   "execution_count": 45,
   "id": "802d1718",
   "metadata": {},
   "outputs": [
    {
     "data": {
      "text/plain": [
       "[1, 2, 3]"
      ]
     },
     "execution_count": 45,
     "metadata": {},
     "output_type": "execute_result"
    }
   ],
   "source": [
    "def define_a():\n",
    "    a = [1, 2, 3]\n",
    "    return a\n",
    "\n",
    "a = define_a()\n",
    "a"
   ]
  },
  {
   "cell_type": "code",
   "execution_count": 46,
   "id": "b9a096a6",
   "metadata": {},
   "outputs": [
    {
     "name": "stdout",
     "output_type": "stream",
     "text": [
      "Before function: [1, 2, 3]\n",
      "After function: [1, 2, 3]\n"
     ]
    },
    {
     "data": {
      "text/plain": [
       "[[0, 2, 3], [4, 5, 6], [7, 8, 9]]"
      ]
     },
     "execution_count": 46,
     "metadata": {},
     "output_type": "execute_result"
    }
   ],
   "source": [
    "a = [1, 2, 3]\n",
    "\n",
    "def append_4():\n",
    "    b = a.copy()\n",
    "    b.append(4)\n",
    "\n",
    "print('Before function:', a)\n",
    "append_4()\n",
    "print('After function:', a)\n",
    "b"
   ]
  },
  {
   "cell_type": "markdown",
   "id": "af3f1b5e",
   "metadata": {},
   "source": [
    "These issues don't arise with strings"
   ]
  },
  {
   "cell_type": "code",
   "execution_count": 47,
   "id": "cc218c2d",
   "metadata": {},
   "outputs": [
    {
     "name": "stdout",
     "output_type": "stream",
     "text": [
      "Before function: hello\n",
      "After function: hello\n"
     ]
    }
   ],
   "source": [
    "a = 'hello'\n",
    "\n",
    "def append_4(a):\n",
    "    a += 'goodbye'\n",
    "\n",
    "print('Before function:', a)\n",
    "append_4(a)\n",
    "print('After function:', a)"
   ]
  },
  {
   "cell_type": "code",
   "execution_count": 48,
   "id": "1f511f87",
   "metadata": {},
   "outputs": [
    {
     "data": {
      "text/plain": [
       "'hellogoodbye'"
      ]
     },
     "execution_count": 48,
     "metadata": {},
     "output_type": "execute_result"
    }
   ],
   "source": [
    "a = 'hello'\n",
    "a += 'goodbye'\n",
    "a"
   ]
  },
  {
   "cell_type": "markdown",
   "id": "ff82f43d",
   "metadata": {},
   "source": [
    "If a variable name is overwritten inside a function, the original, unmodified variable still exists in the outer scope"
   ]
  },
  {
   "cell_type": "code",
   "execution_count": 49,
   "id": "4bccbe89",
   "metadata": {},
   "outputs": [
    {
     "name": "stdout",
     "output_type": "stream",
     "text": [
      "Before function: [1, 2, 3]\n"
     ]
    },
    {
     "ename": "NameError",
     "evalue": "name 'np' is not defined",
     "output_type": "error",
     "traceback": [
      "\u001b[0;31m---------------------------------------------------------------------------\u001b[0m",
      "\u001b[0;31mNameError\u001b[0m                                 Traceback (most recent call last)",
      "Cell \u001b[0;32mIn[49], line 10\u001b[0m\n\u001b[1;32m      7\u001b[0m     a\u001b[38;5;241m.\u001b[39mextend([\u001b[38;5;241m4\u001b[39m, \u001b[38;5;241m5\u001b[39m, \u001b[38;5;241m6\u001b[39m])\n\u001b[1;32m      9\u001b[0m \u001b[38;5;28mprint\u001b[39m(\u001b[38;5;124m'\u001b[39m\u001b[38;5;124mBefore function:\u001b[39m\u001b[38;5;124m'\u001b[39m, a)\n\u001b[0;32m---> 10\u001b[0m \u001b[43mappend_values_v1\u001b[49m\u001b[43m(\u001b[49m\u001b[43ma\u001b[49m\u001b[43m)\u001b[49m\n\u001b[1;32m     11\u001b[0m \u001b[38;5;28mprint\u001b[39m(\u001b[38;5;124m'\u001b[39m\u001b[38;5;124mAfter function 1:\u001b[39m\u001b[38;5;124m'\u001b[39m, a)\n\u001b[1;32m     12\u001b[0m append_values_v2(a)\n",
      "Cell \u001b[0;32mIn[49], line 3\u001b[0m, in \u001b[0;36mappend_values_v1\u001b[0;34m(a)\u001b[0m\n\u001b[1;32m      2\u001b[0m \u001b[38;5;28;01mdef\u001b[39;00m \u001b[38;5;21mappend_values_v1\u001b[39m(a):\n\u001b[0;32m----> 3\u001b[0m     a \u001b[38;5;241m=\u001b[39m \u001b[43mnp\u001b[49m\u001b[38;5;241m.\u001b[39mconcatenate([a, [\u001b[38;5;241m4\u001b[39m, \u001b[38;5;241m5\u001b[39m, \u001b[38;5;241m6\u001b[39m]])\n\u001b[1;32m      4\u001b[0m     \u001b[38;5;28mprint\u001b[39m(\u001b[38;5;124m'\u001b[39m\u001b[38;5;124mInside function 1:\u001b[39m\u001b[38;5;124m'\u001b[39m, a)\n",
      "\u001b[0;31mNameError\u001b[0m: name 'np' is not defined"
     ]
    }
   ],
   "source": [
    "a = [1, 2, 3]\n",
    "def append_values_v1(a):\n",
    "    a = np.concatenate([a, [4, 5, 6]])\n",
    "    print('Inside function 1:', a)\n",
    "\n",
    "def append_values_v2(a):\n",
    "    a.extend([4, 5, 6])\n",
    "\n",
    "print('Before function:', a)\n",
    "append_values_v1(a)\n",
    "print('After function 1:', a)\n",
    "append_values_v2(a)\n",
    "print('After function 2:', a)"
   ]
  },
  {
   "cell_type": "code",
   "execution_count": 50,
   "id": "cac58e82",
   "metadata": {},
   "outputs": [
    {
     "name": "stdout",
     "output_type": "stream",
     "text": [
      "Before function: hello\n",
      "After function: hello\n",
      "a2: hellogoodbye\n"
     ]
    }
   ],
   "source": [
    "a = 'hello'\n",
    "\n",
    "def append_4(a):\n",
    "    a += 'goodbye'\n",
    "    return a\n",
    "\n",
    "print('Before function:', a)\n",
    "a2 = append_4(a)\n",
    "print('After function:', a)\n",
    "print('a2:', a2)"
   ]
  },
  {
   "cell_type": "markdown",
   "id": "074ec109",
   "metadata": {},
   "source": [
    "## 4. List index\n",
    "\n",
    "Find the index of an element in a list - useful for PA2"
   ]
  },
  {
   "cell_type": "code",
   "execution_count": 51,
   "id": "c2474867",
   "metadata": {},
   "outputs": [
    {
     "name": "stdout",
     "output_type": "stream",
     "text": [
      "0\n",
      "1\n",
      "2\n"
     ]
    }
   ],
   "source": [
    "list1 = ['a', 'b', 'c']\n",
    "print(list1.index('a'))\n",
    "print(list1.index('b'))\n",
    "print(list1.index('c'))"
   ]
  },
  {
   "cell_type": "markdown",
   "id": "409f52ba",
   "metadata": {},
   "source": [
    "If the element is not unique, it gives the first entry"
   ]
  },
  {
   "cell_type": "code",
   "execution_count": 52,
   "id": "d6901160",
   "metadata": {},
   "outputs": [
    {
     "name": "stdout",
     "output_type": "stream",
     "text": [
      "0\n"
     ]
    }
   ],
   "source": [
    "list2 = ['a', 'b', 'c', 'a']\n",
    "print(list2.index('a'))"
   ]
  },
  {
   "cell_type": "markdown",
   "id": "61048cd6",
   "metadata": {},
   "source": [
    "To get all indices for a value"
   ]
  },
  {
   "cell_type": "code",
   "execution_count": 53,
   "id": "94dfbeab",
   "metadata": {},
   "outputs": [
    {
     "name": "stdout",
     "output_type": "stream",
     "text": [
      "[0 3]\n",
      "[0 3]\n"
     ]
    }
   ],
   "source": [
    "import numpy as np\n",
    "\n",
    "print(np.nonzero((np.array(list2) == 'a').astype(int))[0])\n",
    "print(np.where(np.array(list2) == 'a')[0])"
   ]
  },
  {
   "cell_type": "markdown",
   "id": "7d581d9f",
   "metadata": {},
   "source": [
    "## 5. PA1 review\n",
    "\n",
    "Discussion and review my solution"
   ]
  }
 ],
 "metadata": {
  "kernelspec": {
   "display_name": "Python 3 (ipykernel)",
   "language": "python",
   "name": "python3"
  },
  "language_info": {
   "codemirror_mode": {
    "name": "ipython",
    "version": 3
   },
   "file_extension": ".py",
   "mimetype": "text/x-python",
   "name": "python",
   "nbconvert_exporter": "python",
   "pygments_lexer": "ipython3",
   "version": "3.12.3"
  }
 },
 "nbformat": 4,
 "nbformat_minor": 5
}
