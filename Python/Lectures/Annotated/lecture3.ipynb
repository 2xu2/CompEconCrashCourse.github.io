{
 "cells": [
  {
   "cell_type": "markdown",
   "id": "2cba0e12",
   "metadata": {},
   "source": [
    "# Lesson 3\n",
    "\n",
    "## Overview\n",
    "\n",
    "1. Tricks for functions\n",
    "- Lambda functions\n",
    "- Composing functions\n",
    "- Default argument values\n",
    "\n",
    "2. Tricks for lists\n",
    "- List comprehension\n",
    "- `sorted()`\n",
    "- `zip()`\n",
    "- `any()` and `all()`\n",
    "\n",
    "3. Tricks for strings\n",
    "- `lower()`\n",
    "- `split()`\n",
    "- `strip()`\n",
    "- `startswith()`\n",
    "\n",
    "4. Type casting\n",
    "\n",
    "5. PA2 Review"
   ]
  },
  {
   "cell_type": "markdown",
   "id": "1285271f",
   "metadata": {},
   "source": [
    "## 1. Tricks for functions\n",
    "\n",
    "### 1.1 Lambda functions\n",
    "\n",
    "Shorthand functions for simple tasks. Especially useful for sorting (will discuss soon)."
   ]
  },
  {
   "cell_type": "code",
   "execution_count": null,
   "id": "03384025",
   "metadata": {},
   "outputs": [],
   "source": [
    "sum_a_b_sq = lambda a, b: a + b ** 2\n",
    "print(sum_a_b_sq(2, 4))"
   ]
  },
  {
   "cell_type": "markdown",
   "id": "8f860603",
   "metadata": {},
   "source": [
    "### 1.2 Composing functions\n",
    "\n",
    "Apply multiple functions in one line. Notice `*`, which unpacks the list (`**` unpacks a dictionary)."
   ]
  },
  {
   "cell_type": "code",
   "execution_count": null,
   "id": "4ef85f06",
   "metadata": {},
   "outputs": [],
   "source": [
    "a_sq_b_cubed = lambda a, b: (a ** 2, b ** 3)\n",
    "print(sum_a_b_sq(*a_sq_b_cubed(4, 12)))"
   ]
  },
  {
   "cell_type": "code",
   "execution_count": null,
   "id": "5dc7f00b",
   "metadata": {},
   "outputs": [],
   "source": [
    "a_sq_b_cubed(4, 12)"
   ]
  },
  {
   "cell_type": "markdown",
   "id": "f7895ba2",
   "metadata": {},
   "source": [
    "The `*` notation works only inside function calls"
   ]
  },
  {
   "cell_type": "code",
   "execution_count": null,
   "id": "a92c1001",
   "metadata": {},
   "outputs": [],
   "source": [
    "*a_sq_b_cubed(4, 12)"
   ]
  },
  {
   "cell_type": "markdown",
   "id": "97dab5fc",
   "metadata": {},
   "source": [
    "### 1.3 Default argument values"
   ]
  },
  {
   "cell_type": "code",
   "execution_count": null,
   "id": "ff6ea642",
   "metadata": {},
   "outputs": [],
   "source": [
    "def print_name(first_name, last_name, middle_name=''):\n",
    "    print(first_name, middle_name, last_name)\n",
    "\n",
    "print_name(first_name='Adam', middle_name='Alexander', last_name='Oppenheimer')\n",
    "print_name(**{'first_name': 'Adam', 'middle_name': 'Alexander', 'last_name': 'Oppenheimer'})"
   ]
  },
  {
   "cell_type": "markdown",
   "id": "c247a7f6",
   "metadata": {},
   "source": [
    "Once an argument has a default value, all following arguments must also have default values"
   ]
  },
  {
   "cell_type": "code",
   "execution_count": null,
   "id": "75ee145e",
   "metadata": {},
   "outputs": [],
   "source": [
    "def print_name(first_name, middle_name='', last_name):\n",
    "    print(first_name, middle_name, last_name)"
   ]
  },
  {
   "cell_type": "markdown",
   "id": "c7404fa4",
   "metadata": {},
   "source": [
    "In-place updates to default values are maintained between function calls - this can lead to big headaches!"
   ]
  },
  {
   "cell_type": "code",
   "execution_count": null,
   "id": "c5702747",
   "metadata": {},
   "outputs": [],
   "source": [
    "def update_list(a=[]):\n",
    "    a.append(0)\n",
    "    print('a:', a)\n",
    "\n",
    "update_list()\n",
    "update_list()"
   ]
  },
  {
   "cell_type": "markdown",
   "id": "80dfaba6",
   "metadata": {},
   "source": [
    "Avoid this issue by setting the default value to `None` if you know the argument can have in-place updates (unless this is the behavior you want, although it is extremely unlikely that you want this to happen)"
   ]
  },
  {
   "cell_type": "code",
   "execution_count": null,
   "id": "91c6ae06",
   "metadata": {},
   "outputs": [],
   "source": [
    "def update_list(a=None):\n",
    "    if a is None:\n",
    "        a = []\n",
    "    a.append(0)\n",
    "    print('a:', a)\n",
    "\n",
    "update_list()\n",
    "update_list()"
   ]
  },
  {
   "cell_type": "markdown",
   "id": "b4e2fcf7",
   "metadata": {},
   "source": [
    "## 2. Tricks for lists\n",
    "\n",
    "### 2.1 List comprehension\n",
    "\n",
    "Super convenient way to create lists (also works for dictionaries and tuples)."
   ]
  },
  {
   "cell_type": "code",
   "execution_count": null,
   "id": "5a223636",
   "metadata": {},
   "outputs": [],
   "source": [
    "lst = []\n",
    "for a in range(5):\n",
    "    lst.append(a)\n",
    "print(lst)"
   ]
  },
  {
   "cell_type": "code",
   "execution_count": null,
   "id": "33bc603a",
   "metadata": {},
   "outputs": [],
   "source": [
    "[a for a in range(5)]"
   ]
  },
  {
   "cell_type": "code",
   "execution_count": null,
   "id": "46987b51",
   "metadata": {},
   "outputs": [],
   "source": [
    "[a if (a % 2 == 0) else 1 / a for a in range(5)]"
   ]
  },
  {
   "cell_type": "code",
   "execution_count": null,
   "id": "50016e9d",
   "metadata": {},
   "outputs": [],
   "source": [
    "[a for a in range(5) if a != 3]"
   ]
  },
  {
   "cell_type": "code",
   "execution_count": null,
   "id": "2847e67b",
   "metadata": {},
   "outputs": [],
   "source": [
    "[a if (a % 2 == 0) else 1 / a for a in range(5) if a != 2]"
   ]
  },
  {
   "cell_type": "markdown",
   "id": "386a1985",
   "metadata": {},
   "source": [
    "Can even nest list comprehensions. Notice you order the for loops in the same order as if you were writing out the full loops."
   ]
  },
  {
   "cell_type": "code",
   "execution_count": null,
   "id": "368d1384",
   "metadata": {},
   "outputs": [],
   "source": [
    "[(i, j) for i in range(3) for j in range(2)]"
   ]
  },
  {
   "cell_type": "code",
   "execution_count": null,
   "id": "0d471fd8",
   "metadata": {},
   "outputs": [],
   "source": [
    "[(i, j) for i in range(3) for j in range(i)]"
   ]
  },
  {
   "cell_type": "markdown",
   "id": "a76b4b03",
   "metadata": {},
   "source": [
    "Be careful about some weird behavior with list comprehensions (this can also happen with regular loops) (see https://stackoverflow.com/questions/3431676/creating-functions-or-lambdas-in-a-loop-or-comprehension)."
   ]
  },
  {
   "cell_type": "markdown",
   "id": "654bc30d",
   "metadata": {},
   "source": [
    "### 2.2 `sorted()`\n",
    "\n",
    "Sort a list and specify the key. Notice the lambda functions to set the key for sorting."
   ]
  },
  {
   "cell_type": "code",
   "execution_count": null,
   "id": "f5eef7d0",
   "metadata": {},
   "outputs": [],
   "source": [
    "sorted([('d', 4), ('a', 1), ('r', 2)], key=lambda a: a[0])"
   ]
  },
  {
   "cell_type": "code",
   "execution_count": null,
   "id": "89d9d00d",
   "metadata": {},
   "outputs": [],
   "source": [
    "sorted([('d', 4), ('a', 1), ('r', 2)], key=lambda a: a[1])"
   ]
  },
  {
   "cell_type": "markdown",
   "id": "1351b386",
   "metadata": {},
   "source": [
    "### 2.3 `zip()`\n",
    "\n",
    "Combine two lists element by element. Make sure to convert to a list for PA3."
   ]
  },
  {
   "cell_type": "code",
   "execution_count": null,
   "id": "96ec7294",
   "metadata": {},
   "outputs": [],
   "source": [
    "list(zip(range(0, 5), range(5, 0, -1)))"
   ]
  },
  {
   "cell_type": "markdown",
   "id": "5a96063e",
   "metadata": {},
   "source": [
    "Make sure the lists are the same length! They'll zip even if they aren't!"
   ]
  },
  {
   "cell_type": "code",
   "execution_count": null,
   "id": "513d2107",
   "metadata": {},
   "outputs": [],
   "source": [
    "list(zip(range(0, 7), range(5, 0, -1)))"
   ]
  },
  {
   "cell_type": "code",
   "execution_count": null,
   "id": "fb5ec749",
   "metadata": {},
   "outputs": [],
   "source": [
    "for i in zip(range(0, 5), range(5, 0, -1)):\n",
    "    print(i)"
   ]
  },
  {
   "cell_type": "markdown",
   "id": "0868f00b",
   "metadata": {},
   "source": [
    "Note: `zip` creates a generator, which is why we need to convert it to a `list`"
   ]
  },
  {
   "cell_type": "code",
   "execution_count": null,
   "id": "9cf62306",
   "metadata": {},
   "outputs": [],
   "source": [
    "zipped_lst = zip(range(0, 5), range(5, 0, -1))\n",
    "for elmt in zipped_lst:\n",
    "    print(elmt)\n",
    "    break\n",
    "for elmt in zipped_lst:\n",
    "    print(elmt)\n",
    "    break\n",
    "print(zipped_lst[0])"
   ]
  },
  {
   "cell_type": "markdown",
   "id": "b1801b98",
   "metadata": {},
   "source": [
    "### 2.4 `any()` and `all()`\n",
    "\n",
    "`any()`: check whether any element of a list is True.\n",
    "\n",
    "`all()`: check whether all elements of a list are True."
   ]
  },
  {
   "cell_type": "code",
   "execution_count": null,
   "id": "4f579f70",
   "metadata": {},
   "outputs": [],
   "source": [
    "any([True, True, False])"
   ]
  },
  {
   "cell_type": "code",
   "execution_count": null,
   "id": "32b90f47",
   "metadata": {},
   "outputs": [],
   "source": [
    "any([False, False, False])"
   ]
  },
  {
   "cell_type": "code",
   "execution_count": null,
   "id": "30491595",
   "metadata": {},
   "outputs": [],
   "source": [
    "all([True, True, False])"
   ]
  },
  {
   "cell_type": "code",
   "execution_count": null,
   "id": "dcd762ba",
   "metadata": {},
   "outputs": [],
   "source": [
    "all([True, True, True])"
   ]
  },
  {
   "cell_type": "markdown",
   "id": "ea73f29f",
   "metadata": {},
   "source": [
    "## 3. Tricks for strings\n",
    "\n",
    "### 3.1 `lower()`\n",
    "\n",
    "Convert text to lowercase."
   ]
  },
  {
   "cell_type": "code",
   "execution_count": null,
   "id": "71396a76",
   "metadata": {},
   "outputs": [],
   "source": [
    "'HELLO'.lower()"
   ]
  },
  {
   "cell_type": "markdown",
   "id": "444a709b",
   "metadata": {},
   "source": [
    "### 3.2 `split()`\n",
    "\n",
    "Split string into a list, dividing words by the specified character."
   ]
  },
  {
   "cell_type": "code",
   "execution_count": null,
   "id": "5f87ce43",
   "metadata": {},
   "outputs": [],
   "source": [
    "'Hello, I am Adam.'.split(' ')"
   ]
  },
  {
   "cell_type": "code",
   "execution_count": null,
   "id": "bec371f3",
   "metadata": {},
   "outputs": [],
   "source": [
    "'Hello, I am Adam.'.split('m')"
   ]
  },
  {
   "cell_type": "markdown",
   "id": "acc1c326",
   "metadata": {},
   "source": [
    "### 3.3 `strip()`\n",
    "\n",
    "Remove the specified characters from the start and end of a string."
   ]
  },
  {
   "cell_type": "code",
   "execution_count": null,
   "id": "d4778605",
   "metadata": {},
   "outputs": [],
   "source": [
    "'abcdefgabcdefg'.strip('bacdg')"
   ]
  },
  {
   "cell_type": "markdown",
   "id": "561a907b",
   "metadata": {},
   "source": [
    "### 3.4 `startswith()`\n",
    "\n",
    "Check whether the string starts with the specified string."
   ]
  },
  {
   "cell_type": "code",
   "execution_count": null,
   "id": "510866f4",
   "metadata": {},
   "outputs": [],
   "source": [
    "'hello'.startswith('he')"
   ]
  },
  {
   "cell_type": "code",
   "execution_count": null,
   "id": "9603c361",
   "metadata": {},
   "outputs": [],
   "source": [
    "'hello'.startswith('hen')"
   ]
  },
  {
   "cell_type": "markdown",
   "id": "b4173948",
   "metadata": {},
   "source": [
    "### 4. Type casting\n",
    "\n",
    "Convert between types by writing the name of the type you want to convert to and using the name as if it is a function."
   ]
  },
  {
   "cell_type": "code",
   "execution_count": null,
   "id": "3e89a3af",
   "metadata": {},
   "outputs": [],
   "source": [
    "val = 1.0\n",
    "print(val)\n",
    "print(int(val))"
   ]
  },
  {
   "cell_type": "code",
   "execution_count": null,
   "id": "024b9b8e",
   "metadata": {},
   "outputs": [],
   "source": [
    "lst = [1, 2, 3]\n",
    "print(lst)\n",
    "print(tuple(lst))"
   ]
  },
  {
   "cell_type": "code",
   "execution_count": null,
   "id": "3861aad9",
   "metadata": {},
   "outputs": [],
   "source": [
    "print(zip(range(0, 5), range(5, 0, -1)))\n",
    "print(list(zip(range(0, 5), range(5, 0, -1))))"
   ]
  },
  {
   "cell_type": "markdown",
   "id": "7d581d9f",
   "metadata": {},
   "source": [
    "## 5. PA2 review\n",
    "\n",
    "Discussion and review my solution"
   ]
  }
 ],
 "metadata": {
  "kernelspec": {
   "display_name": "Python 3 (ipykernel)",
   "language": "python",
   "name": "python3"
  },
  "language_info": {
   "codemirror_mode": {
    "name": "ipython",
    "version": 3
   },
   "file_extension": ".py",
   "mimetype": "text/x-python",
   "name": "python",
   "nbconvert_exporter": "python",
   "pygments_lexer": "ipython3",
   "version": "3.12.3"
  }
 },
 "nbformat": 4,
 "nbformat_minor": 5
}
