{
 "cells": [
  {
   "cell_type": "markdown",
   "id": "2cba0e12",
   "metadata": {},
   "source": [
    "# Lesson 5\n",
    "\n",
    "## Overview\n",
    "\n",
    "- NumPy\n",
    "1. Initializing an array\n",
    "2. Initialization tricks - zeros/ones\n",
    "3. Mathematical operations\n",
    "- Transposing multiple dimensions\n",
    "4. Accessing elements/indexing/slicing\n",
    "- Accessing elements/indexing\n",
    "- Slicing\n",
    "5. Tile and repeat\n",
    "6. Broadcasting\n",
    "- Cartesian products using broadcasting\n",
    "7. Random generators\n",
    "8. `np.diff`\n",
    "9. `np.cumsum`\n",
    "10. `np.argmin`/`np.argmax`/`np.argsort`\n",
    "11. `np.where`/`np.nonzero`\n",
    "12. `np.bincount`\n",
    "13. Sparse matrices\n",
    "14. Matrix multiplication with diagonal matrices"
   ]
  },
  {
   "cell_type": "markdown",
   "id": "1285271f",
   "metadata": {},
   "source": [
    "## NumPy\n",
    "\n",
    "Vectors/arrays/matrices in Python."
   ]
  },
  {
   "cell_type": "code",
   "execution_count": 18,
   "id": "42f3eb44",
   "metadata": {},
   "outputs": [],
   "source": [
    "import numpy as np"
   ]
  },
  {
   "cell_type": "markdown",
   "id": "a054562c",
   "metadata": {},
   "source": [
    "## 1. Initializing an array"
   ]
  },
  {
   "cell_type": "code",
   "execution_count": 19,
   "id": "846458ed",
   "metadata": {},
   "outputs": [],
   "source": [
    "a = [\n",
    "    [1, 2, 3],\n",
    "    [4, 5, 6],\n",
    "    [7, 8, 9]\n",
    "]"
   ]
  },
  {
   "cell_type": "markdown",
   "id": "dd6dd7d8",
   "metadata": {},
   "source": [
    "Nested list representation"
   ]
  },
  {
   "cell_type": "code",
   "execution_count": 20,
   "id": "6009683d",
   "metadata": {},
   "outputs": [
    {
     "data": {
      "text/plain": [
       "[[1, 2, 3], [4, 5, 6], [7, 8, 9]]"
      ]
     },
     "execution_count": 20,
     "metadata": {},
     "output_type": "execute_result"
    }
   ],
   "source": [
    "a"
   ]
  },
  {
   "cell_type": "markdown",
   "id": "1f9f7f7d",
   "metadata": {},
   "source": [
    "NumPy representation"
   ]
  },
  {
   "cell_type": "code",
   "execution_count": 21,
   "id": "1628502e",
   "metadata": {},
   "outputs": [
    {
     "data": {
      "text/plain": [
       "array([[1, 2, 3],\n",
       "       [4, 5, 6],\n",
       "       [7, 8, 9]])"
      ]
     },
     "execution_count": 21,
     "metadata": {},
     "output_type": "execute_result"
    }
   ],
   "source": [
    "b = np.array(a)\n",
    "b"
   ]
  },
  {
   "cell_type": "markdown",
   "id": "88de570b",
   "metadata": {},
   "source": [
    "## 2. Initialization tricks - zeros/ones/empty"
   ]
  },
  {
   "cell_type": "code",
   "execution_count": 22,
   "id": "480ce5b7",
   "metadata": {},
   "outputs": [
    {
     "data": {
      "text/plain": [
       "array([[1., 1., 1., 1., 1., 1., 1., 1., 1., 1.],\n",
       "       [1., 1., 1., 1., 1., 1., 1., 1., 1., 1.],\n",
       "       [1., 1., 1., 1., 1., 1., 1., 1., 1., 1.],\n",
       "       [1., 1., 1., 1., 1., 1., 1., 1., 1., 1.],\n",
       "       [1., 1., 1., 1., 1., 1., 1., 1., 1., 1.]])"
      ]
     },
     "execution_count": 22,
     "metadata": {},
     "output_type": "execute_result"
    }
   ],
   "source": [
    "a = np.ones((5, 10))\n",
    "a"
   ]
  },
  {
   "cell_type": "code",
   "execution_count": 23,
   "id": "8b144900",
   "metadata": {},
   "outputs": [
    {
     "data": {
      "text/plain": [
       "array([[0., 0., 0., 0., 0., 0., 0., 0., 0., 0.],\n",
       "       [0., 0., 0., 0., 0., 0., 0., 0., 0., 0.],\n",
       "       [0., 0., 0., 0., 0., 0., 0., 0., 0., 0.],\n",
       "       [0., 0., 0., 0., 0., 0., 0., 0., 0., 0.],\n",
       "       [0., 0., 0., 0., 0., 0., 0., 0., 0., 0.]])"
      ]
     },
     "execution_count": 23,
     "metadata": {},
     "output_type": "execute_result"
    }
   ],
   "source": [
    "a = np.zeros((5, 10))\n",
    "a"
   ]
  },
  {
   "cell_type": "code",
   "execution_count": 24,
   "id": "611b455d",
   "metadata": {},
   "outputs": [
    {
     "data": {
      "text/plain": [
       "array([[0., 0., 0., 0., 0., 0., 0., 0., 0., 0.],\n",
       "       [0., 0., 0., 0., 0., 0., 0., 0., 0., 0.],\n",
       "       [0., 0., 0., 0., 0., 0., 0., 0., 0., 0.],\n",
       "       [0., 0., 0., 0., 0., 0., 0., 0., 0., 0.],\n",
       "       [0., 0., 0., 0., 0., 0., 0., 0., 0., 0.]])"
      ]
     },
     "execution_count": 24,
     "metadata": {},
     "output_type": "execute_result"
    }
   ],
   "source": [
    "a = np.empty((5, 10))\n",
    "a"
   ]
  },
  {
   "cell_type": "markdown",
   "id": "eed5346b",
   "metadata": {},
   "source": [
    "## 3. Mathematical operations\n",
    "\n",
    "Let `a` denote a NumPy array, then:\n",
    "- `+` - element-wise addition\n",
    "- `-` - element-wise subtraction\n",
    "- `*` - element-wise multiplication\n",
    "- `/` - element-wise division\n",
    "- `**` - element-wise powers\n",
    "- `@` - matrix multiplication\n",
    "- `np.linalg.inv(a)` - matrix inversion\n",
    "- `a.T` or `a.transpose()` or `np.transpose(a)` - matrix transpose"
   ]
  },
  {
   "cell_type": "markdown",
   "id": "0057ba77",
   "metadata": {},
   "source": [
    "Mathematical operations don't work with lists"
   ]
  },
  {
   "cell_type": "code",
   "execution_count": 25,
   "id": "61f96d7a",
   "metadata": {},
   "outputs": [
    {
     "data": {
      "text/plain": [
       "array([[0., 0., 0., 0., 0., 0., 0., 0., 0., 0.],\n",
       "       [0., 0., 0., 0., 0., 0., 0., 0., 0., 0.],\n",
       "       [0., 0., 0., 0., 0., 0., 0., 0., 0., 0.],\n",
       "       [0., 0., 0., 0., 0., 0., 0., 0., 0., 0.],\n",
       "       [0., 0., 0., 0., 0., 0., 0., 0., 0., 0.]])"
      ]
     },
     "execution_count": 25,
     "metadata": {},
     "output_type": "execute_result"
    }
   ],
   "source": [
    "a * a"
   ]
  },
  {
   "cell_type": "markdown",
   "id": "d43265f3",
   "metadata": {},
   "source": [
    "But they work with NumPy arrays"
   ]
  },
  {
   "cell_type": "code",
   "execution_count": 26,
   "id": "f7187e55",
   "metadata": {},
   "outputs": [
    {
     "data": {
      "text/plain": [
       "array([[ 1,  4,  9],\n",
       "       [16, 25, 36],\n",
       "       [49, 64, 81]])"
      ]
     },
     "execution_count": 26,
     "metadata": {},
     "output_type": "execute_result"
    }
   ],
   "source": [
    "b * b"
   ]
  },
  {
   "cell_type": "code",
   "execution_count": 27,
   "id": "d43e89d4",
   "metadata": {},
   "outputs": [
    {
     "data": {
      "text/plain": [
       "array([[ 30,  36,  42],\n",
       "       [ 66,  81,  96],\n",
       "       [102, 126, 150]])"
      ]
     },
     "execution_count": 27,
     "metadata": {},
     "output_type": "execute_result"
    }
   ],
   "source": [
    "b @ b"
   ]
  },
  {
   "cell_type": "code",
   "execution_count": 28,
   "id": "f4a3f7a4",
   "metadata": {},
   "outputs": [
    {
     "data": {
      "text/plain": [
       "array([[ 14.,  12.,  10.],\n",
       "       [-14.,  -8.,  -2.],\n",
       "       [  0.,   0.,   0.]])"
      ]
     },
     "execution_count": 28,
     "metadata": {},
     "output_type": "execute_result"
    }
   ],
   "source": [
    "np.linalg.inv(b) @ b"
   ]
  },
  {
   "cell_type": "markdown",
   "id": "301d58a3",
   "metadata": {},
   "source": [
    "### 3.1 Transposing multiple dimensions"
   ]
  },
  {
   "cell_type": "code",
   "execution_count": 29,
   "id": "c95ae023",
   "metadata": {},
   "outputs": [
    {
     "data": {
      "text/plain": [
       "array([[1, 4, 7],\n",
       "       [2, 5, 8],\n",
       "       [3, 6, 9]])"
      ]
     },
     "execution_count": 29,
     "metadata": {},
     "output_type": "execute_result"
    }
   ],
   "source": [
    "np.transpose(b, [1, 0])"
   ]
  },
  {
   "cell_type": "markdown",
   "id": "0772356a",
   "metadata": {},
   "source": [
    "## 4. Accessing elements/indexing/slicing\n",
    "\n",
    "### 4.1 Accessing elements/indexing"
   ]
  },
  {
   "cell_type": "markdown",
   "id": "6a66bdba",
   "metadata": {},
   "source": [
    "With lists, access each layer separately"
   ]
  },
  {
   "cell_type": "code",
   "execution_count": 30,
   "id": "66f13ffe",
   "metadata": {},
   "outputs": [
    {
     "data": {
      "text/plain": [
       "np.float64(0.0)"
      ]
     },
     "execution_count": 30,
     "metadata": {},
     "output_type": "execute_result"
    }
   ],
   "source": [
    "a[0][0]"
   ]
  },
  {
   "cell_type": "markdown",
   "id": "7f32b913",
   "metadata": {},
   "source": [
    "With NumPy arrays this also works, but can also access multiple indices simultaneously"
   ]
  },
  {
   "cell_type": "code",
   "execution_count": 31,
   "id": "12541fce",
   "metadata": {},
   "outputs": [
    {
     "data": {
      "text/plain": [
       "np.int64(1)"
      ]
     },
     "execution_count": 31,
     "metadata": {},
     "output_type": "execute_result"
    }
   ],
   "source": [
    "b[0][0]"
   ]
  },
  {
   "cell_type": "code",
   "execution_count": 32,
   "id": "1b5c34cb",
   "metadata": {},
   "outputs": [
    {
     "data": {
      "text/plain": [
       "np.int64(1)"
      ]
     },
     "execution_count": 32,
     "metadata": {},
     "output_type": "execute_result"
    }
   ],
   "source": [
    "b[0, 0]"
   ]
  },
  {
   "cell_type": "markdown",
   "id": "5e2bbbf8",
   "metadata": {},
   "source": [
    "Can even access indices using tuples/lists/arrays"
   ]
  },
  {
   "cell_type": "code",
   "execution_count": 33,
   "id": "88cd7ebd",
   "metadata": {},
   "outputs": [
    {
     "data": {
      "text/plain": [
       "np.int64(1)"
      ]
     },
     "execution_count": 33,
     "metadata": {},
     "output_type": "execute_result"
    }
   ],
   "source": [
    "idx = (0, 0)\n",
    "b[idx]"
   ]
  },
  {
   "cell_type": "markdown",
   "id": "082ab0ee",
   "metadata": {},
   "source": [
    "This doesn't work for nested lists"
   ]
  },
  {
   "cell_type": "code",
   "execution_count": 34,
   "id": "6493f845",
   "metadata": {},
   "outputs": [
    {
     "data": {
      "text/plain": [
       "np.float64(0.0)"
      ]
     },
     "execution_count": 34,
     "metadata": {},
     "output_type": "execute_result"
    }
   ],
   "source": [
    "a[idx]"
   ]
  },
  {
   "cell_type": "markdown",
   "id": "a7b55597",
   "metadata": {},
   "source": [
    "### 4.2 Slicing\n",
    "\n",
    "Use a comma to separate dimensions and a colon (`:`) to access an entire dimension"
   ]
  },
  {
   "cell_type": "code",
   "execution_count": 35,
   "id": "0f1442fa",
   "metadata": {},
   "outputs": [
    {
     "data": {
      "text/plain": [
       "array([[0., 0., 0., 0., 0., 0., 0., 0., 0., 0.]])"
      ]
     },
     "execution_count": 35,
     "metadata": {},
     "output_type": "execute_result"
    }
   ],
   "source": [
    "a[:1]"
   ]
  },
  {
   "cell_type": "code",
   "execution_count": 36,
   "id": "34168e2a",
   "metadata": {},
   "outputs": [
    {
     "data": {
      "text/plain": [
       "array([[1, 2, 3],\n",
       "       [4, 5, 6],\n",
       "       [7, 8, 9]])"
      ]
     },
     "execution_count": 36,
     "metadata": {},
     "output_type": "execute_result"
    }
   ],
   "source": [
    "b"
   ]
  },
  {
   "cell_type": "code",
   "execution_count": 37,
   "id": "f24a33c4",
   "metadata": {},
   "outputs": [
    {
     "data": {
      "text/plain": [
       "array([[1, 3],\n",
       "       [7, 9]])"
      ]
     },
     "execution_count": 37,
     "metadata": {},
     "output_type": "execute_result"
    }
   ],
   "source": [
    "b[:, [0, 2]][[0, 2], :]"
   ]
  },
  {
   "cell_type": "markdown",
   "id": "e6e7eb78",
   "metadata": {},
   "source": [
    "Note that slicing can allow you to update entire arrays in-place, saving allocation time"
   ]
  },
  {
   "cell_type": "code",
   "execution_count": 38,
   "id": "ff9e0286",
   "metadata": {},
   "outputs": [],
   "source": [
    "b[:, :] = b.copy()"
   ]
  },
  {
   "cell_type": "markdown",
   "id": "e245d7dd",
   "metadata": {},
   "source": [
    "## 5. Tile and repeat\n",
    "\n",
    "Tile stacks an entire array along a dimension (like tiles)\n",
    "\n",
    "Repeat repeats each element of an array a given number of times, then repeats the next element, etc."
   ]
  },
  {
   "cell_type": "code",
   "execution_count": 39,
   "id": "84c98189",
   "metadata": {},
   "outputs": [
    {
     "data": {
      "text/plain": [
       "array([0, 1, 2])"
      ]
     },
     "execution_count": 39,
     "metadata": {},
     "output_type": "execute_result"
    }
   ],
   "source": [
    "c = np.arange(3)\n",
    "c"
   ]
  },
  {
   "cell_type": "code",
   "execution_count": 40,
   "id": "f20cf95d",
   "metadata": {},
   "outputs": [
    {
     "data": {
      "text/plain": [
       "array([0, 1, 2, 0, 1, 2, 0, 1, 2])"
      ]
     },
     "execution_count": 40,
     "metadata": {},
     "output_type": "execute_result"
    }
   ],
   "source": [
    "np.tile(c, 3)"
   ]
  },
  {
   "cell_type": "code",
   "execution_count": 41,
   "id": "d29b7f5b",
   "metadata": {},
   "outputs": [
    {
     "data": {
      "text/plain": [
       "array([[0, 1, 2, 0, 1, 2],\n",
       "       [0, 1, 2, 0, 1, 2],\n",
       "       [0, 1, 2, 0, 1, 2]])"
      ]
     },
     "execution_count": 41,
     "metadata": {},
     "output_type": "execute_result"
    }
   ],
   "source": [
    "np.tile(c, (3, 2))"
   ]
  },
  {
   "cell_type": "code",
   "execution_count": 42,
   "id": "f3891e94",
   "metadata": {},
   "outputs": [
    {
     "data": {
      "text/plain": [
       "array([0, 0, 0, 1, 1, 1, 2, 2, 2])"
      ]
     },
     "execution_count": 42,
     "metadata": {},
     "output_type": "execute_result"
    }
   ],
   "source": [
    "np.repeat(c, 3)"
   ]
  },
  {
   "cell_type": "code",
   "execution_count": 43,
   "id": "48880acf",
   "metadata": {},
   "outputs": [
    {
     "data": {
      "text/plain": [
       "array([0, 1, 1, 2, 2, 2])"
      ]
     },
     "execution_count": 43,
     "metadata": {},
     "output_type": "execute_result"
    }
   ],
   "source": [
    "np.repeat(c, (1, 2, 3))"
   ]
  },
  {
   "cell_type": "markdown",
   "id": "72904a5b",
   "metadata": {},
   "source": [
    "## 6. Broadcasting"
   ]
  },
  {
   "cell_type": "code",
   "execution_count": 44,
   "id": "e92e0836",
   "metadata": {},
   "outputs": [
    {
     "name": "stdout",
     "output_type": "stream",
     "text": [
      "(3, 3)\n",
      "(3,)\n"
     ]
    }
   ],
   "source": [
    "print(b.shape)\n",
    "print(c.shape)"
   ]
  },
  {
   "cell_type": "code",
   "execution_count": 45,
   "id": "a660979f",
   "metadata": {},
   "outputs": [
    {
     "data": {
      "text/plain": [
       "array([[ 0,  2,  6],\n",
       "       [ 0,  5, 12],\n",
       "       [ 0,  8, 18]])"
      ]
     },
     "execution_count": 45,
     "metadata": {},
     "output_type": "execute_result"
    }
   ],
   "source": [
    "c[None, :] * b"
   ]
  },
  {
   "cell_type": "code",
   "execution_count": 46,
   "id": "a77fc509",
   "metadata": {},
   "outputs": [
    {
     "data": {
      "text/plain": [
       "array([[ 0,  0,  0],\n",
       "       [ 4,  5,  6],\n",
       "       [14, 16, 18]])"
      ]
     },
     "execution_count": 46,
     "metadata": {},
     "output_type": "execute_result"
    }
   ],
   "source": [
    "c[:, None] * b"
   ]
  },
  {
   "cell_type": "markdown",
   "id": "0ea0cd48",
   "metadata": {},
   "source": [
    "### 6.1 Cartesian products using broadcasting"
   ]
  },
  {
   "cell_type": "code",
   "execution_count": 47,
   "id": "44f200c0",
   "metadata": {},
   "outputs": [
    {
     "data": {
      "text/plain": [
       "array([[0, 1, 2],\n",
       "       [1, 2, 3],\n",
       "       [2, 3, 4]])"
      ]
     },
     "execution_count": 47,
     "metadata": {},
     "output_type": "execute_result"
    }
   ],
   "source": [
    "c[:, None] + c[None, :]"
   ]
  },
  {
   "cell_type": "markdown",
   "id": "1c73f11b",
   "metadata": {},
   "source": [
    "## 7. Random generators\n",
    "\n",
    "Allows you to specify random seeds easily"
   ]
  },
  {
   "cell_type": "code",
   "execution_count": 48,
   "id": "9add12b4",
   "metadata": {},
   "outputs": [],
   "source": [
    "seed = 1\n",
    "rng = np.random.default_rng(seed)"
   ]
  },
  {
   "cell_type": "code",
   "execution_count": 49,
   "id": "017ce09e",
   "metadata": {},
   "outputs": [
    {
     "data": {
      "text/plain": [
       "array([ 0.34558419,  0.82161814,  0.33043708, -1.30315723,  0.90535587,\n",
       "        0.44637457, -0.53695324,  0.5811181 ,  0.3645724 ,  0.2941325 ])"
      ]
     },
     "execution_count": 49,
     "metadata": {},
     "output_type": "execute_result"
    }
   ],
   "source": [
    "rng.normal(size=10)"
   ]
  },
  {
   "cell_type": "markdown",
   "id": "86fa0e65",
   "metadata": {},
   "source": [
    "## 8. `np.diff`\n",
    "\n",
    "Take element-wise differences"
   ]
  },
  {
   "cell_type": "code",
   "execution_count": 50,
   "id": "6c891f89",
   "metadata": {},
   "outputs": [
    {
     "data": {
      "text/plain": [
       "array([ 0.02842224,  0.54671299, -0.73645409, ..., -0.322686  ,\n",
       "       -2.06155586, -0.70793319])"
      ]
     },
     "execution_count": 50,
     "metadata": {},
     "output_type": "execute_result"
    }
   ],
   "source": [
    "a = rng.normal(size=100000)\n",
    "a"
   ]
  },
  {
   "cell_type": "code",
   "execution_count": 51,
   "id": "77b434c8",
   "metadata": {},
   "outputs": [
    {
     "name": "stdout",
     "output_type": "stream",
     "text": [
      "16.6 μs ± 771 ns per loop (mean ± std. dev. of 7 runs, 100,000 loops each)\n"
     ]
    }
   ],
   "source": [
    "%%timeit\n",
    "a[1:] - a[: -1]"
   ]
  },
  {
   "cell_type": "code",
   "execution_count": 52,
   "id": "663cc15a",
   "metadata": {},
   "outputs": [
    {
     "name": "stdout",
     "output_type": "stream",
     "text": [
      "17.3 μs ± 434 ns per loop (mean ± std. dev. of 7 runs, 100,000 loops each)\n"
     ]
    }
   ],
   "source": [
    "%%timeit\n",
    "np.diff(a)"
   ]
  },
  {
   "cell_type": "markdown",
   "id": "11906cf8",
   "metadata": {},
   "source": [
    "## 9. `np.cumsum`"
   ]
  },
  {
   "cell_type": "code",
   "execution_count": 53,
   "id": "50ef6f8a",
   "metadata": {},
   "outputs": [
    {
     "data": {
      "text/plain": [
       "array([0, 1, 2, 3, 4])"
      ]
     },
     "execution_count": 53,
     "metadata": {},
     "output_type": "execute_result"
    }
   ],
   "source": [
    "a = np.arange(5)\n",
    "a"
   ]
  },
  {
   "cell_type": "code",
   "execution_count": 54,
   "id": "73084e7a",
   "metadata": {},
   "outputs": [
    {
     "data": {
      "text/plain": [
       "array([ 0,  1,  3,  6, 10])"
      ]
     },
     "execution_count": 54,
     "metadata": {},
     "output_type": "execute_result"
    }
   ],
   "source": [
    "np.cumsum(a)"
   ]
  },
  {
   "cell_type": "markdown",
   "id": "fe39020b",
   "metadata": {},
   "source": [
    "## 10. `np.argmin`/`np.argmax`/`np.argsort`"
   ]
  },
  {
   "cell_type": "code",
   "execution_count": 55,
   "id": "c531d470",
   "metadata": {},
   "outputs": [],
   "source": [
    "a = rng.normal(size=100)"
   ]
  },
  {
   "cell_type": "code",
   "execution_count": 56,
   "id": "d0284cd2",
   "metadata": {},
   "outputs": [
    {
     "data": {
      "text/plain": [
       "np.int64(79)"
      ]
     },
     "execution_count": 56,
     "metadata": {},
     "output_type": "execute_result"
    }
   ],
   "source": [
    "a.argmax()"
   ]
  },
  {
   "cell_type": "code",
   "execution_count": 57,
   "id": "3b7be20c",
   "metadata": {},
   "outputs": [
    {
     "data": {
      "text/plain": [
       "np.int64(0)"
      ]
     },
     "execution_count": 57,
     "metadata": {},
     "output_type": "execute_result"
    }
   ],
   "source": [
    "np.argmax([2, 2, 1])"
   ]
  },
  {
   "cell_type": "code",
   "execution_count": 58,
   "id": "5d284650",
   "metadata": {},
   "outputs": [
    {
     "data": {
      "text/plain": [
       "np.int64(3)"
      ]
     },
     "execution_count": 58,
     "metadata": {},
     "output_type": "execute_result"
    }
   ],
   "source": [
    "a.argmin()"
   ]
  },
  {
   "cell_type": "code",
   "execution_count": 59,
   "id": "e337dc2b",
   "metadata": {},
   "outputs": [
    {
     "data": {
      "text/plain": [
       "array([ 3, 70, 66, 74, 31, 89, 65, 48, 68, 29, 30, 38, 96, 72,  7, 73, 43,\n",
       "        2, 22, 33, 14,  0, 67, 34, 69, 95, 85, 83, 71, 28, 44, 77, 55, 15,\n",
       "       19, 54, 49, 10, 64, 17, 36, 40,  9, 61, 46, 62, 47, 20, 88, 45, 21,\n",
       "       81, 76,  5, 82, 60, 86, 58, 42, 25, 26, 97, 80, 53, 32, 11, 24, 41,\n",
       "       13, 16, 87, 63, 12, 90, 98, 50, 78,  4, 37, 99,  8, 92, 56, 35, 52,\n",
       "       18, 59, 84,  1, 39, 94, 51, 57, 23, 27, 75, 93, 91,  6, 79])"
      ]
     },
     "execution_count": 59,
     "metadata": {},
     "output_type": "execute_result"
    }
   ],
   "source": [
    "a.argsort()"
   ]
  },
  {
   "cell_type": "markdown",
   "id": "526cb52a",
   "metadata": {},
   "source": [
    "## 11. `np.where`/`np.nonzero`\n",
    "\n",
    "Briefly discussed in lecture 2 - find the indices where some condition holds\n",
    "\n",
    "Supposedly `np.nonzero` is slightly faster"
   ]
  },
  {
   "cell_type": "code",
   "execution_count": 60,
   "id": "b708400e",
   "metadata": {},
   "outputs": [
    {
     "name": "stdout",
     "output_type": "stream",
     "text": [
      "0\n"
     ]
    }
   ],
   "source": [
    "list2 = ['a', 'b', 'c', 'a']\n",
    "print(list2.index('a'))"
   ]
  },
  {
   "cell_type": "code",
   "execution_count": 61,
   "id": "1bb5aceb",
   "metadata": {},
   "outputs": [
    {
     "data": {
      "text/plain": [
       "array([0, 3])"
      ]
     },
     "execution_count": 61,
     "metadata": {},
     "output_type": "execute_result"
    }
   ],
   "source": [
    "np.nonzero((np.array(list2) == 'a').astype(int))[0]"
   ]
  },
  {
   "cell_type": "code",
   "execution_count": 62,
   "id": "a3a8ff1e",
   "metadata": {},
   "outputs": [
    {
     "data": {
      "text/plain": [
       "array([0, 3])"
      ]
     },
     "execution_count": 62,
     "metadata": {},
     "output_type": "execute_result"
    }
   ],
   "source": [
    "np.where(np.array(list2) == 'a')[0]"
   ]
  },
  {
   "cell_type": "markdown",
   "id": "5a5eea0f",
   "metadata": {},
   "source": [
    "## 12. `np.bincount`\n",
    "\n",
    "Groupby-sum in NumPy"
   ]
  },
  {
   "cell_type": "code",
   "execution_count": 63,
   "id": "9e1fe739",
   "metadata": {},
   "outputs": [],
   "source": [
    "n = 100\n",
    "n_ids = 10\n",
    "ids = rng.integers(n_ids, size=n)"
   ]
  },
  {
   "cell_type": "code",
   "execution_count": 64,
   "id": "026a2341",
   "metadata": {},
   "outputs": [
    {
     "data": {
      "text/plain": [
       "array([10,  8,  7, 13,  5, 13,  9, 15, 14,  6])"
      ]
     },
     "execution_count": 64,
     "metadata": {},
     "output_type": "execute_result"
    }
   ],
   "source": [
    "np.bincount(ids)"
   ]
  },
  {
   "cell_type": "code",
   "execution_count": 65,
   "id": "8ade0806",
   "metadata": {},
   "outputs": [
    {
     "name": "stdout",
     "output_type": "stream",
     "text": [
      "387 ns ± 3.39 ns per loop (mean ± std. dev. of 7 runs, 1,000,000 loops each)\n"
     ]
    }
   ],
   "source": [
    "%%timeit\n",
    "np.bincount(ids)"
   ]
  },
  {
   "cell_type": "code",
   "execution_count": 67,
   "id": "a71f018f",
   "metadata": {},
   "outputs": [
    {
     "data": {
      "text/plain": [
       "id\n",
       "0    10\n",
       "1     8\n",
       "2     7\n",
       "3    13\n",
       "4     5\n",
       "5    13\n",
       "6     9\n",
       "7    15\n",
       "8    14\n",
       "9     6\n",
       "dtype: int64"
      ]
     },
     "execution_count": 67,
     "metadata": {},
     "output_type": "execute_result"
    }
   ],
   "source": [
    "import pandas as pd\n",
    "pd.DataFrame({'id': ids}).groupby('id').size()"
   ]
  },
  {
   "cell_type": "code",
   "execution_count": 68,
   "id": "08c8b809",
   "metadata": {},
   "outputs": [
    {
     "name": "stdout",
     "output_type": "stream",
     "text": [
      "117 μs ± 8.69 μs per loop (mean ± std. dev. of 7 runs, 10,000 loops each)\n"
     ]
    }
   ],
   "source": [
    "%%timeit\n",
    "pd.DataFrame({'id': ids}).groupby('id').size()"
   ]
  },
  {
   "cell_type": "markdown",
   "id": "739d3e0a",
   "metadata": {},
   "source": [
    "## 13. Sparse matrices"
   ]
  },
  {
   "cell_type": "code",
   "execution_count": 70,
   "id": "33e7520a",
   "metadata": {},
   "outputs": [],
   "source": [
    "from scipy.sparse import csc_matrix"
   ]
  },
  {
   "cell_type": "code",
   "execution_count": 71,
   "id": "76861619",
   "metadata": {},
   "outputs": [],
   "source": [
    "J = csc_matrix((np.ones(n), (np.arange(n), ids)), shape=(n, n_ids))"
   ]
  },
  {
   "cell_type": "code",
   "execution_count": 72,
   "id": "0f8fdfd0",
   "metadata": {},
   "outputs": [
    {
     "data": {
      "text/plain": [
       "matrix([[0., 1., 0., 0., 0., 0., 0., 0., 0., 0.],\n",
       "        [0., 0., 1., 0., 0., 0., 0., 0., 0., 0.],\n",
       "        [0., 0., 0., 0., 0., 0., 1., 0., 0., 0.],\n",
       "        [0., 0., 0., 0., 0., 0., 0., 1., 0., 0.],\n",
       "        [0., 0., 0., 0., 0., 0., 1., 0., 0., 0.],\n",
       "        [0., 0., 0., 0., 0., 0., 0., 0., 1., 0.],\n",
       "        [0., 0., 0., 0., 0., 1., 0., 0., 0., 0.],\n",
       "        [0., 0., 0., 0., 1., 0., 0., 0., 0., 0.],\n",
       "        [0., 0., 0., 1., 0., 0., 0., 0., 0., 0.],\n",
       "        [0., 1., 0., 0., 0., 0., 0., 0., 0., 0.],\n",
       "        [0., 0., 0., 0., 0., 1., 0., 0., 0., 0.],\n",
       "        [0., 0., 0., 0., 0., 0., 0., 0., 1., 0.],\n",
       "        [1., 0., 0., 0., 0., 0., 0., 0., 0., 0.],\n",
       "        [0., 0., 0., 1., 0., 0., 0., 0., 0., 0.],\n",
       "        [0., 0., 0., 0., 1., 0., 0., 0., 0., 0.],\n",
       "        [0., 0., 1., 0., 0., 0., 0., 0., 0., 0.],\n",
       "        [0., 1., 0., 0., 0., 0., 0., 0., 0., 0.],\n",
       "        [0., 0., 0., 0., 1., 0., 0., 0., 0., 0.],\n",
       "        [0., 0., 0., 1., 0., 0., 0., 0., 0., 0.],\n",
       "        [0., 0., 0., 0., 0., 0., 0., 0., 1., 0.],\n",
       "        [0., 0., 0., 0., 0., 0., 0., 1., 0., 0.],\n",
       "        [1., 0., 0., 0., 0., 0., 0., 0., 0., 0.],\n",
       "        [0., 0., 0., 0., 0., 0., 0., 1., 0., 0.],\n",
       "        [0., 0., 0., 0., 0., 0., 0., 1., 0., 0.],\n",
       "        [0., 0., 1., 0., 0., 0., 0., 0., 0., 0.],\n",
       "        [0., 1., 0., 0., 0., 0., 0., 0., 0., 0.],\n",
       "        [1., 0., 0., 0., 0., 0., 0., 0., 0., 0.],\n",
       "        [0., 0., 0., 0., 0., 0., 0., 1., 0., 0.],\n",
       "        [0., 0., 0., 0., 0., 0., 0., 0., 1., 0.],\n",
       "        [0., 0., 0., 0., 1., 0., 0., 0., 0., 0.],\n",
       "        [0., 0., 0., 0., 0., 0., 0., 0., 0., 1.],\n",
       "        [0., 1., 0., 0., 0., 0., 0., 0., 0., 0.],\n",
       "        [0., 0., 0., 0., 0., 1., 0., 0., 0., 0.],\n",
       "        [0., 0., 0., 0., 0., 0., 1., 0., 0., 0.],\n",
       "        [0., 0., 0., 0., 0., 0., 0., 1., 0., 0.],\n",
       "        [1., 0., 0., 0., 0., 0., 0., 0., 0., 0.],\n",
       "        [0., 0., 0., 0., 0., 1., 0., 0., 0., 0.],\n",
       "        [0., 0., 0., 0., 0., 0., 0., 0., 0., 1.],\n",
       "        [0., 0., 0., 0., 0., 0., 0., 1., 0., 0.],\n",
       "        [0., 0., 0., 0., 0., 0., 0., 0., 1., 0.],\n",
       "        [0., 0., 0., 0., 0., 1., 0., 0., 0., 0.],\n",
       "        [0., 0., 0., 0., 0., 0., 0., 0., 1., 0.],\n",
       "        [0., 0., 0., 0., 0., 1., 0., 0., 0., 0.],\n",
       "        [0., 1., 0., 0., 0., 0., 0., 0., 0., 0.],\n",
       "        [0., 0., 1., 0., 0., 0., 0., 0., 0., 0.],\n",
       "        [0., 0., 0., 0., 0., 1., 0., 0., 0., 0.],\n",
       "        [0., 0., 0., 0., 0., 1., 0., 0., 0., 0.],\n",
       "        [0., 0., 0., 0., 0., 0., 0., 0., 1., 0.],\n",
       "        [0., 0., 0., 1., 0., 0., 0., 0., 0., 0.],\n",
       "        [0., 0., 0., 1., 0., 0., 0., 0., 0., 0.],\n",
       "        [0., 0., 0., 0., 0., 0., 0., 0., 1., 0.],\n",
       "        [1., 0., 0., 0., 0., 0., 0., 0., 0., 0.],\n",
       "        [0., 0., 0., 0., 0., 0., 1., 0., 0., 0.],\n",
       "        [0., 0., 0., 1., 0., 0., 0., 0., 0., 0.],\n",
       "        [0., 0., 0., 1., 0., 0., 0., 0., 0., 0.],\n",
       "        [0., 0., 0., 0., 0., 1., 0., 0., 0., 0.],\n",
       "        [0., 1., 0., 0., 0., 0., 0., 0., 0., 0.],\n",
       "        [0., 0., 1., 0., 0., 0., 0., 0., 0., 0.],\n",
       "        [0., 0., 0., 1., 0., 0., 0., 0., 0., 0.],\n",
       "        [0., 0., 0., 0., 0., 0., 0., 0., 0., 1.],\n",
       "        [0., 0., 0., 0., 0., 1., 0., 0., 0., 0.],\n",
       "        [0., 0., 0., 1., 0., 0., 0., 0., 0., 0.],\n",
       "        [1., 0., 0., 0., 0., 0., 0., 0., 0., 0.],\n",
       "        [0., 0., 0., 1., 0., 0., 0., 0., 0., 0.],\n",
       "        [0., 0., 0., 0., 0., 0., 1., 0., 0., 0.],\n",
       "        [0., 0., 0., 0., 0., 0., 0., 1., 0., 0.],\n",
       "        [0., 0., 0., 0., 0., 0., 0., 1., 0., 0.],\n",
       "        [0., 0., 0., 0., 0., 1., 0., 0., 0., 0.],\n",
       "        [0., 0., 0., 0., 0., 0., 0., 0., 1., 0.],\n",
       "        [0., 0., 0., 0., 0., 0., 0., 0., 0., 1.],\n",
       "        [1., 0., 0., 0., 0., 0., 0., 0., 0., 0.],\n",
       "        [0., 0., 0., 0., 0., 0., 0., 0., 1., 0.],\n",
       "        [0., 0., 0., 0., 1., 0., 0., 0., 0., 0.],\n",
       "        [0., 0., 0., 0., 0., 0., 0., 1., 0., 0.],\n",
       "        [0., 0., 0., 1., 0., 0., 0., 0., 0., 0.],\n",
       "        [1., 0., 0., 0., 0., 0., 0., 0., 0., 0.],\n",
       "        [0., 0., 0., 0., 0., 0., 0., 0., 1., 0.],\n",
       "        [0., 0., 0., 0., 0., 0., 0., 1., 0., 0.],\n",
       "        [0., 0., 0., 0., 0., 0., 1., 0., 0., 0.],\n",
       "        [1., 0., 0., 0., 0., 0., 0., 0., 0., 0.],\n",
       "        [0., 0., 0., 0., 0., 0., 1., 0., 0., 0.],\n",
       "        [0., 0., 0., 0., 0., 1., 0., 0., 0., 0.],\n",
       "        [0., 0., 1., 0., 0., 0., 0., 0., 0., 0.],\n",
       "        [0., 0., 0., 0., 0., 0., 0., 0., 1., 0.],\n",
       "        [0., 1., 0., 0., 0., 0., 0., 0., 0., 0.],\n",
       "        [1., 0., 0., 0., 0., 0., 0., 0., 0., 0.],\n",
       "        [0., 0., 0., 0., 0., 0., 1., 0., 0., 0.],\n",
       "        [0., 0., 0., 0., 0., 0., 1., 0., 0., 0.],\n",
       "        [0., 0., 0., 0., 0., 1., 0., 0., 0., 0.],\n",
       "        [0., 0., 0., 0., 0., 0., 0., 1., 0., 0.],\n",
       "        [0., 0., 0., 0., 0., 0., 0., 1., 0., 0.],\n",
       "        [0., 0., 0., 1., 0., 0., 0., 0., 0., 0.],\n",
       "        [0., 0., 0., 0., 0., 0., 0., 0., 1., 0.],\n",
       "        [0., 0., 1., 0., 0., 0., 0., 0., 0., 0.],\n",
       "        [0., 0., 0., 0., 0., 0., 0., 0., 0., 1.],\n",
       "        [0., 0., 0., 0., 0., 0., 0., 1., 0., 0.],\n",
       "        [0., 0., 0., 1., 0., 0., 0., 0., 0., 0.],\n",
       "        [0., 0., 0., 0., 0., 0., 0., 1., 0., 0.],\n",
       "        [0., 0., 0., 0., 0., 0., 0., 0., 0., 1.],\n",
       "        [0., 0., 0., 0., 0., 0., 0., 0., 1., 0.]])"
      ]
     },
     "execution_count": 72,
     "metadata": {},
     "output_type": "execute_result"
    }
   ],
   "source": [
    "J.todense()"
   ]
  },
  {
   "cell_type": "code",
   "execution_count": 73,
   "id": "75078569",
   "metadata": {},
   "outputs": [
    {
     "data": {
      "text/plain": [
       "matrix([[10.,  0.,  0.,  0.,  0.,  0.,  0.,  0.,  0.,  0.],\n",
       "        [ 0.,  8.,  0.,  0.,  0.,  0.,  0.,  0.,  0.,  0.],\n",
       "        [ 0.,  0.,  7.,  0.,  0.,  0.,  0.,  0.,  0.,  0.],\n",
       "        [ 0.,  0.,  0., 13.,  0.,  0.,  0.,  0.,  0.,  0.],\n",
       "        [ 0.,  0.,  0.,  0.,  5.,  0.,  0.,  0.,  0.,  0.],\n",
       "        [ 0.,  0.,  0.,  0.,  0., 13.,  0.,  0.,  0.,  0.],\n",
       "        [ 0.,  0.,  0.,  0.,  0.,  0.,  9.,  0.,  0.,  0.],\n",
       "        [ 0.,  0.,  0.,  0.,  0.,  0.,  0., 15.,  0.,  0.],\n",
       "        [ 0.,  0.,  0.,  0.,  0.,  0.,  0.,  0., 14.,  0.],\n",
       "        [ 0.,  0.,  0.,  0.,  0.,  0.,  0.,  0.,  0.,  6.]])"
      ]
     },
     "execution_count": 73,
     "metadata": {},
     "output_type": "execute_result"
    }
   ],
   "source": [
    "(J.T @ J).todense()"
   ]
  },
  {
   "cell_type": "code",
   "execution_count": 193,
   "id": "f79fb10e",
   "metadata": {},
   "outputs": [
    {
     "name": "stdout",
     "output_type": "stream",
     "text": [
      "702 ms ± 9.54 ms per loop (mean ± std. dev. of 7 runs, 1 loop each)\n"
     ]
    }
   ],
   "source": [
    "%%timeit\n",
    "(J.T @ J)"
   ]
  },
  {
   "cell_type": "markdown",
   "id": "590e31e8",
   "metadata": {},
   "source": [
    "## 14. Matrix multiplication with diagonal matrices"
   ]
  },
  {
   "cell_type": "code",
   "execution_count": 74,
   "id": "285d5a96",
   "metadata": {},
   "outputs": [],
   "source": [
    "n = int(3 * 1e3)\n",
    "a = rng.normal(size=(n, n))\n",
    "b = rng.normal(size=n)"
   ]
  },
  {
   "cell_type": "code",
   "execution_count": 75,
   "id": "64c61b20",
   "metadata": {},
   "outputs": [
    {
     "data": {
      "text/plain": [
       "array([[ 0.39764678,  0.        ,  0.        , ...,  0.        ,\n",
       "         0.        ,  0.        ],\n",
       "       [ 0.        , -0.14556918,  0.        , ...,  0.        ,\n",
       "         0.        ,  0.        ],\n",
       "       [ 0.        ,  0.        , -1.25757697, ...,  0.        ,\n",
       "         0.        ,  0.        ],\n",
       "       ...,\n",
       "       [ 0.        ,  0.        ,  0.        , ...,  0.36896037,\n",
       "         0.        ,  0.        ],\n",
       "       [ 0.        ,  0.        ,  0.        , ...,  0.        ,\n",
       "        -0.99112756,  0.        ],\n",
       "       [ 0.        ,  0.        ,  0.        , ...,  0.        ,\n",
       "         0.        ,  0.4753226 ]])"
      ]
     },
     "execution_count": 75,
     "metadata": {},
     "output_type": "execute_result"
    }
   ],
   "source": [
    "np.diag(b)"
   ]
  },
  {
   "cell_type": "code",
   "execution_count": 76,
   "id": "c79b8962",
   "metadata": {},
   "outputs": [
    {
     "name": "stdout",
     "output_type": "stream",
     "text": [
      "122 ms ± 10.1 ms per loop (mean ± std. dev. of 7 runs, 1 loop each)\n"
     ]
    }
   ],
   "source": [
    "%%timeit\n",
    "np.diag(b) @ a"
   ]
  },
  {
   "cell_type": "code",
   "execution_count": 77,
   "id": "ac371a42",
   "metadata": {},
   "outputs": [
    {
     "name": "stdout",
     "output_type": "stream",
     "text": [
      "8.23 ms ± 60.3 μs per loop (mean ± std. dev. of 7 runs, 100 loops each)\n"
     ]
    }
   ],
   "source": [
    "%%timeit\n",
    "b[:, None] * a"
   ]
  },
  {
   "cell_type": "code",
   "execution_count": 78,
   "id": "04f11ff1",
   "metadata": {},
   "outputs": [
    {
     "name": "stdout",
     "output_type": "stream",
     "text": [
      "114 ms ± 1.71 ms per loop (mean ± std. dev. of 7 runs, 10 loops each)\n"
     ]
    }
   ],
   "source": [
    "%%timeit\n",
    "a @ np.diag(b)"
   ]
  },
  {
   "cell_type": "code",
   "execution_count": 79,
   "id": "f2c0021b",
   "metadata": {},
   "outputs": [
    {
     "name": "stdout",
     "output_type": "stream",
     "text": [
      "8.33 ms ± 99.7 μs per loop (mean ± std. dev. of 7 runs, 100 loops each)\n"
     ]
    }
   ],
   "source": [
    "%%timeit\n",
    "b[None, :] * a"
   ]
  }
 ],
 "metadata": {
  "kernelspec": {
   "display_name": "Python 3 (ipykernel)",
   "language": "python",
   "name": "python3"
  },
  "language_info": {
   "codemirror_mode": {
    "name": "ipython",
    "version": 3
   },
   "file_extension": ".py",
   "mimetype": "text/x-python",
   "name": "python",
   "nbconvert_exporter": "python",
   "pygments_lexer": "ipython3",
   "version": "3.12.3"
  }
 },
 "nbformat": 4,
 "nbformat_minor": 5
}
